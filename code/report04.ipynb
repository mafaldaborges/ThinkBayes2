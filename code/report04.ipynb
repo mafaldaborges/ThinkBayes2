{
 "cells": [
  {
   "cell_type": "markdown",
   "metadata": {},
   "source": [
    "# Report 4\n",
    "\n",
    "## Mafalda Borges"
   ]
  },
  {
   "cell_type": "code",
   "execution_count": 2,
   "metadata": {
    "collapsed": true
   },
   "outputs": [],
   "source": [
    "from __future__ import print_function, division\n",
    "\n",
    "% matplotlib inline\n",
    "import warnings\n",
    "warnings.filterwarnings('ignore')\n",
    "\n",
    "import math\n",
    "import numpy as np\n",
    "\n",
    "from thinkbayes2 import Pmf, Cdf, Suite, Joint, EvalExponentialPdf, MakePoissonPmf, MakeMixture\n",
    "import thinkplot"
   ]
  },
  {
   "cell_type": "markdown",
   "metadata": {},
   "source": [
    "This next problem was taken from Allen Downey's notebook."
   ]
  },
  {
   "cell_type": "markdown",
   "metadata": {},
   "source": [
    "## World Cup Problem\n",
    "\n",
    "In the 2014 FIFA World Cup, Germany played Brazil in a semifinal match. Germany scored after 11 minutes and again at the 23 minute mark. At that point in the match, how many goals would you expect Germany to score after 90 minutes? What was the probability that they would score 5 more goals (as, in fact, they did)?\n",
    "\n",
    "Note: for this one you will need a new suite that provides a Likelihood function that takes as data the time between goals, rather than the number of goals in a game. "
   ]
  },
  {
   "cell_type": "markdown",
   "metadata": {},
   "source": [
    "I am going to assume that a Poisson process is a reasonable model to use for soccer games just like for hockey games, which assumes that goal scoring can be modeled by some fixed rate $\\lambda $. This means probability of scoring a goal during any point in the game is the same.\n",
    "\n",
    "Given the distribution is a Poisson process then the distribution of time between goals is exponential with $\\lambda $ being the goal scoring rate. We know that the first goal was scored at 11 minutes and the next goal occured 12 minutes later. \n",
    "\n",
    "First I will create a class that inherits from Suite and creates a likelihood function."
   ]
  },
  {
   "cell_type": "code",
   "execution_count": 3,
   "metadata": {
    "collapsed": true
   },
   "outputs": [],
   "source": [
    "class Soccer(Suite):\n",
    "    \"\"\"Hypotheses about goal scoring rates\"\"\"\n",
    "    def Likelihood(self, data, hypo):\n",
    "        \"\"\"Likelihood of data under hypothesis\n",
    "        hypo: goal rate in (goals/game)\n",
    "        data: time between goals\"\"\"\n",
    "        \n",
    "        x = data\n",
    "        lam = hypo/90.0\n",
    "        like = EvalExponentialPdf(x, lam)\n",
    "        return like"
   ]
  },
  {
   "cell_type": "markdown",
   "metadata": {},
   "source": [
    "This is returns the likelihood of the data given that the data is the time between goals in minutes and hypo is the predicted goal scoring rate in goals per game. \n",
    "\n",
    "Now we need to construct a prior. The average number of goals scored per game for the tournament was 2.7. I am going to construct a uniform distribution and update it so it has a mean of 2.7 goals. \n",
    "\n",
    "Data from: https://www.statista.com/statistics/269031/goals-scored-per-game-at-the-fifa-world-cup-since-1930/"
   ]
  },
  {
   "cell_type": "code",
   "execution_count": 4,
   "metadata": {
    "collapsed": false
   },
   "outputs": [
    {
     "data": {
      "text/plain": [
       "2.7252648918157445"
      ]
     },
     "execution_count": 4,
     "metadata": {},
     "output_type": "execute_result"
    },
    {
     "data": {
      "image/png": "[encoded data removed]",
      "text/plain": [
       "<matplotlib.figure.Figure at 0x7f46bafbb450>"
      ]
     },
     "metadata": {},
     "output_type": "display_data"
    }
   ],
   "source": [
    "hypos = np.linspace(0, 15, 201)\n",
    "suite = Soccer(hypos)\n",
    "suite.Update(66)\n",
    "thinkplot.Pdf(suite)\n",
    "suite.Mean()"
   ]
  },
  {
   "cell_type": "markdown",
   "metadata": {},
   "source": [
    "Now we can update our distribution with information from the actual game. The first goal was scored in 11 minutes, and the next goal game was about 12 minutes later."
   ]
  },
  {
   "cell_type": "code",
   "execution_count": 5,
   "metadata": {
    "collapsed": false
   },
   "outputs": [
    {
     "data": {
      "text/plain": [
       "4.0420735012024362"
      ]
     },
     "execution_count": 5,
     "metadata": {},
     "output_type": "execute_result"
    },
    {
     "data": {
      "image/png": "[encoded data removed]",
      "text/plain": [
       "<matplotlib.figure.Figure at 0x7f46abd15190>"
      ]
     },
     "metadata": {},
     "output_type": "display_data"
    }
   ],
   "source": [
    "suite.Update(11)\n",
    "suite.Update(12)\n",
    "thinkplot.Pdf(suite)\n",
    "suite.Mean()"
   ]
  },
  {
   "cell_type": "markdown",
   "metadata": {},
   "source": [
    "Now my models believes that about 4 goals will be scored per game."
   ]
  },
  {
   "cell_type": "markdown",
   "metadata": {},
   "source": [
    "We have to predict how many goals will be scored in the remaining amount of time by Germany. We will use the posterior distribution of $\\lambda$ to create a predictive distribution for the number of goals that will be scored in the remaining time."
   ]
  },
  {
   "cell_type": "code",
   "execution_count": 6,
   "metadata": {
    "collapsed": false
   },
   "outputs": [],
   "source": [
    "def GoalsScored(suite, time_left):\n",
    "    \"\"\"Plots the predictive distribution for additional number of goals.\n",
    "\n",
    "    suite: posterior distribution of lambda in goals per game\n",
    "    time_left: how much of the game is left in minutes\n",
    "    \"\"\"\n",
    "    metapmf = Pmf()\n",
    "    for lam, prob in suite.Items():\n",
    "        lt = lam * time_left / 90\n",
    "        pred = MakePoissonPmf(lt, 15)\n",
    "        metapmf[pred] = prob\n",
    "\n",
    "    mix = MakeMixture(metapmf)\n",
    "    return mix\n",
    "\n",
    "mix = GoalsScored(suite, 90-23)"
   ]
  },
  {
   "cell_type": "code",
   "execution_count": 7,
   "metadata": {
    "collapsed": false
   },
   "outputs": [
    {
     "data": {
      "image/png": "[encoded data removed]",
      "text/plain": [
       "<matplotlib.figure.Figure at 0x7f46ab9e86d0>"
      ]
     },
     "metadata": {},
     "output_type": "display_data"
    }
   ],
   "source": [
    "thinkplot.Hist(mix)\n"
   ]
  },
  {
   "cell_type": "code",
   "execution_count": 8,
   "metadata": {
    "collapsed": false
   },
   "outputs": [
    {
     "data": {
      "text/plain": [
       "0.2224156339145239"
      ]
     },
     "execution_count": 8,
     "metadata": {},
     "output_type": "execute_result"
    }
   ],
   "source": [
    "mix.ProbGreater(4)"
   ]
  },
  {
   "cell_type": "code",
   "execution_count": 9,
   "metadata": {
    "collapsed": false
   },
   "outputs": [
    {
     "data": {
      "text/plain": [
       "3.0070627149748601"
      ]
     },
     "execution_count": 9,
     "metadata": {},
     "output_type": "execute_result"
    }
   ],
   "source": [
    "mix.Mean()"
   ]
  },
  {
   "cell_type": "markdown",
   "metadata": {},
   "source": [
    "My model predicts a 22% chance of scoring 5 or more times which seems unreasonably high for a soccer game. "
   ]
  },
  {
   "cell_type": "markdown",
   "metadata": {},
   "source": [
    "# Rain Problem"
   ]
  },
  {
   "cell_type": "markdown",
   "metadata": {},
   "source": [
    "This problem comes from Allen Downey.\n",
    "\n",
    "You're about to get on a plane to Seattle. You want to know if you should bring an umbrella. You call 3 random friends of yours who live there and ask each independently if it's raining. Each of your friends has a 2/3 chance of telling you the truth and a 1/3 chance of messing with you by lying. All 3 friends tell you that \"Yes\" it is raining. What is the probability that it's actually raining in Seattle?\n"
   ]
  },
  {
   "cell_type": "markdown",
   "metadata": {},
   "source": [
    "To set up this problem we know that there is a 2/3 chance of each of the 3 friends telling the truth. All three friends said that it was raining, and we want to know if it is actually raining. We can set up a class that returns the likelihood that it is raining, given a response of yes or no.\n",
    "\n",
    "Now we need to think about how much it actually rains in Seattle. Contrary to popular belief, it is more often not raining than raining. We were provided data from http://www.wrcc.dri.edu/htmlfiles/hrsofppt.html which gives us the mean number of hours of rain per month and the total amount per year. Seattle rain patterns change drastically during the seasons. In the winter you can expect to never see the sun, while the summer actually produces some sunny days. "
   ]
  },
  {
   "cell_type": "code",
   "execution_count": 61,
   "metadata": {
    "collapsed": true
   },
   "outputs": [],
   "source": []
  },
  {
   "cell_type": "markdown",
   "metadata": {},
   "source": [
    "Now I need calculate the probability of raining given the month. We are given the total number of hours of rain per month, and we can calculate the number of hours in a month.\n"
   ]
  },
  {
   "cell_type": "code",
   "execution_count": 66,
   "metadata": {
    "collapsed": false
   },
   "outputs": [],
   "source": [
    "prob_Jan = 137.0/(31*24)\n",
    "prob_Feb = 107.0/(28*24)\n",
    "prob_Mar = 104.0/(31*24)\n",
    "prob_Apr = 74.0/(30*24)\n",
    "prob_May = 48.0/(31*24)\n",
    "prob_Jun = 37.0/(30*24)\n",
    "prob_Jul = 21.0/(31*24)\n",
    "prob_Aug = 25.0/(31*24)\n",
    "prob_Sep = 40.0/(30*24)\n",
    "prob_Oct = 71.0/(31*24)\n",
    "prob_Nov = 124.0/(30*24)\n",
    "prob_Dec = 134.0/(31*24)\n",
    "\n",
    "#I am using 1 to represent Jan, 2 for February...\n",
    "\n",
    "probMonth = {1: prob_Jan, 2: prob_Feb, 3: prob_Mar, 4: prob_Apr, 5: prob_May, 6: prob_Jun, 7: prob_Jul, 8: prob_Aug, 9: prob_Sep, 10: prob_Oct, 11: prob_Nov, 12: prob_Dec}\n"
   ]
  },
  {
   "cell_type": "code",
   "execution_count": 69,
   "metadata": {
    "collapsed": true
   },
   "outputs": [],
   "source": [
    "class Rain(Suite):\n",
    "    def Likelihood(self, data, hypo):\n",
    "        \"\"\"data: yes or no reponse by friends\n",
    "        hypo: whether or not it is raining during a certain month\"\"\"\n",
    "        probTruth = 2.0/3\n",
    "        hypo = month\n",
    "        if data == 'yes':\n",
    "            return probTruth * probMonth[month]\n",
    "        else:\n",
    "            return (1-probTruth) * probMonth[month]"
   ]
  },
  {
   "cell_type": "code",
   "execution_count": 70,
   "metadata": {
    "collapsed": false
   },
   "outputs": [
    {
     "name": "stdout",
     "output_type": "stream",
     "text": [
      "1 0.145337896718\n",
      "2 0.125674088481\n",
      "3 0.110329498238\n",
      "4 0.08112047082\n",
      "5 0.0509213068792\n",
      "6 0.04056023541\n",
      "7 0.0222780717596\n",
      "8 0.0265215139996\n",
      "9 0.043848903146\n",
      "10 0.0753210997588\n",
      "11 0.135931599752\n",
      "12 0.142155315038\n"
     ]
    }
   ],
   "source": [
    "rain_month = Rain(probMonth)\n",
    "rain_month.Print()"
   ]
  },
  {
   "cell_type": "markdown",
   "metadata": {},
   "source": [
    "Above shows us the probability that it is raining in any given month. next we need to update the distribution with the data or the three yes responses.  "
   ]
  },
  {
   "cell_type": "code",
   "execution_count": 71,
   "metadata": {
    "collapsed": false
   },
   "outputs": [
    {
     "name": "stdout",
     "output_type": "stream",
     "text": [
      "1 0.145337896718\n",
      "2 0.125674088481\n",
      "3 0.110329498238\n",
      "4 0.08112047082\n",
      "5 0.0509213068792\n",
      "6 0.04056023541\n",
      "7 0.0222780717596\n",
      "8 0.0265215139996\n",
      "9 0.043848903146\n",
      "10 0.0753210997588\n",
      "11 0.135931599752\n",
      "12 0.142155315038\n"
     ]
    },
    {
     "data": {
      "image/png": "[encoded data removed]",
      "text/plain": [
       "<matplotlib.figure.Figure at 0x7f46a9769690>"
      ]
     },
     "metadata": {},
     "output_type": "display_data"
    }
   ],
   "source": [
    "rain_month.UpdateSet(['yes', 'yes', 'yes'])\n",
    "rain_month.Print()\n",
    "thinkplot.Hist(rain_month)"
   ]
  },
  {
   "cell_type": "markdown",
   "metadata": {},
   "source": [
    "When taking into account the weather, it seems very unlikely that your friends are telling the truth, or you just picked a very good day to call on. Your friends also just may think it is funny that you are thinking about bringing an umbrella to Seattle, because the joke goes that you can always spot the tourist if he is carrying an umbrella. "
   ]
  },
  {
   "cell_type": "markdown",
   "metadata": {},
   "source": [
    "# Extended Paintball"
   ]
  },
  {
   "cell_type": "markdown",
   "metadata": {},
   "source": [
    "The following problem was taken from Allen Downey.\n",
    "\n",
    "In our simple model, the opponent is equally likely to shoot in any direction. As an exercise, let’s consider improvements to this model. The analysis in this chapter suggests that a shooter is most likely to hit the closest wall. But in reality, if the opponent is close to a wall, he is unlikely to shoot at the wall because he is unlikely to see a target between himself and the wall.\n",
    "Design an improved model that takes this behavior into account. Try to find a model that is more realistic, but not too complicated."
   ]
  },
  {
   "cell_type": "markdown",
   "metadata": {},
   "source": [
    "First we will take the paintball class given by Allen. "
   ]
  },
  {
   "cell_type": "code",
   "execution_count": 72,
   "metadata": {
    "collapsed": true
   },
   "outputs": [],
   "source": [
    "class Paintball(Suite, Joint):\n",
    "    \"\"\"Represents hypotheses about the location of an opponent.\"\"\"\n",
    "\n",
    "    def __init__(self, alphas, betas, locations):\n",
    "        \"\"\"Makes a joint suite of parameters alpha and beta.\n",
    "\n",
    "        Enumerates all pairs of alpha and beta.\n",
    "        Stores locations for use in Likelihood.\n",
    "\n",
    "        alphas: possible values for alpha\n",
    "        betas: possible values for beta\n",
    "        locations: possible locations along the wall\n",
    "        \"\"\"\n",
    "        self.locations = locations\n",
    "        pairs = [(alpha, beta) \n",
    "                 for alpha in alphas \n",
    "                 for beta in betas]\n",
    "        Suite.__init__(self, pairs)\n",
    "\n",
    "    def Likelihood(self, data, hypo):\n",
    "        \"\"\"Computes the likelihood of the data under the hypothesis.\n",
    "\n",
    "        hypo: pair of alpha, beta\n",
    "        data: location of a hit\n",
    "\n",
    "        Returns: float likelihood\n",
    "        \"\"\"\n",
    "        alpha, beta = hypo\n",
    "        x = data\n",
    "        pmf = MakeLocationPmf(alpha, beta, self.locations)\n",
    "        like = pmf.Prob(x)\n",
    "        return like"
   ]
  },
  {
   "cell_type": "markdown",
   "metadata": {},
   "source": [
    "We will however modify the make location Pmf such that it bcomes less likely that a shooter will shoot the wall close to him. We will multiply the probability by the distance he is away, because he is likely to shoot things further away from him. "
   ]
  },
  {
   "cell_type": "code",
   "execution_count": 73,
   "metadata": {
    "collapsed": true
   },
   "outputs": [],
   "source": [
    "def MakeLocationPmf(alpha, beta, locations):\n",
    "    \"\"\"Computes the Pmf of the locations, given alpha and beta. \n",
    "\n",
    "    Given that the shooter is at coordinates (alpha, beta),\n",
    "    the probability of hitting any spot is inversely proportionate\n",
    "    to the strafe speed.\n",
    "\n",
    "    alpha: x position\n",
    "    beta: y position\n",
    "    locations: x locations where the pmf is evaluated\n",
    "\n",
    "    Returns: Pmf object\n",
    "    \"\"\"\n",
    "    pmf = Pmf()\n",
    "    for x in locations:\n",
    "        distance = ((alpha-x)**2 + beta**2)**.5\n",
    "        prob = (1.0*distance) / StrafingSpeed(alpha, beta, x) \n",
    "        pmf.Set(x, prob)\n",
    "    pmf.Normalize()\n",
    "    return pmf"
   ]
  },
  {
   "cell_type": "code",
   "execution_count": 74,
   "metadata": {
    "collapsed": true
   },
   "outputs": [],
   "source": [
    "def StrafingSpeed(alpha, beta, x):\n",
    "    \"\"\"Computes strafing speed, given location of shooter and impact.\n",
    "\n",
    "    alpha: x location of shooter\n",
    "    beta: y location of shooter\n",
    "    x: location of impact\n",
    "\n",
    "    Returns: derivative of x with respect to theta\n",
    "    \"\"\"\n",
    "    theta = math.atan2(x - alpha, beta)\n",
    "    speed = beta / math.cos(theta)**2\n",
    "    return speed"
   ]
  },
  {
   "cell_type": "code",
   "execution_count": 75,
   "metadata": {
    "collapsed": false
   },
   "outputs": [
    {
     "data": {
      "text/plain": [
       "1.441072655985378e-06"
      ]
     },
     "execution_count": 75,
     "metadata": {},
     "output_type": "execute_result"
    }
   ],
   "source": [
    "alphas = range(0, 31)\n",
    "betas = range(1, 51)\n",
    "locations = range(0, 31)\n",
    "\n",
    "suite = Paintball(alphas, betas, locations)\n",
    "suite.UpdateSet([15, 16, 18, 21])"
   ]
  },
  {
   "cell_type": "code",
   "execution_count": 76,
   "metadata": {
    "collapsed": false
   },
   "outputs": [
    {
     "data": {
      "image/png": "[encoded data removed]",
      "text/plain": [
       "<matplotlib.figure.Figure at 0x7f46a96b65d0>"
      ]
     },
     "metadata": {},
     "output_type": "display_data"
    }
   ],
   "source": [
    "locations = range(0, 31)\n",
    "alpha = 10\n",
    "betas = [10, 20, 40]\n",
    "thinkplot.PrePlot(num=len(betas))\n",
    "\n",
    "for beta in betas:\n",
    "    pmf = MakeLocationPmf(alpha, beta, locations)\n",
    "    pmf.label = 'beta = %d' % beta\n",
    "    thinkplot.Pdf(pmf)\n",
    "\n",
    "thinkplot.Config(xlabel='Distance',\n",
    "                ylabel='Prob')"
   ]
  },
  {
   "cell_type": "code",
   "execution_count": 77,
   "metadata": {
    "collapsed": false
   },
   "outputs": [
    {
     "data": {
      "image/png": "[encoded data removed]",
      "text/plain": [
       "<matplotlib.figure.Figure at 0x7f46a9571050>"
      ]
     },
     "metadata": {},
     "output_type": "display_data"
    }
   ],
   "source": [
    "betas = [10, 20, 40]\n",
    "thinkplot.PrePlot(num=len(betas))\n",
    "\n",
    "for beta in betas:\n",
    "    cond = suite.Conditional(0, 1, beta)\n",
    "    cond.label = 'beta = %d' % beta\n",
    "    thinkplot.Pdf(cond)\n",
    "\n",
    "thinkplot.Config(xlabel='Distance',\n",
    "                ylabel='Prob')\n"
   ]
  },
  {
   "cell_type": "code",
   "execution_count": 78,
   "metadata": {
    "collapsed": false
   },
   "outputs": [
    {
     "data": {
      "image/png": "[encoded data removed]",
      "text/plain": [
       "<matplotlib.figure.Figure at 0x7f46a96de3d0>"
      ]
     },
     "metadata": {},
     "output_type": "display_data"
    }
   ],
   "source": [
    "thinkplot.Contour(suite.GetDict(), contour=False, pcolor=True)\n",
    "\n",
    "thinkplot.Config(xlabel='alpha',\n",
    "                ylabel='beta',\n",
    "                axis=[0, 30, 0, 20])\n"
   ]
  },
  {
   "cell_type": "code",
   "execution_count": 79,
   "metadata": {
    "collapsed": false
   },
   "outputs": [
    {
     "data": {
      "image/png": "[encoded data removed]",
      "text/plain": [
       "<matplotlib.figure.Figure at 0x7f46aba2ac90>"
      ]
     },
     "metadata": {},
     "output_type": "display_data"
    }
   ],
   "source": [
    "d = dict((pair, 0) for pair in suite.Values())\n",
    "\n",
    "percentages = [75, 50, 25]\n",
    "for p in percentages:\n",
    "    interval = suite.MaxLikeInterval(p)\n",
    "    for pair in interval:\n",
    "        d[pair] += 1\n",
    "\n",
    "thinkplot.Contour(d, contour=False, pcolor=True)\n",
    "thinkplot.Text(17, 4, '25', color='white')\n",
    "thinkplot.Text(17, 15, '50', color='white')\n",
    "thinkplot.Text(17, 30, '75')\n",
    "\n",
    "thinkplot.Config(xlabel='alpha',\n",
    "                   ylabel='beta',\n",
    "                   legend=False)\n"
   ]
  },
  {
   "cell_type": "markdown",
   "metadata": {},
   "source": [
    "Given that we think the shooter is further from the wall we are less of his position. The further he gets from the wall the less we know about him. "
   ]
  },
  {
   "cell_type": "markdown",
   "metadata": {},
   "source": [
    "# Original Problem"
   ]
  },
  {
   "cell_type": "markdown",
   "metadata": {},
   "source": [
    "You decided to grow zucchini garden for the second year because they are very hard to kill and can freeze well so you can later make bread with them. You made very copious notes of how long it took last year for the zucchinis to grow after planting them. You found that for one plant 2 zuchinis came up on the 36th day, 1 on the 38th day, 2 on the 39th day, 2 on the 43rd day, 1 on the 44th day, 3 on the 46th day, 2 on the 49th day, and 1 on the 50th day. On the 51 day there was a frost and killed the remaining 6 zucchini which would have become ripe later. You have been asked to make zucchini bread for your friend's party that is 44 days away. She wants you to make 50 loaves of bread, so how many plants should you plant?"
   ]
  },
  {
   "cell_type": "markdown",
   "metadata": {},
   "source": [
    "Based on last year, you know that each plant produces about 20 zucchini's in a season and it takes 1 zucchini per loaf of bread. We can use a Weibull model to see how many plants to plant. It takes in parameters lambda and k to make a curve. Because I do not know lamda and k I will use a uniform distribution for both and iterate through the possible combinations.\n"
   ]
  },
  {
   "cell_type": "code",
   "execution_count": null,
   "metadata": {
    "collapsed": true
   },
   "outputs": [],
   "source": []
  },
  {
   "cell_type": "code",
   "execution_count": 93,
   "metadata": {
    "collapsed": true
   },
   "outputs": [],
   "source": [
    "from thinkbayes2 import EvalWeibullPdf, EvalWeibullCdf, MakeWeibullPmf\n",
    "from thinkbayes2 import MakeMixture\n",
    "from itertools import product\n",
    "\n",
    "class Zucchini(Suite, Joint):\n",
    "    \"\"\"lam: parameter lambda in zucchinis per day\n",
    "    k: parameter\n",
    "    return: probability density\n",
    "    \"\"\"\n",
    "    def Likelihood(self, data, hypo):\n",
    "        lam, k = hypo\n",
    "        if lam == 0:\n",
    "            return 0\n",
    "        flag, x = data\n",
    "        if flag == 'eq':\n",
    "            like = EvalWeibullPdf(x, lam, k)\n",
    "        elif flag == 'gt':\n",
    "            like = 1 - EvalWeibullCdf(x, lam, k)\n",
    "        else:\n",
    "            raise ValueError('Invalid data')\n",
    "        return like"
   ]
  },
  {
   "cell_type": "code",
   "execution_count": 87,
   "metadata": {
    "collapsed": true
   },
   "outputs": [],
   "source": [
    "lams = np.linspace(0, 100, 101)\n",
    "ks = np.linspace(0, 20, 101)\n",
    "data = [(\"eq\", 36), (\"eq\",36), (\"eq\", 38), (\"eq\", 39), (\"eq\", 39),\n",
    "       (\"eq\",43), (\"eq\", 43), (\"eq\", 44), (\"eq\", 46), (\"eq\", 46),\n",
    "       (\"eq\", 46), (\"eq\", 49), (\"eq\", 49), (\"eq\", 50), (\"gt\", 51), \n",
    "       (\"gt\", 51), (\"gt\", 51), (\"gt\", 51), (\"gt\", 51), (\"gt\", 51)]"
   ]
  },
  {
   "cell_type": "code",
   "execution_count": 88,
   "metadata": {
    "collapsed": false
   },
   "outputs": [
    {
     "data": {
      "text/plain": [
       "6.2804705181752108e-26"
      ]
     },
     "execution_count": 88,
     "metadata": {},
     "output_type": "execute_result"
    }
   ],
   "source": [
    "zucchini = Zucchini(product(lams, ks))\n",
    "zucchini.UpdateSet(data)"
   ]
  },
  {
   "cell_type": "markdown",
   "metadata": {},
   "source": [
    "I can look at the marginal distributions, lamda and k, of my Weibull distribution."
   ]
  },
  {
   "cell_type": "code",
   "execution_count": 89,
   "metadata": {
    "collapsed": false
   },
   "outputs": [
    {
     "data": {
      "image/png": "[encoded data removed]",
      "text/plain": [
       "<matplotlib.figure.Figure at 0x7f46abda27d0>"
      ]
     },
     "metadata": {},
     "output_type": "display_data"
    }
   ],
   "source": [
    "pmf_lam = zucchini.Marginal(0)\n",
    "thinkplot.Pdf(pmf_lam)"
   ]
  },
  {
   "cell_type": "code",
   "execution_count": 90,
   "metadata": {
    "collapsed": false
   },
   "outputs": [
    {
     "data": {
      "image/png": "[encoded data removed]",
      "text/plain": [
       "<matplotlib.figure.Figure at 0x7f46a94ea510>"
      ]
     },
     "metadata": {},
     "output_type": "display_data"
    }
   ],
   "source": [
    "pmf_ks = zucchini.Marginal(1)\n",
    "thinkplot.Pdf(pmf_ks)"
   ]
  },
  {
   "cell_type": "markdown",
   "metadata": {},
   "source": [
    "Next I will make a predictive model, which will tell me how many plants I will need to have 50 ripe zucchinis on the 43rd day. "
   ]
  },
  {
   "cell_type": "code",
   "execution_count": 107,
   "metadata": {
    "collapsed": true
   },
   "outputs": [],
   "source": [
    "numberPlants = 8\n",
    "zucchiniPerPlant = 20\n",
    "n = numberPlants * zucchiniPerPlant\n",
    "t_return = 44\n"
   ]
  },
  {
   "cell_type": "code",
   "execution_count": 108,
   "metadata": {
    "collapsed": true
   },
   "outputs": [],
   "source": [
    "metapmf = Pmf()\n",
    "for (lam, k), prob in zucchini.Items():\n",
    "    p = EvalWeibullCdf(t_return, lam, k)\n",
    "    pmf = MakeBinomialPmf(n,p)\n",
    "    metapmf[pmf] = prob"
   ]
  },
  {
   "cell_type": "code",
   "execution_count": 109,
   "metadata": {
    "collapsed": false
   },
   "outputs": [
    {
     "data": {
      "text/plain": [
       "50"
      ]
     },
     "execution_count": 109,
     "metadata": {},
     "output_type": "execute_result"
    },
    {
     "data": {
      "image/png": "[encoded data removed]",
      "text/plain": [
       "<matplotlib.figure.Figure at 0x7f46a92b9b50>"
      ]
     },
     "metadata": {},
     "output_type": "display_data"
    }
   ],
   "source": [
    "mix = MakeMixture(metapmf)\n",
    "thinkplot.Pdf(mix)\n",
    "mix.MAP()"
   ]
  },
  {
   "cell_type": "markdown",
   "metadata": {},
   "source": [
    "Growing 8 plants should get you 50 zucchinis on the 43rd day, though  you will probably be sick of making zucchini bread afterwards. "
   ]
  }
 ],
 "metadata": {
  "kernelspec": {
   "display_name": "Python [Root]",
   "language": "python",
   "name": "Python [Root]"
  },
  "language_info": {
   "codemirror_mode": {
    "name": "ipython",
    "version": 2
   },
   "file_extension": ".py",
   "mimetype": "text/x-python",
   "name": "python",
   "nbconvert_exporter": "python",
   "pygments_lexer": "ipython2",
   "version": "2.7.12"
  }
 },
 "nbformat": 4,
 "nbformat_minor": 0
}
