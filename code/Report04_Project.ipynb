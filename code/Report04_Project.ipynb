{
 "cells": [
  {
   "cell_type": "markdown",
   "metadata": {},
   "source": [
    "# Predicting Employment of Seniors at Olin\n",
    "\n",
    "## Daniel Bishop and Mafalda Borges\n",
    "\n",
    "License: Attribution 4.0 International (CC BY 4.0)"
   ]
  },
  {
   "cell_type": "code",
   "execution_count": 2,
   "metadata": {
    "collapsed": true
   },
   "outputs": [],
   "source": [
    "from thinkbayes2 import Suite, Joint\n",
    "import numpy as np\n",
    "from itertools import product\n",
    "import thinkplot\n",
    "from thinkbayes2 import Pmf, Cdf, Suite, Joint, EvalExponentialPdf, MakePoissonPmf, MakeMixture\n",
    "from thinkbayes2 import MakeBinomialPmf\n",
    "from scipy.stats import binom\n",
    "import matplotlib.pyplot as plt\n",
    "% matplotlib inline"
   ]
  },
  {
   "cell_type": "code",
   "execution_count": 3,
   "metadata": {
    "collapsed": true
   },
   "outputs": [],
   "source": [
    "def EvalWeibullPdf(x, lam, k):\n",
    "    \"\"\"Computes the Weibull PDF.\n",
    "\n",
    "    x: value\n",
    "    lam: parameter lambda in events per unit time\n",
    "    k: parameter\n",
    "\n",
    "    returns: float probability density\n",
    "    \"\"\"\n",
    "    arg = (x / lam)\n",
    "    return k / lam * arg**(k-1) * np.exp(-arg**k)\n",
    "\n",
    "def EvalWeibullCdf(x, lam, k):\n",
    "    \"\"\"Evaluates CDF of the Weibull distribution.\"\"\"\n",
    "    arg = (x / lam)\n",
    "    return 1 - np.exp(-arg**k)\n",
    "\n",
    "def MakeWeibullPmf(lam, k, high, n=200):\n",
    "    \"\"\"Makes a PMF discrete approx to a Weibull distribution.\n",
    "\n",
    "    lam: parameter lambda in events per unit time\n",
    "    k: parameter\n",
    "    high: upper bound\n",
    "    n: number of values in the Pmf\n",
    "\n",
    "    returns: normalized Pmf\n",
    "    \"\"\"\n",
    "    xs = np.linspace(0, high, n)\n",
    "    ps = EvalWeibullPdf(xs, lam, k)\n",
    "    return Pmf(dict(zip(xs, ps)))"
   ]
  },
  {
   "cell_type": "markdown",
   "metadata": {},
   "source": [
    "### Problem Statement\n",
    "\n",
    "Landing the first job after college is extremely important to both the graduates of the institution and the institution itself. For our project we decided to evaluate how quickly seniors at Olin College were able to find employment. We used Bayesian statistics to complete a survival analysis where we evalutated how many months after the beginning of the school year Olin seniors were able to get a job. \n",
    "\n",
    "We generated two models and updated them using data provided by the Office of Post-Graduate Planning at Olin College. Both models utilize Weibull distributions which predict the distributions of lifetimes of objects. The Weibull distribution has two parameters know as k and lambda, where k is the shape parameter and lambda is the scale parameter. The inverse CDF of a Weibull distribution is a survival curve. The first model is pure Weibull while the second model is a mixture of Binomial and Weibull.\n",
    "\n",
    "The first model is more simplistic and easier to implement by not discriminating between the data for before and after graduation. However looking at the raw data shows the rate of finding a job during the school year is significantly different from the months after graduation, so an updated model was created using a binomial distribution to model obtaining a job while in school, and a Weibull distribution for the time afterwards."
   ]
  },
  {
   "cell_type": "code",
   "execution_count": 28,
   "metadata": {
    "collapsed": true
   },
   "outputs": [],
   "source": [
    "class PureWeibull(Suite, Joint):\n",
    "    \"\"\"Represents hypotheses about having a job for a student\"\"\"\n",
    "    \n",
    "    def Likelihood(self, data, hypo):\n",
    "        \"\"\"\n",
    "        lam: paramenter lambda in jobs per month\n",
    "        k: parameter\n",
    "        bg = job obtained before graduation\n",
    "        ag = job obtained after graduation and before December\n",
    "        nj = no job obtained by December\n",
    "        agoct = job obtained after graduation and before October\n",
    "        nj = no job obtained by October\n",
    "        \"\"\"\n",
    "        lam, k = hypo\n",
    "        if lam == 0:\n",
    "            return 0\n",
    "        flag = data\n",
    "        if flag == 'bg':\n",
    "            like = EvalWeibullCdf(9, lam, k)\n",
    "        elif flag == 'ag':\n",
    "            like = EvalWeibullCdf(16, lam, k) - EvalWeibullCdf(9, lam, k)\n",
    "        elif flag == 'nj':\n",
    "            like = 1- EvalWeibullCdf(16, lam, k)\n",
    "        elif flag == 'agoct':\n",
    "            like = EvalWeibullCdf(14, lam, k) - EvalWeibullCdf(9, lam, k)\n",
    "        elif flag == 'njoct':\n",
    "            like = 1- EvalWeibullCdf(14, lam, k)\n",
    "        else:\n",
    "            raise ValueError('Invalid data')\n",
    "        return like"
   ]
  },
  {
   "cell_type": "code",
   "execution_count": 22,
   "metadata": {
    "collapsed": false
   },
   "outputs": [],
   "source": [
    "class BinomialAndWeibull(Suite, Joint):\n",
    "     def Likelihood(self, data, hypo):\n",
    "        lam, k, p = hypo\n",
    "        if lam == 0:\n",
    "            return 0\n",
    "        flag, x = data\n",
    "        if flag == 'eq':\n",
    "            like = EvalWeibullPdf(x, lam, k)\n",
    "        elif flag == 'gt':\n",
    "            like = 1 - EvalWeibullCdf(x, lam, k)\n",
    "        elif flag == 'lt':\n",
    "            like = EvalWeibullCdf(x, lam, k)\n",
    "        elif flag == 'bg': # employed pre-grad\n",
    "            e, t = x.split(\"/\")\n",
    "            like = binom.pmf(int(e), int(t), p)\n",
    "        else:\n",
    "            raise ValueError('Invalid data')\n",
    "        return like"
   ]
  },
  {
   "cell_type": "markdown",
   "metadata": {},
   "source": [
    "These models model the \"survival\" of unemployment through the months of the school year and after graduation. An assumption is made that every student will eventually get a job. Data is collected once at graduation and again some months afterwards. Thus it is assumed that any students who still do not have a job at the check in period will get a job at a time  after the check in. It is also assumed that once a student gets a job, they never lose it.\n",
    "\n",
    "The data that the models accept is the times of employment of students, either an exact month or a definition of some period before or after a month. For the first model, the probability of getting a job is strictly Weibull while for the second model the probability of a student getting a job during the school year is modeled as a binomial distribution, and after graduation the model shifts to a Weibull distribution. The second model uses a binomial to show that the chances of being hired during the school year remain constant."
   ]
  },
  {
   "cell_type": "markdown",
   "metadata": {},
   "source": [
    "### Data and Formatting\n",
    "\n",
    "Below is the gathered data with different formatting for each model."
   ]
  },
  {
   "cell_type": "code",
   "execution_count": 29,
   "metadata": {
    "collapsed": false
   },
   "outputs": [
    {
     "data": {
      "text/plain": [
       "1.5283691776746342e-158"
      ]
     },
     "execution_count": 29,
     "metadata": {},
     "output_type": "execute_result"
    }
   ],
   "source": [
    "lams1 = np.linspace(0, 30, 101)\n",
    "ks1 = np.linspace(0, 5, 101)\n",
    "\n",
    "data16 = []\n",
    "for i in range(53):\n",
    "    data16.append(('bg'))\n",
    "for i in range(9):\n",
    "    data16.append(('ag'))\n",
    "for i in range(16):\n",
    "    data16.append(('nj'))\n",
    "    \n",
    "#data for the class of 2016\n",
    "#53 members of the class had jobs before graduation\n",
    "#9 members of the class obtained jobs by December\n",
    "#16 members of the class did not have a job by December\n",
    "    \n",
    "data15 = []\n",
    "for i in range(44):\n",
    "    data15.append(('bg'))\n",
    "for i in range(22):\n",
    "    data15.append(('ag'))\n",
    "for i in range(16):\n",
    "    data15.append(('nj'))\n",
    "    \n",
    "#data for the class of 2015\n",
    "#44 members of the class had jobs before graduation\n",
    "#22 members of the class obtained jobs by December\n",
    "#16 members of the class did not have a job by December\n",
    "    \n",
    "data14 = []\n",
    "for i in range(41):\n",
    "    data14.append(('bg'))\n",
    "for i in range(20):\n",
    "    data14.append(('ag'))\n",
    "for i in range(23):\n",
    "    data14.append(('nj'))\n",
    "    \n",
    "#data for the class of 2014\n",
    "#41 members of the class had jobs before graduation\n",
    "#20 members of the class obtained jobs by December\n",
    "#23 members of the class did not have a job by December\n",
    "    \n",
    "data13 = []\n",
    "for i in range(53):\n",
    "    data13.append(('bg'))\n",
    "for i in range(6):\n",
    "    data13.append(('ag'))\n",
    "for i in range(17):\n",
    "    data13.append(('nj'))\n",
    "\n",
    "#data for the class of 2013\n",
    "#53 members of the class had jobs before graduation\n",
    "#6 members of the class obtained jobs by December\n",
    "#17 members of the class did not have a job by December\n",
    "\n",
    "data12 = []\n",
    "for i in range(50):\n",
    "    data12.append(('bg'))\n",
    "for i in range(4):\n",
    "    data12.append(('agoct'))\n",
    "for i in range(15):\n",
    "    data12.append(('njoct'))\n",
    "\n",
    "#data for the class of 2012\n",
    "#50 members of the class had jobs before graduation\n",
    "#4 members of the class obtained jobs by October\n",
    "#15 members of the class did not have a job by October\n",
    "    \n",
    "dataAll = data16 + data15 + data14 + data13 + data12\n",
    "\n",
    "#The combined dataset for all years\n",
    "\n",
    "suiteAll = PureWeibull(product(lams1,ks1))\n",
    "suiteAll.UpdateSet(dataAll)"
   ]
  },
  {
   "cell_type": "code",
   "execution_count": 24,
   "metadata": {
    "collapsed": false
   },
   "outputs": [
    {
     "data": {
      "text/plain": [
       "3.829063822745909e-54"
      ]
     },
     "execution_count": 24,
     "metadata": {},
     "output_type": "execute_result"
    }
   ],
   "source": [
    "# Use binomial for survival of unemployment before graduation\n",
    "# Use Weibull for survival of unemployment after graduation\n",
    "\n",
    "lams = np.linspace(0, 30, 101)\n",
    "ks = np.linspace(0, 5, 10)\n",
    "p = np.linspace(0, 1, 20)\n",
    "# class of 2012 data\n",
    "# 69 students\n",
    "# 50 employed at grad\n",
    "# 4 more employed after 5 months\n",
    "# 13 unemployed at 5 months\n",
    "d_2012 = {(\"lt\", 5): 4, (\"gt\", 5): 13, (\"bg\", \"50/69\"): 1}\n",
    "# class of 2013 data\n",
    "# 76 students\n",
    "# 53 employed at grad\n",
    "# 6 more employed after 7 months\n",
    "# 17 unemployed at 7 months\n",
    "d_2013 = {(\"lt\", 7): 6, (\"gt\", 7): 17, (\"bg\", \"53/76\"): 1}\n",
    "# class of 2014 data\n",
    "# 84 students\n",
    "# 41 employed at grad\n",
    "# 20 more employed after 7 months\n",
    "# 23 unemployed at 7 months\n",
    "d_2014 = {(\"lt\", 7): 20, (\"gt\", 7): 23, (\"bg\", \"41/84\"): 1}\n",
    "# class of 2015 data\n",
    "# 82 students\n",
    "# 44 employed at grad\n",
    "# 22 more employed after 7 months\n",
    "# 16 unemployed at 7 months\n",
    "d_2015 = {(\"lt\", 7): 22, (\"gt\", 7): 16, (\"bg\", \"44/82\"): 1}\n",
    "# class of 2016 data\n",
    "# 78 students\n",
    "# 53 employed at grad\n",
    "# 9 more employed after 7 months\n",
    "# 16 unemployed at 7 months\n",
    "d_2016 = {(\"lt\", 7): 9, (\"gt\", 7): 16, (\"bg\", \"53/78\"): 1}\n",
    "\n",
    "distr = BinomialAndWeibull(product(lams, ks, p))\n",
    "ds = []\n",
    "for x in d_2012:\n",
    "    for _ in range(d_2012[x]):\n",
    "        ds.append(x)\n",
    "for x in d_2013:\n",
    "    for _ in range(d_2013[x]):\n",
    "        ds.append(x)\n",
    "for x in d_2014:\n",
    "    for _ in range(d_2014[x]):\n",
    "        ds.append(x)\n",
    "for x in d_2015:\n",
    "    for _ in range(d_2015[x]):\n",
    "        ds.append(x)\n",
    "for x in d_2016:\n",
    "    for _ in range(d_2016[x]):\n",
    "        ds.append(x)\n",
    "distr.UpdateSet(ds)"
   ]
  },
  {
   "cell_type": "markdown",
   "metadata": {},
   "source": [
    "### Marginal Distributions\n",
    "\n",
    "After updating our models with the data set, we plotted the marginal distributions which represent k's and lambdas."
   ]
  },
  {
   "cell_type": "code",
   "execution_count": 25,
   "metadata": {
    "collapsed": false
   },
   "outputs": [
    {
     "data": {
      "image/png": "[encoded data removed]",
      "text/plain": [
       "<matplotlib.figure.Figure at 0x7fefeb666f90>"
      ]
     },
     "metadata": {},
     "output_type": "display_data"
    }
   ],
   "source": [
    "pmf_kAll = suiteAll.Marginal(1)\n",
    "thinkplot.Pdf(pmf_kAll)"
   ]
  },
  {
   "cell_type": "code",
   "execution_count": 26,
   "metadata": {
    "collapsed": false
   },
   "outputs": [
    {
     "data": {
      "image/png": "[encoded data removed]",
      "text/plain": [
       "<matplotlib.figure.Figure at 0x7fefecdefdd0>"
      ]
     },
     "metadata": {},
     "output_type": "display_data"
    }
   ],
   "source": [
    "pmf_k = distr.Marginal(1)\n",
    "thinkplot.Pdf(pmf_k)"
   ]
  },
  {
   "cell_type": "markdown",
   "metadata": {},
   "source": [
    "The second model is more likely to have larger k values than the first model which indicates a delayed spike in employment rates."
   ]
  },
  {
   "cell_type": "code",
   "execution_count": 30,
   "metadata": {
    "collapsed": false
   },
   "outputs": [
    {
     "data": {
      "image/png": "[encoded data removed]",
      "text/plain": [
       "<matplotlib.figure.Figure at 0x7fefeb60d4d0>"
      ]
     },
     "metadata": {},
     "output_type": "display_data"
    }
   ],
   "source": [
    "pmf_lamAll = suiteAll.Marginal(0)\n",
    "thinkplot.Pdf(pmf_lamAll)"
   ]
  },
  {
   "cell_type": "code",
   "execution_count": 11,
   "metadata": {
    "collapsed": false
   },
   "outputs": [
    {
     "data": {
      "image/png": "[encoded data removed]",
      "text/plain": [
       "<matplotlib.figure.Figure at 0x7fefeb783510>"
      ]
     },
     "metadata": {},
     "output_type": "display_data"
    }
   ],
   "source": [
    "pmf_lam = distr.Marginal(0)\n",
    "thinkplot.Pdf(pmf_lam)"
   ]
  },
  {
   "cell_type": "markdown",
   "metadata": {},
   "source": [
    "The second model once again has a higher potential for a larger lambda which indicates a larger spread of employment probabilities over time. "
   ]
  },
  {
   "cell_type": "markdown",
   "metadata": {},
   "source": [
    "Since the second model assumes a constant probability of getting a job during the school year, it has an extra hypothesis value 'p'."
   ]
  },
  {
   "cell_type": "code",
   "execution_count": 31,
   "metadata": {
    "collapsed": false
   },
   "outputs": [
    {
     "data": {
      "text/plain": [
       "0.63157894736842102"
      ]
     },
     "execution_count": 31,
     "metadata": {},
     "output_type": "execute_result"
    },
    {
     "data": {
      "image/png": "[encoded data removed]",
      "text/plain": [
       "<matplotlib.figure.Figure at 0x7fefec9354d0>"
      ]
     },
     "metadata": {},
     "output_type": "display_data"
    }
   ],
   "source": [
    "pmf_p = distr.Marginal(2)\n",
    "thinkplot.Pdf(pmf_p)\n",
    "pmf_p.MAP()"
   ]
  },
  {
   "cell_type": "markdown",
   "metadata": {},
   "source": [
    "Here we see that 'p' is most likely somewhere around 63%."
   ]
  },
  {
   "cell_type": "markdown",
   "metadata": {},
   "source": [
    "### Predictions\n",
    "\n",
    "Now that we have trained our models, we use them to generate predictions of employment before different time points."
   ]
  },
  {
   "cell_type": "code",
   "execution_count": 13,
   "metadata": {
    "collapsed": false
   },
   "outputs": [
    {
     "name": "stdout",
     "output_type": "stream",
     "text": [
      "('Probability at 9 months', 0.61687263105965351)\n"
     ]
    }
   ],
   "source": [
    "prob = 0\n",
    "for hypo in suiteAll:\n",
    "    lam, k = hypo\n",
    "    prob += suiteAll[hypo] * EvalWeibullCdf(9, lam, k)\n",
    "print(\"Probability at 9 months\", prob)"
   ]
  },
  {
   "cell_type": "code",
   "execution_count": 14,
   "metadata": {
    "collapsed": false
   },
   "outputs": [
    {
     "name": "stdout",
     "output_type": "stream",
     "text": [
      "('Probability of a student being employed at 9 months:', 0.62081571046568529)\n"
     ]
    }
   ],
   "source": [
    "prob = 0\n",
    "for hypo in distr:\n",
    "    lam, k, p = hypo\n",
    "    prob += distr[hypo] * p\n",
    "    \n",
    "print(\"Probability of a student being employed at 9 months:\", prob)"
   ]
  },
  {
   "cell_type": "markdown",
   "metadata": {},
   "source": [
    "At the nine month mark (graduation), both models agree that the probability of a student being employed is about 62%."
   ]
  },
  {
   "cell_type": "code",
   "execution_count": 39,
   "metadata": {
    "collapsed": false
   },
   "outputs": [
    {
     "name": "stdout",
     "output_type": "stream",
     "text": [
      "('Probability at 16 months', 0.77915966251511115)\n"
     ]
    }
   ],
   "source": [
    "prob = 0\n",
    "for hypo in suiteAll:\n",
    "    lam, k = hypo\n",
    "    prob += suiteAll[hypo] * EvalWeibullCdf(16, lam, k)\n",
    "print(\"Probability at 16 months\", prob)"
   ]
  },
  {
   "cell_type": "code",
   "execution_count": 40,
   "metadata": {
    "collapsed": false
   },
   "outputs": [
    {
     "name": "stdout",
     "output_type": "stream",
     "text": [
      "('Probability of a student being employed at 16 months:', 0.8294437887194428)\n"
     ]
    }
   ],
   "source": [
    "prob = 0\n",
    "for hypo in distr:\n",
    "    lam, k, p = hypo\n",
    "    prob += distr[hypo] * p\n",
    "    prob += distr[hypo] * (EvalWeibullCdf(16, lam, k) - EvalWeibullCdf(9, lam, k))\n",
    "    \n",
    "print(\"Probability of a student being employed at 16 months:\", prob)"
   ]
  },
  {
   "cell_type": "markdown",
   "metadata": {},
   "source": [
    "Seven months after graduation, the models begin to diverge, with model 2 being more optimistic about student employment."
   ]
  },
  {
   "cell_type": "code",
   "execution_count": 17,
   "metadata": {
    "collapsed": false
   },
   "outputs": [
    {
     "name": "stdout",
     "output_type": "stream",
     "text": [
      "('Probability at 24 months', 0.87446442416661763)\n"
     ]
    }
   ],
   "source": [
    "prob = 0\n",
    "for hypo in suiteAll:\n",
    "    lam, k = hypo\n",
    "    prob += suiteAll[hypo] * EvalWeibullCdf(24, lam, k)\n",
    "print(\"Probability at 24 months\", prob)"
   ]
  },
  {
   "cell_type": "code",
   "execution_count": 18,
   "metadata": {
    "collapsed": false
   },
   "outputs": [
    {
     "name": "stdout",
     "output_type": "stream",
     "text": [
      "('Probability of a student being employed at 24 months:', 0.9459557171796027)\n"
     ]
    }
   ],
   "source": [
    "prob = 0\n",
    "for hypo in distr:\n",
    "    lam, k, p = hypo\n",
    "    prob += distr[hypo] * p\n",
    "    prob += distr[hypo] * (EvalWeibullCdf(24, lam, k) - EvalWeibullCdf(9, lam, k))\n",
    "    \n",
    "print(\"Probability of a student being employed at 24 months:\", prob)"
   ]
  },
  {
   "cell_type": "markdown",
   "metadata": {},
   "source": [
    "After 24 months, the models maintain their offset between predictions, with model 2 predicting 94% employment while model 1 predicts 87%."
   ]
  },
  {
   "cell_type": "code",
   "execution_count": 19,
   "metadata": {
    "collapsed": false
   },
   "outputs": [
    {
     "data": {
      "text/plain": [
       "<matplotlib.text.Text at 0x7fefebb77490>"
      ]
     },
     "execution_count": 19,
     "metadata": {},
     "output_type": "execute_result"
    },
    {
     "data": {
      "image/png": "[encoded data removed]",
      "text/plain": [
       "<matplotlib.figure.Figure at 0x7fefeb74f590>"
      ]
     },
     "metadata": {},
     "output_type": "display_data"
    }
   ],
   "source": [
    "tot = []\n",
    "for i in range(24):\n",
    "    prob = 0\n",
    "    for hypo in suiteAll:\n",
    "        lam, k = hypo\n",
    "        prob += suiteAll[hypo] * EvalWeibullCdf(i, lam, k)\n",
    "    tot.append(prob)"
   ]
  },
  {
   "cell_type": "code",
   "execution_count": 38,
   "metadata": {
    "collapsed": false
   },
   "outputs": [
    {
     "data": {
      "text/plain": [
       "<matplotlib.legend.Legend at 0x7fefec93ead0>"
      ]
     },
     "execution_count": 38,
     "metadata": {},
     "output_type": "execute_result"
    },
    {
     "data": {
      "image/png": "[encoded data removed]",
      "text/plain": [
       "<matplotlib.figure.Figure at 0x7fefecc87590>"
      ]
     },
     "metadata": {},
     "output_type": "display_data"
    }
   ],
   "source": [
    "ps = []\n",
    "for i in range(24):\n",
    "    prob = 0\n",
    "    for hypo in distr:\n",
    "        lam, k, p = hypo\n",
    "        if (i <= 9):\n",
    "            prob += distr[hypo] * p\n",
    "        else:\n",
    "            prob += distr[hypo] * p\n",
    "            prob += distr[hypo] * (EvalWeibullCdf(i, lam, k) - EvalWeibullCdf(9, lam, k))\n",
    "    ps.append(prob)\n",
    "plt.xlabel(\"Months since beginning of senior year\")\n",
    "plt.ylabel(\"Probability of being employed\")\n",
    "line1, = plt.plot(tot, label=\"Model 1\")\n",
    "line2, = plt.plot(ps, label='Model 2')\n",
    "plt.legend(handles=[line1, line2])"
   ]
  },
  {
   "cell_type": "markdown",
   "metadata": {},
   "source": [
    "### Results and Analysis\n",
    "\n",
    "The figure above shows the probability of a student having a job at any given month up to 2 years from the beginning of their senior year. In the first model, the probability of employment increases as the school year goes on. The second model maintains a constant probability of employment through the school year.  \n",
    "\n",
    "At graduation, both models predict roughly the same probability of having a job. However, after graduation, model 2 predicts a higher employment rate.\n",
    "\n",
    "Model 1 predicts that 7 months after graduation 78% of students will have jobs, while model 2 predicts that 83% will.  \n",
    "\n",
    "We tested this prediction against the data for the class of 2016. At the checkin 7 months after graduation, 79.4% of the class was employed. This closely matches the prediction of model 1, while model 2 was overoptimistic. \n",
    "\n",
    "Model 2 continues to be more optimistic than model 1 up to 24 months since the start of the school year. Because we lack data reaching this far out after graduation, our models become too uncertain for accurate predictions. Possible reasons for model 2's optimism include the disregard for guaranteed unemployment from graduate school as well as those students who never receive jobs.  \n",
    "\n",
    "### Future Work\n",
    "\n",
    "Possible future work would be to expand the dataset to draw from further checkins, and include more factors such as graduate school, travel, job-search, and others."
   ]
  },
  {
   "cell_type": "code",
   "execution_count": null,
   "metadata": {
    "collapsed": true
   },
   "outputs": [],
   "source": []
  }
 ],
 "metadata": {
  "kernelspec": {
   "display_name": "Python [Root]",
   "language": "python",
   "name": "Python [Root]"
  },
  "language_info": {
   "codemirror_mode": {
    "name": "ipython",
    "version": 2
   },
   "file_extension": ".py",
   "mimetype": "text/x-python",
   "name": "python",
   "nbconvert_exporter": "python",
   "pygments_lexer": "ipython2",
   "version": "2.7.12"
  }
 },
 "nbformat": 4,
 "nbformat_minor": 1
}
