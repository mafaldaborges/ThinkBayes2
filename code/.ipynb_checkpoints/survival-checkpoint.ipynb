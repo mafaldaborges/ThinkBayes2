{
 "cells": [
  {
   "cell_type": "markdown",
   "metadata": {},
   "source": [
    "# Survival Analysis\n",
    "\n",
    "This notebook presents code and exercises from Think Bayes, second edition.\n",
    "\n",
    "Copyright 2016 Allen B. Downey\n",
    "\n",
    "MIT License: https://opensource.org/licenses/MIT"
   ]
  },
  {
   "cell_type": "code",
   "execution_count": 1,
   "metadata": {
    "collapsed": true
   },
   "outputs": [],
   "source": [
    "from __future__ import print_function, division\n",
    "\n",
    "% matplotlib inline\n",
    "import warnings\n",
    "warnings.filterwarnings('ignore')\n",
    "\n",
    "import math\n",
    "import numpy as np\n",
    "\n",
    "from thinkbayes2 import Pmf, Cdf, Suite, Joint\n",
    "import thinkplot"
   ]
  },
  {
   "cell_type": "markdown",
   "metadata": {},
   "source": [
    "## The Weibull distribution\n",
    "\n",
    "The Weibull distribution is often used in survival analysis because it models the distribution of lifetimes for manufactured products, at least over some parts of the range.\n",
    "\n",
    "The following functions evaluate its PDF and CDF."
   ]
  },
  {
   "cell_type": "code",
   "execution_count": 2,
   "metadata": {
    "collapsed": true
   },
   "outputs": [],
   "source": [
    "def EvalWeibullPdf(x, lam, k):\n",
    "    \"\"\"Computes the Weibull PDF.\n",
    "\n",
    "    x: value\n",
    "    lam: parameter lambda in events per unit time\n",
    "    k: parameter\n",
    "\n",
    "    returns: float probability density\n",
    "    \"\"\"\n",
    "    arg = (x / lam)\n",
    "    return k / lam * arg**(k-1) * np.exp(-arg**k)\n",
    "\n",
    "def EvalWeibullCdf(x, lam, k):\n",
    "    \"\"\"Evaluates CDF of the Weibull distribution.\"\"\"\n",
    "    arg = (x / lam)\n",
    "    return 1 - np.exp(-arg**k)\n",
    "\n",
    "def MakeWeibullPmf(lam, k, high, n=200):\n",
    "    \"\"\"Makes a PMF discrete approx to a Weibull distribution.\n",
    "\n",
    "    lam: parameter lambda in events per unit time\n",
    "    k: parameter\n",
    "    high: upper bound\n",
    "    n: number of values in the Pmf\n",
    "\n",
    "    returns: normalized Pmf\n",
    "    \"\"\"\n",
    "    xs = np.linspace(0, high, n)\n",
    "    ps = EvalWeibullPdf(xs, lam, k)\n",
    "    return Pmf(dict(zip(xs, ps)))"
   ]
  },
  {
   "cell_type": "markdown",
   "metadata": {},
   "source": [
    "SciPy also provides functions to evaluate the Weibull distribution, which I'll use to check my implementation."
   ]
  },
  {
   "cell_type": "code",
   "execution_count": 3,
   "metadata": {
    "collapsed": false
   },
   "outputs": [
    {
     "data": {
      "text/plain": [
       "0.33093633846922332"
      ]
     },
     "execution_count": 3,
     "metadata": {},
     "output_type": "execute_result"
    }
   ],
   "source": [
    "from scipy.stats import weibull_min\n",
    "\n",
    "lam = 2\n",
    "k = 1.5\n",
    "x = 0.5\n",
    "\n",
    "weibull_min.pdf(x, k, scale=lam)"
   ]
  },
  {
   "cell_type": "code",
   "execution_count": 4,
   "metadata": {
    "collapsed": false
   },
   "outputs": [
    {
     "data": {
      "text/plain": [
       "0.33093633846922332"
      ]
     },
     "execution_count": 4,
     "metadata": {},
     "output_type": "execute_result"
    }
   ],
   "source": [
    "EvalWeibullPdf(x, lam, k)"
   ]
  },
  {
   "cell_type": "code",
   "execution_count": 5,
   "metadata": {
    "collapsed": false
   },
   "outputs": [
    {
     "data": {
      "text/plain": [
       "0.1175030974154046"
      ]
     },
     "execution_count": 5,
     "metadata": {},
     "output_type": "execute_result"
    }
   ],
   "source": [
    "weibull_min.cdf(x, k, scale=lam)"
   ]
  },
  {
   "cell_type": "code",
   "execution_count": 6,
   "metadata": {
    "collapsed": false
   },
   "outputs": [
    {
     "data": {
      "text/plain": [
       "0.11750309741540454"
      ]
     },
     "execution_count": 6,
     "metadata": {},
     "output_type": "execute_result"
    }
   ],
   "source": [
    "EvalWeibullCdf(x, lam, k)"
   ]
  },
  {
   "cell_type": "markdown",
   "metadata": {},
   "source": [
    "And here's what the PDF looks like, for these parameters."
   ]
  },
  {
   "cell_type": "code",
   "execution_count": 7,
   "metadata": {
    "collapsed": false
   },
   "outputs": [
    {
     "data": {
      "image/png": "[encoded data removed]",
      "text/plain": [
       "<matplotlib.figure.Figure at 0x7f29bcef0c10>"
      ]
     },
     "metadata": {},
     "output_type": "display_data"
    }
   ],
   "source": [
    "pmf = MakeWeibullPmf(lam, k, high=10)\n",
    "thinkplot.Pdf(pmf)\n",
    "thinkplot.Config(xlabel='Lifetime',\n",
    "                 ylabel='PMF')"
   ]
  },
  {
   "cell_type": "markdown",
   "metadata": {},
   "source": [
    "We can use np.random.weibull to generate random values from a Weibull distribution with given parameters.\n",
    "\n",
    "To check that it is correct, I generate a large sample and compare its CDF to the analytic CDF."
   ]
  },
  {
   "cell_type": "code",
   "execution_count": 8,
   "metadata": {
    "collapsed": false
   },
   "outputs": [
    {
     "data": {
      "image/png": "[encoded data removed]",
      "text/plain": [
       "<matplotlib.figure.Figure at 0x7f29c9daacd0>"
      ]
     },
     "metadata": {},
     "output_type": "display_data"
    }
   ],
   "source": [
    "def SampleWeibull(lam, k, n=1):\n",
    "    return np.random.weibull(k, size=n) * lam\n",
    "\n",
    "data = SampleWeibull(lam, k, 10000)\n",
    "cdf = Cdf(data)\n",
    "model = pmf.MakeCdf()\n",
    "thinkplot.Cdfs([cdf, model])"
   ]
  },
  {
   "cell_type": "markdown",
   "metadata": {
    "collapsed": true
   },
   "source": [
    "**Exercise:** Write a class called `LightBulb` that inherits from `Suite` and `Joint` and provides a `Likelihood` function that takes an observed lifespan as data and a tuple, `(lam, k)`, as a hypothesis.  It should return a likelihood proportional to the probability of the observed lifespan in a Weibull distribution with the given parameters.\n",
    "\n",
    "Test your method by creating a `LightBulb` object with an appropriate prior and update it with a random sample from a Weibull distribution.\n",
    "\n",
    "Plot the posterior distributions of `lam` and `k`.  As the sample size increases, does the posterior distribution converge on the values of `lam` and `k` used to generate the sample?"
   ]
  },
  {
   "cell_type": "code",
   "execution_count": 9,
   "metadata": {
    "collapsed": false
   },
   "outputs": [],
   "source": [
    "# Solution goes here"
   ]
  },
  {
   "cell_type": "code",
   "execution_count": 10,
   "metadata": {
    "collapsed": false
   },
   "outputs": [],
   "source": [
    "# Solution goes here"
   ]
  },
  {
   "cell_type": "code",
   "execution_count": 11,
   "metadata": {
    "collapsed": false
   },
   "outputs": [],
   "source": [
    "# Solution goes here"
   ]
  },
  {
   "cell_type": "code",
   "execution_count": 12,
   "metadata": {
    "collapsed": false
   },
   "outputs": [],
   "source": [
    "# Solution goes here"
   ]
  },
  {
   "cell_type": "code",
   "execution_count": 13,
   "metadata": {
    "collapsed": false
   },
   "outputs": [],
   "source": [
    "# Solution goes here"
   ]
  },
  {
   "cell_type": "code",
   "execution_count": 14,
   "metadata": {
    "collapsed": false
   },
   "outputs": [],
   "source": [
    "# Solution goes here"
   ]
  },
  {
   "cell_type": "markdown",
   "metadata": {
    "collapsed": true
   },
   "source": [
    "**Exercise:** Now suppose that instead of observing a lifespan, `k`, you observe a lightbulb that has operated for 1 year and is still working.  Write another version of `LightBulb` that takes data in this form and performs an update. "
   ]
  },
  {
   "cell_type": "code",
   "execution_count": 15,
   "metadata": {
    "collapsed": false
   },
   "outputs": [],
   "source": [
    "# Solution goes here"
   ]
  },
  {
   "cell_type": "code",
   "execution_count": 16,
   "metadata": {
    "collapsed": false
   },
   "outputs": [],
   "source": [
    "# Solution goes here"
   ]
  },
  {
   "cell_type": "code",
   "execution_count": 17,
   "metadata": {
    "collapsed": false
   },
   "outputs": [],
   "source": [
    "# Solution goes here"
   ]
  },
  {
   "cell_type": "code",
   "execution_count": 18,
   "metadata": {
    "collapsed": false
   },
   "outputs": [],
   "source": [
    "# Solution goes here"
   ]
  },
  {
   "cell_type": "code",
   "execution_count": 19,
   "metadata": {
    "collapsed": false
   },
   "outputs": [],
   "source": [
    "# Solution goes here"
   ]
  },
  {
   "cell_type": "markdown",
   "metadata": {},
   "source": [
    "**Exercise:** Now let's put it all together.  Suppose you have 15 lightbulbs installed at different times over a 10 year period.  When you observe them, some have died and some are still working.  Write a version of `LightBulb` that takes data in the form of a `(flag, x)` tuple, where:\n",
    "\n",
    "1. If `flag` is `eq`, it means that `x` is the actual lifespan of a bulb that has died.\n",
    "2. If `flag` is `gt`, it means that `x` is the current age of a bulb that is still working, so it is a lower bound on the lifespan.\n",
    "\n",
    "To help you test, I will generate some fake data.\n",
    "\n",
    "First, I'll generate a Pandas DataFrame with random start times and lifespans.  The columns are:\n",
    "\n",
    "`start`: time when the bulb was installed\n",
    "\n",
    "`lifespan`: lifespan of the bulb in years\n",
    "\n",
    "`end`: time when bulb died or will die\n",
    "\n",
    "`age_t`: age of the bulb at t=10"
   ]
  },
  {
   "cell_type": "code",
   "execution_count": 20,
   "metadata": {
    "collapsed": false
   },
   "outputs": [
    {
     "data": {
      "text/html": [
       "<div>\n",
       "<table border=\"1\" class=\"dataframe\">\n",
       "  <thead>\n",
       "    <tr style=\"text-align: right;\">\n",
       "      <th></th>\n",
       "      <th>lifespan</th>\n",
       "      <th>start</th>\n",
       "      <th>end</th>\n",
       "      <th>age_t</th>\n",
       "    </tr>\n",
       "  </thead>\n",
       "  <tbody>\n",
       "    <tr>\n",
       "      <th>0</th>\n",
       "      <td>1.379137</td>\n",
       "      <td>7.054917</td>\n",
       "      <td>8.434054</td>\n",
       "      <td>2.945083</td>\n",
       "    </tr>\n",
       "    <tr>\n",
       "      <th>1</th>\n",
       "      <td>0.825780</td>\n",
       "      <td>2.544085</td>\n",
       "      <td>3.369865</td>\n",
       "      <td>7.455915</td>\n",
       "    </tr>\n",
       "    <tr>\n",
       "      <th>2</th>\n",
       "      <td>1.894094</td>\n",
       "      <td>8.209068</td>\n",
       "      <td>10.103162</td>\n",
       "      <td>1.790932</td>\n",
       "    </tr>\n",
       "    <tr>\n",
       "      <th>3</th>\n",
       "      <td>0.286001</td>\n",
       "      <td>2.287601</td>\n",
       "      <td>2.573601</td>\n",
       "      <td>7.712399</td>\n",
       "    </tr>\n",
       "    <tr>\n",
       "      <th>4</th>\n",
       "      <td>2.789742</td>\n",
       "      <td>6.309710</td>\n",
       "      <td>9.099452</td>\n",
       "      <td>3.690290</td>\n",
       "    </tr>\n",
       "  </tbody>\n",
       "</table>\n",
       "</div>"
      ],
      "text/plain": [
       "   lifespan     start        end     age_t\n",
       "0  1.379137  7.054917   8.434054  2.945083\n",
       "1  0.825780  2.544085   3.369865  7.455915\n",
       "2  1.894094  8.209068  10.103162  1.790932\n",
       "3  0.286001  2.287601   2.573601  7.712399\n",
       "4  2.789742  6.309710   9.099452  3.690290"
      ]
     },
     "execution_count": 20,
     "metadata": {},
     "output_type": "execute_result"
    }
   ],
   "source": [
    "import pandas as pd\n",
    "\n",
    "lam = 2\n",
    "k = 1.5\n",
    "n = 15\n",
    "t_end = 10\n",
    "starts = np.random.uniform(0, t_end, n)\n",
    "lifespans = SampleWeibull(lam, k, n)\n",
    "\n",
    "df = pd.DataFrame({'start': starts, 'lifespan': lifespans})\n",
    "df['end'] = df.start + df.lifespan\n",
    "df['age_t'] = t_end - df.start\n",
    "\n",
    "df.head()"
   ]
  },
  {
   "cell_type": "markdown",
   "metadata": {},
   "source": [
    "Now I'll process the DataFrame to generate data in the form we want for the update."
   ]
  },
  {
   "cell_type": "code",
   "execution_count": 21,
   "metadata": {
    "collapsed": false
   },
   "outputs": [
    {
     "name": "stdout",
     "output_type": "stream",
     "text": [
      "('eq', 1.3791367794699163)\n",
      "('eq', 0.82577961419895163)\n",
      "('gt', 1.7909317703448924)\n",
      "('eq', 0.2860008230281792)\n",
      "('eq', 2.7897419357957833)\n",
      "('eq', 1.9601635145417684)\n",
      "('eq', 0.82447884454859377)\n",
      "('eq', 2.2459517032346903)\n",
      "('eq', 0.34325109664702941)\n",
      "('eq', 1.0288888925933226)\n",
      "('eq', 2.2705151097571274)\n",
      "('eq', 0.74247293830277095)\n",
      "('eq', 0.73498045781531729)\n",
      "('gt', 0.99208657690973823)\n",
      "('eq', 2.8040012589979715)\n"
     ]
    }
   ],
   "source": [
    "data = []\n",
    "for i, row in df.iterrows():\n",
    "    if row.end < t_end:\n",
    "        data.append(('eq', row.lifespan))\n",
    "    else:\n",
    "        data.append(('gt', row.age_t))\n",
    "        \n",
    "for pair in data:\n",
    "    print(pair)"
   ]
  },
  {
   "cell_type": "code",
   "execution_count": 22,
   "metadata": {
    "collapsed": true
   },
   "outputs": [],
   "source": [
    "# Solution goes here"
   ]
  },
  {
   "cell_type": "code",
   "execution_count": 23,
   "metadata": {
    "collapsed": false
   },
   "outputs": [],
   "source": [
    "# Solution goes here"
   ]
  },
  {
   "cell_type": "code",
   "execution_count": 24,
   "metadata": {
    "collapsed": false
   },
   "outputs": [],
   "source": [
    "# Solution goes here"
   ]
  },
  {
   "cell_type": "code",
   "execution_count": 25,
   "metadata": {
    "collapsed": false
   },
   "outputs": [],
   "source": [
    "# Solution goes here"
   ]
  },
  {
   "cell_type": "code",
   "execution_count": 26,
   "metadata": {
    "collapsed": false
   },
   "outputs": [],
   "source": [
    "# Solution goes here"
   ]
  },
  {
   "cell_type": "markdown",
   "metadata": {
    "collapsed": true
   },
   "source": [
    "**Exercise:** Suppose you install a light bulb and then you don't check on it for a year, but when you come back, you find that it has burned out.  Extend `LightBulb` to handle this kind of data, too."
   ]
  },
  {
   "cell_type": "code",
   "execution_count": 27,
   "metadata": {
    "collapsed": false
   },
   "outputs": [],
   "source": [
    "# Solution goes here"
   ]
  },
  {
   "cell_type": "markdown",
   "metadata": {
    "collapsed": true
   },
   "source": [
    "## Prediction\n",
    "\n",
    "**Exercise:** Suppose we know that, for a particular kind of lightbulb in a particular location, the distribution of lifespans is well modeled by a Weibull distribution with `lam=2` and `k=1.5`.  If we install `n=100` lightbulbs and come back one year later, what is the distribution of `c`, the number of lightbulbs that have burned out?"
   ]
  },
  {
   "cell_type": "code",
   "execution_count": 28,
   "metadata": {
    "collapsed": false
   },
   "outputs": [],
   "source": [
    "# Solution goes here"
   ]
  },
  {
   "cell_type": "code",
   "execution_count": 29,
   "metadata": {
    "collapsed": false
   },
   "outputs": [],
   "source": [
    "# Solution goes here"
   ]
  },
  {
   "cell_type": "markdown",
   "metadata": {},
   "source": [
    "**Exercise:** Now suppose that `lam` and `k` are not known precisely, but we have a `LightBulb` object that represents the joint posterior distribution of the parameters after seeing some data.  Compute the posterior predictive distribution for `c`, the number of bulbs burned out after one year."
   ]
  },
  {
   "cell_type": "code",
   "execution_count": 30,
   "metadata": {
    "collapsed": false
   },
   "outputs": [],
   "source": [
    "# Solution goes here"
   ]
  },
  {
   "cell_type": "code",
   "execution_count": 31,
   "metadata": {
    "collapsed": false
   },
   "outputs": [],
   "source": [
    "# Solution goes here"
   ]
  },
  {
   "cell_type": "code",
   "execution_count": null,
   "metadata": {
    "collapsed": true
   },
   "outputs": [],
   "source": []
  },
  {
   "cell_type": "code",
   "execution_count": null,
   "metadata": {
    "collapsed": true
   },
   "outputs": [],
   "source": []
  },
  {
   "cell_type": "code",
   "execution_count": null,
   "metadata": {
    "collapsed": true
   },
   "outputs": [],
   "source": []
  }
 ],
 "metadata": {
  "kernelspec": {
   "display_name": "Python [Root]",
   "language": "python",
   "name": "Python [Root]"
  },
  "language_info": {
   "codemirror_mode": {
    "name": "ipython",
    "version": 2
   },
   "file_extension": ".py",
   "mimetype": "text/x-python",
   "name": "python",
   "nbconvert_exporter": "python",
   "pygments_lexer": "ipython2",
   "version": "2.7.12"
  }
 },
 "nbformat": 4,
 "nbformat_minor": 0
}
