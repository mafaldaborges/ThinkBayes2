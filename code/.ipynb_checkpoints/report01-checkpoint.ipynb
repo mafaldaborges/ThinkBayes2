{
 "cells": [
  {
   "cell_type": "markdown",
   "metadata": {},
   "source": [
    "Report 01: False Positives in Mammograms\n",
    "\n",
    "Mafalda Borges"
   ]
  },
  {
   "cell_type": "code",
   "execution_count": 2,
   "metadata": {
    "collapsed": true
   },
   "outputs": [],
   "source": [
    "import thinkbayes2"
   ]
  },
  {
   "cell_type": "markdown",
   "metadata": {},
   "source": [
    "In the United States, in a given year about 2% of women have breast cancer. To detect this cancer, doctors use mammograms to x-ray the tissue. For women with cancer around 84% of the screens will come back as positive, however for women without cancer 6.5% of the screens will yield a false positive. Given a positive result, what are the chances that the woman has cancer?\n",
    "\n",
    "To derive a solution I first enter the information that is given in the problem, which I call my prior. I am calling the population of women with cancer: 'Cancer' and the population without: 'No Cancer.'"
   ]
  },
  {
   "cell_type": "code",
   "execution_count": 3,
   "metadata": {
    "collapsed": false
   },
   "outputs": [
    {
     "name": "stdout",
     "output_type": "stream",
     "text": [
      "Cancer 0.02\n",
      "No Cancer 0.98\n"
     ]
    }
   ],
   "source": [
    "prior = thinkbayes2.Suite({'Cancer': 0.02, 'No Cancer': 0.98})\n",
    "prior.Print()"
   ]
  },
  {
   "cell_type": "markdown",
   "metadata": {},
   "source": [
    "Next I enter the rate at which each group gets a postive result after receiving a mammogram. I call this the likelikhood."
   ]
  },
  {
   "cell_type": "code",
   "execution_count": 5,
   "metadata": {
    "collapsed": false
   },
   "outputs": [],
   "source": [
    "likelihood = {'Cancer': 0.84, 'No Cancer': 0.065}"
   ]
  },
  {
   "cell_type": "markdown",
   "metadata": {},
   "source": [
    "Now that the information from the problem has all been accounted for I can apply Bayes' Theorem. I will create a posterior distribution which is the result of multiplying the prior probability of each hypothesis by the likelihood of each event. Afterwards I will have to normalize the distribution. "
   ]
  },
  {
   "cell_type": "code",
   "execution_count": 7,
   "metadata": {
    "collapsed": false
   },
   "outputs": [
    {
     "name": "stdout",
     "output_type": "stream",
     "text": [
      "Cancer 0.0168\n",
      "No Cancer 0.0637\n"
     ]
    }
   ],
   "source": [
    "posterior = prior.Copy()\n",
    "for hypothesis in posterior:\n",
    "    posterior[hypothesis] *= likelihood[hypothesis]\n",
    "posterior.Print()"
   ]
  },
  {
   "cell_type": "markdown",
   "metadata": {},
   "source": [
    "Next I normalize the data, so it is expressed in terms of probability. The following returns the normalizing constant."
   ]
  },
  {
   "cell_type": "code",
   "execution_count": 8,
   "metadata": {
    "collapsed": false
   },
   "outputs": [
    {
     "data": {
      "text/plain": [
       "0.0805"
      ]
     },
     "execution_count": 8,
     "metadata": {},
     "output_type": "execute_result"
    }
   ],
   "source": [
    "posterior.Normalize()"
   ]
  },
  {
   "cell_type": "markdown",
   "metadata": {},
   "source": [
    "After normalizing, the distribution shows the probabilities of having cancer (or not) after receiving a postive result."
   ]
  },
  {
   "cell_type": "code",
   "execution_count": 9,
   "metadata": {
    "collapsed": false
   },
   "outputs": [
    {
     "name": "stdout",
     "output_type": "stream",
     "text": [
      "Cancer 0.208695652174\n",
      "No Cancer 0.791304347826\n"
     ]
    }
   ],
   "source": [
    "posterior.Print()"
   ]
  },
  {
   "cell_type": "markdown",
   "metadata": {},
   "source": [
    "This shows that given a postive result, there is only about a 21% chance the woman actually has cancer on that given occasion. "
   ]
  },
  {
   "cell_type": "markdown",
   "metadata": {},
   "source": [
    "This information was taken from breastcancer.org, the Susan G. Komen organization, and cancer.net. "
   ]
  }
 ],
 "metadata": {
  "kernelspec": {
   "display_name": "Python [Root]",
   "language": "python",
   "name": "Python [Root]"
  },
  "language_info": {
   "codemirror_mode": {
    "name": "ipython",
    "version": 2
   },
   "file_extension": ".py",
   "mimetype": "text/x-python",
   "name": "python",
   "nbconvert_exporter": "python",
   "pygments_lexer": "ipython2",
   "version": "2.7.12"
  }
 },
 "nbformat": 4,
 "nbformat_minor": 0
}
