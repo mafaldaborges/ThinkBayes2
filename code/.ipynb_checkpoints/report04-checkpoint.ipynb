{
 "cells": [
  {
   "cell_type": "markdown",
   "metadata": {},
   "source": [
    "# Report 4\n",
    "\n",
    "## Mafalda Borges"
   ]
  },
  {
   "cell_type": "code",
   "execution_count": 25,
   "metadata": {
    "collapsed": true
   },
   "outputs": [],
   "source": [
    "from __future__ import print_function, division\n",
    "\n",
    "% matplotlib inline\n",
    "import warnings\n",
    "warnings.filterwarnings('ignore')\n",
    "\n",
    "import math\n",
    "import numpy as np\n",
    "\n",
    "from thinkbayes2 import Pmf, Cdf, Suite, Joint, EvalExponentialPdf, MakePoissonPmf, MakeMixture\n",
    "import thinkplot"
   ]
  },
  {
   "cell_type": "markdown",
   "metadata": {},
   "source": [
    "This next problem was taken from Allen Downey's notebook."
   ]
  },
  {
   "cell_type": "markdown",
   "metadata": {},
   "source": [
    "## World Cup Problem\n",
    "\n",
    "In the 2014 FIFA World Cup, Germany played Brazil in a semifinal match. Germany scored after 11 minutes and again at the 23 minute mark. At that point in the match, how many goals would you expect Germany to score after 90 minutes? What was the probability that they would score 5 more goals (as, in fact, they did)?\n",
    "\n",
    "Note: for this one you will need a new suite that provides a Likelihood function that takes as data the time between goals, rather than the number of goals in a game. "
   ]
  },
  {
   "cell_type": "markdown",
   "metadata": {},
   "source": [
    "I am going to assume that a Poisson process is a reasonable model to use for soccer games just like for hockey games, which assumes that goal scoring can be modeled by some fixed rate $\\lambda $. This means probability of scoring a goal during any point in the game is the same.\n",
    "\n",
    "Given the distribution is a Poisson process then the distribution of time between goals is exponential with $\\lambda $ being the goal scoring rate. We know that the first goal was scored at 11 minutes and the next goal occured 12 minutes later. \n",
    "\n",
    "First I will create a class that inherits from Suite and creates a likelihood function."
   ]
  },
  {
   "cell_type": "code",
   "execution_count": 3,
   "metadata": {
    "collapsed": true
   },
   "outputs": [],
   "source": [
    "class Soccer(Suite):\n",
    "    \"\"\"Hypotheses about goal scoring rates\"\"\"\n",
    "    def Likelihood(self, data, hypo):\n",
    "        \"\"\"Likelihood of data under hypothesis\n",
    "        hypo: goal rate in (goals/game)\n",
    "        data: time between goals\"\"\"\n",
    "        \n",
    "        x = data\n",
    "        lam = hypo/90.0\n",
    "        like = EvalExponentialPdf(x, lam)\n",
    "        return like"
   ]
  },
  {
   "cell_type": "markdown",
   "metadata": {},
   "source": [
    "This is returns the likelihood of the data given that the data is the time between goals in minutes and hypo is the predicted goal scoring rate in goals per game. \n",
    "\n",
    "Now we need to construct a prior. The average number of goals scored per game for the tournament was 2.7. I am going to construct a uniform distribution and update it so it has a mean of 2.7 goals. \n",
    "\n",
    "Data from: https://www.statista.com/statistics/269031/goals-scored-per-game-at-the-fifa-world-cup-since-1930/"
   ]
  },
  {
   "cell_type": "code",
   "execution_count": 18,
   "metadata": {
    "collapsed": false
   },
   "outputs": [
    {
     "data": {
      "text/plain": [
       "2.7252648918157445"
      ]
     },
     "execution_count": 18,
     "metadata": {},
     "output_type": "execute_result"
    },
    {
     "data": {
      "image/png": "[encoded data removed]",
      "text/plain": [
       "<matplotlib.figure.Figure at 0x7f072e506110>"
      ]
     },
     "metadata": {},
     "output_type": "display_data"
    }
   ],
   "source": [
    "hypos = np.linspace(0, 15, 201)\n",
    "suite = Soccer(hypos)\n",
    "suite.Update(66)\n",
    "thinkplot.Pdf(suite)\n",
    "suite.Mean()"
   ]
  },
  {
   "cell_type": "markdown",
   "metadata": {},
   "source": [
    "Now we can update our distribution with information from the actual game. The first goal was scored in 11 minutes, and the next goal game about 12 minutes later."
   ]
  },
  {
   "cell_type": "code",
   "execution_count": 19,
   "metadata": {
    "collapsed": false
   },
   "outputs": [
    {
     "data": {
      "text/plain": [
       "4.0420735012024362"
      ]
     },
     "execution_count": 19,
     "metadata": {},
     "output_type": "execute_result"
    },
    {
     "data": {
      "image/png": "[encoded data removed]",
      "text/plain": [
       "<matplotlib.figure.Figure at 0x7f072e781b50>"
      ]
     },
     "metadata": {},
     "output_type": "display_data"
    }
   ],
   "source": [
    "suite.Update(11)\n",
    "suite.Update(12)\n",
    "thinkplot.Pdf(suite)\n",
    "suite.Mean()"
   ]
  },
  {
   "cell_type": "markdown",
   "metadata": {},
   "source": [
    "Now my models believes that about 4 goals will be scored per game."
   ]
  },
  {
   "cell_type": "markdown",
   "metadata": {},
   "source": [
    "Now we have to predict how many goals will be scored in the remaining amount of time by Germany. We will use the posterior distribution of $\\lambda$ to create a predictive distribution for the number of goals that will be scored in the remaining time."
   ]
  },
  {
   "cell_type": "code",
   "execution_count": 26,
   "metadata": {
    "collapsed": false
   },
   "outputs": [],
   "source": [
    "def GoalsScored(suite, time_left):\n",
    "    \"\"\"Plots the predictive distribution for additional number of goals.\n",
    "\n",
    "    suite: posterior distribution of lambda in goals per game\n",
    "    time_left: how much of the game is left in minutes\n",
    "    \"\"\"\n",
    "    metapmf = Pmf()\n",
    "    for lam, prob in suite.Items():\n",
    "        lt = lam * time_left / 90\n",
    "        pred = MakePoissonPmf(lt, 15)\n",
    "        metapmf[pred] = prob\n",
    "        #thinkplot.Pdf(pred, color='gray', alpha=0.3, linewidth=0.5)\n",
    "\n",
    "    mix = MakeMixture(metapmf)\n",
    "    return mix\n",
    "\n",
    "mix = GoalsScored(suite, 90-23)"
   ]
  },
  {
   "cell_type": "code",
   "execution_count": 27,
   "metadata": {
    "collapsed": false
   },
   "outputs": [
    {
     "data": {
      "image/png": "[encoded data removed]",
      "text/plain": [
       "<matplotlib.figure.Figure at 0x7f0730f7bf90>"
      ]
     },
     "metadata": {},
     "output_type": "display_data"
    }
   ],
   "source": [
    "thinkplot.Hist(mix)\n"
   ]
  },
  {
   "cell_type": "code",
   "execution_count": 28,
   "metadata": {
    "collapsed": false
   },
   "outputs": [
    {
     "data": {
      "text/plain": [
       "0.2224156339145239"
      ]
     },
     "execution_count": 28,
     "metadata": {},
     "output_type": "execute_result"
    }
   ],
   "source": [
    "mix.ProbGreater(4)"
   ]
  },
  {
   "cell_type": "code",
   "execution_count": 29,
   "metadata": {
    "collapsed": false
   },
   "outputs": [
    {
     "data": {
      "text/plain": [
       "3.0070627149748601"
      ]
     },
     "execution_count": 29,
     "metadata": {},
     "output_type": "execute_result"
    }
   ],
   "source": [
    "mix.Mean()"
   ]
  },
  {
   "cell_type": "markdown",
   "metadata": {},
   "source": [
    "My model predicts a 22% chance of scoring 5 or more times which seems unreasonably high for a soccer game. "
   ]
  }
 ],
 "metadata": {
  "kernelspec": {
   "display_name": "Python [Root]",
   "language": "python",
   "name": "Python [Root]"
  },
  "language_info": {
   "codemirror_mode": {
    "name": "ipython",
    "version": 2
   },
   "file_extension": ".py",
   "mimetype": "text/x-python",
   "name": "python",
   "nbconvert_exporter": "python",
   "pygments_lexer": "ipython2",
   "version": "2.7.12"
  }
 },
 "nbformat": 4,
 "nbformat_minor": 0
}
