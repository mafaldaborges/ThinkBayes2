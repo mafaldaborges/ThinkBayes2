{
 "cells": [
  {
   "cell_type": "code",
   "execution_count": 142,
   "metadata": {
    "collapsed": true
   },
   "outputs": [],
   "source": [
    "from thinkbayes2 import Suite, Joint\n",
    "import numpy as np\n",
    "from itertools import product\n",
    "import thinkplot\n",
    "from scipy.stats import binom\n",
    "import matplotlib.pyplot as plt\n",
    "% matplotlib inline"
   ]
  },
  {
   "cell_type": "code",
   "execution_count": 96,
   "metadata": {
    "collapsed": true
   },
   "outputs": [],
   "source": [
    "def EvalWeibullPdf(x, lam, k):\n",
    "    \"\"\"Computes the Weibull PDF.\n",
    "\n",
    "    x: value\n",
    "    lam: parameter lambda in events per unit time\n",
    "    k: parameter\n",
    "\n",
    "    returns: float probability density\n",
    "    \"\"\"\n",
    "    arg = (x / lam)\n",
    "    return k / lam * arg**(k-1) * np.exp(-arg**k)\n",
    "\n",
    "def EvalWeibullCdf(x, lam, k):\n",
    "    \"\"\"Evaluates CDF of the Weibull distribution.\"\"\"\n",
    "    arg = (x / lam)\n",
    "    return 1 - np.exp(-arg**k)\n",
    "\n",
    "def MakeWeibullPmf(lam, k, high, n=200):\n",
    "    \"\"\"Makes a PMF discrete approx to a Weibull distribution.\n",
    "\n",
    "    lam: parameter lambda in events per unit time\n",
    "    k: parameter\n",
    "    high: upper bound\n",
    "    n: number of values in the Pmf\n",
    "\n",
    "    returns: normalized Pmf\n",
    "    \"\"\"\n",
    "    xs = np.linspace(0, high, n)\n",
    "    ps = EvalWeibullPdf(xs, lam, k)\n",
    "    return Pmf(dict(zip(xs, ps)))"
   ]
  },
  {
   "cell_type": "code",
   "execution_count": 131,
   "metadata": {
    "collapsed": false
   },
   "outputs": [],
   "source": [
    "class UnemploymentSurvivalDistributions(Suite, Joint):\n",
    "     def Likelihood(self, data, hypo):\n",
    "        lam, k, p = hypo\n",
    "        if lam == 0:\n",
    "            return 0\n",
    "        flag, x = data\n",
    "        if flag == 'eq':\n",
    "            like = EvalWeibullPdf(x, lam, k)\n",
    "        elif flag == 'gt':\n",
    "            like = 1 - EvalWeibullCdf(x, lam, k)\n",
    "        elif flag == 'lt':\n",
    "            like = EvalWeibullCdf(x, lam, k)\n",
    "        elif flag == 'bg': # employed pre-grad\n",
    "            e, t = x.split(\"/\")\n",
    "            like = binom.pmf(int(e), int(t), p)\n",
    "        else:\n",
    "            raise ValueError('Invalid data')\n",
    "        return like"
   ]
  },
  {
   "cell_type": "markdown",
   "metadata": {},
   "source": [
    "This model models the \"survival\" of unemployment through the months of the school year and after graduation. An assumption is made that every student will eventually get a job. Data is collected once at graduation and again some months afterwards. Thus it is assumed that any students who still do not have a job at the check in period will get a job at a time  after the check in. It is also assumed that once a student gets a job, they never lose it.\n",
    "\n",
    "The data that the model accepts is the times of employment of students, either an exact month or a definition of some period before or after a month. The probability of a student getting a job during the school year is modeled as a binomial distribution, while after graduation the model shifts to a Weibull distribution. It is assumed that during the school year the chances of getting a job remain constant."
   ]
  },
  {
   "cell_type": "code",
   "execution_count": 132,
   "metadata": {
    "collapsed": false
   },
   "outputs": [
    {
     "data": {
      "text/plain": [
       "1.6180254860732809e-55"
      ]
     },
     "execution_count": 132,
     "metadata": {},
     "output_type": "execute_result"
    }
   ],
   "source": [
    "# Use binomial for survival of unemployment before graduation\n",
    "# Use Weibull for survival of unemployment after graduation\n",
    "\n",
    "lams = np.linspace(0, 30, 101)\n",
    "ks = np.linspace(0, 100, 101)\n",
    "p = np.linspace(0, 1, 20)\n",
    "# class of 2012 data\n",
    "# 69 students\n",
    "# 50 employed at grad\n",
    "# 4 more employed after 5 months\n",
    "# 13 unemployed at 5 months\n",
    "d_2012 = {(\"lt\", 5): 4, (\"gt\", 5): 13, (\"bg\", \"50/69\"): 1}\n",
    "# class of 2013 data\n",
    "# 76 students\n",
    "# 53 employed at grad\n",
    "# 6 more employed after 7 months\n",
    "# 17 unemployed at 7 months\n",
    "d_2013 = {(\"lt\", 7): 6, (\"gt\", 7): 17, (\"bg\", \"53/76\"): 1}\n",
    "# class of 2014 data\n",
    "# 84 students\n",
    "# 41 employed at grad\n",
    "# 20 more employed after 7 months\n",
    "# 23 unemployed at 7 months\n",
    "d_2014 = {(\"lt\", 7): 20, (\"gt\", 7): 23, (\"bg\", \"41/84\"): 1}\n",
    "# class of 2015 data\n",
    "# 82 students\n",
    "# 44 employed at grad\n",
    "# 22 more employed after 7 months\n",
    "# 16 unemployed at 7 months\n",
    "d_2015 = {(\"lt\", 7): 22, (\"gt\", 7): 16, (\"bg\", \"44/82\"): 1}\n",
    "# class of 2016 data\n",
    "# 78 students\n",
    "# 53 employed at grad\n",
    "# 9 more employed after 7 months\n",
    "# 16 unemployed at 7 months\n",
    "d_2016 = {(\"lt\", 7): 9, (\"gt\", 7): 16, (\"bg\", \"53/78\"): 1}\n",
    "\n",
    "distr = UnemploymentSurvivalDistributions(product(lams, ks, p))\n",
    "ds = []\n",
    "for x in d_2012:\n",
    "    for _ in range(d_2012[x]):\n",
    "        ds.append(x)\n",
    "for x in d_2013:\n",
    "    for _ in range(d_2013[x]):\n",
    "        ds.append(x)\n",
    "for x in d_2014:\n",
    "    for _ in range(d_2014[x]):\n",
    "        ds.append(x)\n",
    "for x in d_2015:\n",
    "    for _ in range(d_2015[x]):\n",
    "        ds.append(x)\n",
    "for x in d_2016:\n",
    "    for _ in range(d_2016[x]):\n",
    "        ds.append(x)\n",
    "distr.UpdateSet(ds)"
   ]
  },
  {
   "cell_type": "code",
   "execution_count": 133,
   "metadata": {
    "collapsed": false
   },
   "outputs": [
    {
     "data": {
      "image/png": "[encoded data removed]",
      "text/plain": [
       "<matplotlib.figure.Figure at 0x7f998205a5f8>"
      ]
     },
     "metadata": {},
     "output_type": "display_data"
    }
   ],
   "source": [
    "pmf_k = distr.Marginal(1)\n",
    "thinkplot.Pdf(pmf_k)"
   ]
  },
  {
   "cell_type": "code",
   "execution_count": 134,
   "metadata": {
    "collapsed": false
   },
   "outputs": [
    {
     "data": {
      "image/png": "[encoded data removed]",
      "text/plain": [
       "<matplotlib.figure.Figure at 0x7f99807d4eb8>"
      ]
     },
     "metadata": {},
     "output_type": "display_data"
    }
   ],
   "source": [
    "pmf_lam = distr.Marginal(0)\n",
    "thinkplot.Pdf(pmf_lam)"
   ]
  },
  {
   "cell_type": "code",
   "execution_count": 135,
   "metadata": {
    "collapsed": false
   },
   "outputs": [
    {
     "data": {
      "image/png": "[encoded data removed]",
      "text/plain": [
       "<matplotlib.figure.Figure at 0x7f998a149e80>"
      ]
     },
     "metadata": {},
     "output_type": "display_data"
    }
   ],
   "source": [
    "pmf_p = distr.Marginal(2)\n",
    "thinkplot.Pdf(pmf_p)"
   ]
  },
  {
   "cell_type": "code",
   "execution_count": 136,
   "metadata": {
    "collapsed": false
   },
   "outputs": [
    {
     "name": "stdout",
     "output_type": "stream",
     "text": [
      "Probability of a student being employed at 9 months: 0.620815710466\n"
     ]
    }
   ],
   "source": [
    "prob = 0\n",
    "for hypo in distr:\n",
    "    lam, k, p = hypo\n",
    "    prob += distr[hypo] * p\n",
    "    \n",
    "print(\"Probability of a student being employed at 9 months:\", prob)"
   ]
  },
  {
   "cell_type": "code",
   "execution_count": 137,
   "metadata": {
    "collapsed": false
   },
   "outputs": [
    {
     "name": "stdout",
     "output_type": "stream",
     "text": [
      "Probability of a student being employed at 12 months: 0.774409056926\n"
     ]
    }
   ],
   "source": [
    "prob = 0\n",
    "for hypo in distr:\n",
    "    lam, k, p = hypo\n",
    "    prob += distr[hypo] * p\n",
    "    prob += distr[hypo] * (EvalWeibullCdf(12, lam, k) - EvalWeibullCdf(9, lam, k))\n",
    "    \n",
    "print(\"Probability of a student being employed at 12 months:\", prob)"
   ]
  },
  {
   "cell_type": "code",
   "execution_count": 138,
   "metadata": {
    "collapsed": false
   },
   "outputs": [
    {
     "name": "stdout",
     "output_type": "stream",
     "text": [
      "Probability of a student being employed at 24 months: 0.94595571718\n"
     ]
    }
   ],
   "source": [
    "prob = 0\n",
    "for hypo in distr:\n",
    "    lam, k, p = hypo\n",
    "    prob += distr[hypo] * p\n",
    "    prob += distr[hypo] * (EvalWeibullCdf(24, lam, k) - EvalWeibullCdf(9, lam, k))\n",
    "    \n",
    "print(\"Probability of a student being employed at 24 months:\", prob)"
   ]
  },
  {
   "cell_type": "code",
   "execution_count": 146,
   "metadata": {
    "collapsed": false
   },
   "outputs": [
    {
     "data": {
      "text/plain": [
       "[<matplotlib.lines.Line2D at 0x7f99856c7978>]"
      ]
     },
     "execution_count": 146,
     "metadata": {},
     "output_type": "execute_result"
    },
    {
     "data": {
      "image/png": "[encoded data removed]",
      "text/plain": [
       "<matplotlib.figure.Figure at 0x7f9985200d68>"
      ]
     },
     "metadata": {},
     "output_type": "display_data"
    }
   ],
   "source": [
    "ps = []\n",
    "for i in range(24):\n",
    "    prob = 0\n",
    "    for hypo in distr:\n",
    "        lam, k, p = hypo\n",
    "        if (i <= 9):\n",
    "            prob += distr[hypo] * p\n",
    "        else:\n",
    "            prob += distr[hypo] * p\n",
    "            prob += distr[hypo] * (EvalWeibullCdf(i, lam, k) - EvalWeibullCdf(9, lam, k))\n",
    "    ps.append(prob)\n",
    "plt.xlabel(\"Months since beginning of senior year\")\n",
    "plt.ylabel(\"Probability of being employed\")\n",
    "plt.plot(ps)"
   ]
  },
  {
   "cell_type": "markdown",
   "metadata": {},
   "source": [
    "The figure above shows the probability of a student having a job at any given month up to 2 years from the beginning of their senior year. The probability remains constant during their school year, up until month 9 when they graduate. For every year, more students had jobs at the check in period than at graduation, so students are more likely to have a job in the months following graduation.\n",
    "\n",
    "Based on this model, we predict that after 24 months, about 94% of students will have jobs. The reason this chance is so high is that we assumed that every student would eventually get a job, but did not account for those who are gauranteed to be unemployed for a certain period of time (graduate school). Possible improvements to the model would be to account for fixed periods of unemployment as well as those students who never actually get a job (infinite unemployment lifespan)."
   ]
  },
  {
   "cell_type": "code",
   "execution_count": null,
   "metadata": {
    "collapsed": true
   },
   "outputs": [],
   "source": []
  }
 ],
 "metadata": {
  "kernelspec": {
   "display_name": "Python [Root]",
   "language": "python",
   "name": "Python [Root]"
  },
  "language_info": {
   "codemirror_mode": {
    "name": "ipython",
    "version": 2
   },
   "file_extension": ".py",
   "mimetype": "text/x-python",
   "name": "python",
   "nbconvert_exporter": "python",
   "pygments_lexer": "ipython2",
   "version": "2.7.12"
  }
 },
 "nbformat": 4,
 "nbformat_minor": 1
}
