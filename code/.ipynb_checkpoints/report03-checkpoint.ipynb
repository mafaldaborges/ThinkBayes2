{
 "cells": [
  {
   "cell_type": "markdown",
   "metadata": {},
   "source": [
    "# Report 3\n",
    "## Mafalda Borges"
   ]
  },
  {
   "cell_type": "code",
   "execution_count": 17,
   "metadata": {
    "collapsed": true
   },
   "outputs": [],
   "source": [
    "from __future__ import print_function, division\n",
    "\n",
    "% matplotlib inline\n",
    "import warnings\n",
    "warnings.filterwarnings('ignore')\n",
    "\n",
    "import numpy as np\n",
    "\n",
    "from thinkbayes2 import Hist, Pmf, Cdf, Suite, Beta\n",
    "import thinkplot"
   ]
  },
  {
   "cell_type": "markdown",
   "metadata": {},
   "source": [
    "# 1984"
   ]
  },
  {
   "cell_type": "markdown",
   "metadata": {},
   "source": [
    "The following problem was written by Katerina Zoltan.\n",
    "\n",
    "The place: Airstrip One. The reason: thoughtcrime. The time: ???\n",
    "\n",
    "John's parents were taken by the Thought Police and erased from all records. John is being initiated into the Youth League and must pass a test. He is asked whether his parents are good comrades. It is not clear what John's admission officer knows:\n",
    "\n",
    "1. He may know that John's parents have been erased and that John did not give them away.\n",
    "2. He may know only that John's parents have been erased.\n",
    "3. He may not know that John's parents have been erased.\n",
    "\n",
    "It is a well known fact that children who have parents that are 'good comrades' have twice the chances of passing the test. However, if the admission officer knows that their parents committed thoughtcrime (but not that they have been erased yet), a child that gave his parents away has three times the chances of getting in than a child who did not give them away.\n",
    "\n",
    "And if the admission officer knows the specifics of the arrest, a child that denies that the records are false and their parents existed has a 1/3 chance of getting in, while one who pretends that his parents never existed has a 2/3 chance. Lying to an admission officer that knows the parents have been erased will ensure that the child does not get in. Telling an admission officer that your parents do not exist when he does not know this will give you a 1/3 chance of getting in.\n",
    "\n",
    "There is a 60% chance the admission officer knows nothing, a 25% chance that he knows the parents have been erased, and a 15% chance that the officer knows all of the details. John says that he never had parents and is admitted into the Youth League. What did his admission officer know?"
   ]
  },
  {
   "cell_type": "markdown",
   "metadata": {},
   "source": [
    "The first part is just recognizing what information need to be taken from the problem. There are three possible hypotheses the first being the officer knows everything, the second being he knows something and the last being he knows nothing.\n",
    "\n",
    "The data can also come in three types. Either John gave away his parents, he did not give away his parents or his parents are good comrades. \n",
    "\n",
    "In our case we know John claims he has no parents so we can use this to update the suite we created. \n",
    "\n",
    "From this we have enough information to set up our problem."
   ]
  },
  {
   "cell_type": "code",
   "execution_count": 5,
   "metadata": {
    "collapsed": false
   },
   "outputs": [
    {
     "name": "stdout",
     "output_type": "stream",
     "text": [
      "everything 0.15\n",
      "nothing 0.6\n",
      "something 0.25\n"
     ]
    }
   ],
   "source": [
    "adm_officer = {'everything': 0.15, 'something': 0.25, 'nothing': 0.60}\n",
    "\n",
    "class YouthLeague(Suite):\n",
    "    def Likelihood(self,data,hypo):\n",
    "        if data == 'gave up parents':\n",
    "            if hypo == 'everything':\n",
    "                return 0\n",
    "            elif hypo == 'something':\n",
    "                return 1\n",
    "            else:\n",
    "                return 3\n",
    "        elif data == 'no parents':\n",
    "            if hypo == 'everything':\n",
    "                return 2\n",
    "            elif hypo == 'something':\n",
    "                return 1\n",
    "            else:\n",
    "                return 1\n",
    "        else: #data == 'parents are good comrades'\n",
    "            if hypo == 'everything':\n",
    "                return 0\n",
    "            elif hypo == 'something':\n",
    "                return 0\n",
    "            else:\n",
    "                return 2\n",
    "            \n",
    "pmf_1984 = YouthLeague(adm_officer)\n",
    "pmf_1984.Print()"
   ]
  },
  {
   "cell_type": "code",
   "execution_count": 6,
   "metadata": {
    "collapsed": false
   },
   "outputs": [
    {
     "name": "stdout",
     "output_type": "stream",
     "text": [
      "everything 0.260869565217\n",
      "nothing 0.521739130435\n",
      "something 0.217391304348\n"
     ]
    }
   ],
   "source": [
    "pmf_1984.Update('no parents')\n",
    "pmf_1984.Print()"
   ]
  },
  {
   "cell_type": "markdown",
   "metadata": {},
   "source": [
    "This shows that most likely the admission officer knows nothing but he could possibly know everything or something, and John would still have a chance of getting in. "
   ]
  },
  {
   "cell_type": "markdown",
   "metadata": {},
   "source": [
    "### Where Am I? - The Robot Localization Problem\n",
    "\n",
    "This next problem was written by Kathryn Hite.\n",
    "\n",
    "Bayes's Theorem proves to be extremely useful when building mobile robots that need to know where they are within an environment at any given time.  Because of the error in motion and sensor systems, a robot's knowledge of its location in the world is based on probabilities.  Let's look at a simplified example that could feasibly be scaled up to create a working localization model.\n",
    "\n",
    "**Part A:**  We have a robot that exists within a very simple environement.  The map for this environment is a row of 6 grid cells that are colored either green or red and each labeled $x_1$, $x_2$, etc.  In real life, a larger form of this grid environment could make up what is known as an occupancy grid, or a map of the world with places that the robot can go represented as green cells and obstacles as red cells.\n",
    "\n",
    "|G|R|R|G|G|G|\n",
    "|-|-|-|-|-|-|\n",
    "|$x_1$|$x_2$|$x_3$|$x_4$|$x_5$|$x_6$|\n",
    "\n",
    "The robot has a sensor that can detect color with an 80% chance of being accurate.\n",
    "\n",
    "Given that the robot gets dropped in the environment and senses **red**, what is the probability of it being in each of the six locations?"
   ]
  },
  {
   "cell_type": "markdown",
   "metadata": {},
   "source": [
    "For our prior we know what grid colors already exist. We also know the probability of correctly identifying a color. From this we can look at the probability of being in any of the locations on the grid."
   ]
  },
  {
   "cell_type": "code",
   "execution_count": 10,
   "metadata": {
    "collapsed": true
   },
   "outputs": [],
   "source": [
    "colors = 'GRRGGG'\n",
    "locations = range(len(colors))\n",
    "data = 'R'\n",
    "\n",
    "class Robot(Suite):\n",
    "    \n",
    "    colors = 'GRRGGG'\n",
    "    \n",
    "    def Likelihood(self, data, hypo):\n",
    "        \"\"\" data: the detected color of 'R or Green'\n",
    "            hypo: the starting location\n",
    "        \"\"\"\n",
    "        \n",
    "        if self.colors[hypo] == data:\n",
    "            return 0.8\n",
    "        else:\n",
    "            return 0.2"
   ]
  },
  {
   "cell_type": "code",
   "execution_count": 11,
   "metadata": {
    "collapsed": false
   },
   "outputs": [
    {
     "name": "stdout",
     "output_type": "stream",
     "text": [
      "0 0.0833333333333\n",
      "1 0.333333333333\n",
      "2 0.333333333333\n",
      "3 0.0833333333333\n",
      "4 0.0833333333333\n",
      "5 0.0833333333333\n"
     ]
    }
   ],
   "source": [
    "robot = Robot(locations)\n",
    "robot.Update('R')\n",
    "robot.Print()"
   ]
  },
  {
   "cell_type": "markdown",
   "metadata": {},
   "source": [
    "This shows that the robot is more likely to be at either of the red locations, with about a 1/3 chance of being at either."
   ]
  },
  {
   "cell_type": "markdown",
   "metadata": {},
   "source": [
    "**Part B:** This becomes an extremely useful tool as we begin to move around the map.  Let's try to get a more accurate knowledge of where the robot falls in the world by telling it to move forward one cell.\n",
    "\n",
    "The robot moves forward one cell from its previous position and the sensor reads **green**, again with an 80% accuracy rate.  Update the probability of the robot having started in each location."
   ]
  },
  {
   "cell_type": "markdown",
   "metadata": {},
   "source": [
    "For this problem we will need to keep track of where the robot is and where it moves to, as well as the color it senses. We still know the colors in the grid, and we know how likely it is that the robot sensed the colors correctly. We will first input the information of the robot sensing a red square. The we will update this with the sensing of a green square. We do that by setting the previous posteriors as the priors for the next part of the problem. "
   ]
  },
  {
   "cell_type": "code",
   "execution_count": 12,
   "metadata": {
    "collapsed": true
   },
   "outputs": [],
   "source": [
    "class Robot2(Suite):\n",
    "    colors = 'GRRGGG'\n",
    "    \n",
    "    def Likelihood(self, data, hypo):\n",
    "        \"\"\"data shows it's location and the color sensed\n",
    "        hypo: is where the robot started\n",
    "        \"\"\"\n",
    "        loc, color = data\n",
    "        index = (hypo + loc) %len(self.colors)\n",
    "        if self.colors[index] == color:\n",
    "            return 0.8\n",
    "        else:\n",
    "            return 0.2"
   ]
  },
  {
   "cell_type": "code",
   "execution_count": 14,
   "metadata": {
    "collapsed": false
   },
   "outputs": [
    {
     "name": "stdout",
     "output_type": "stream",
     "text": [
      "0 0.0833333333333\n",
      "1 0.333333333333\n",
      "2 0.333333333333\n",
      "3 0.0833333333333\n",
      "4 0.0833333333333\n",
      "5 0.0833333333333\n"
     ]
    }
   ],
   "source": [
    "robot2 = Robot2(locations)\n",
    "robot2.Update((0,'R'))\n",
    "robot2.Print()"
   ]
  },
  {
   "cell_type": "code",
   "execution_count": 15,
   "metadata": {
    "collapsed": false
   },
   "outputs": [
    {
     "name": "stdout",
     "output_type": "stream",
     "text": [
      "0 0.030303030303\n",
      "1 0.121212121212\n",
      "2 0.484848484848\n",
      "3 0.121212121212\n",
      "4 0.121212121212\n",
      "5 0.121212121212\n"
     ]
    }
   ],
   "source": [
    "robot2.Update((1,'G'))\n",
    "robot2.Print()"
   ]
  },
  {
   "cell_type": "markdown",
   "metadata": {},
   "source": [
    "This shows that the location with the highest probability that the robot is at, is the one with index 2 or the 3rd position on the grid. There is a 48% chance the robot is there."
   ]
  },
  {
   "cell_type": "markdown",
   "metadata": {},
   "source": [
    "## Red Dice problems\n",
    "\n",
    "Suppose I have a six-sided die that is red on 2 sides and blue on 4 sides, and another die that's the other way around, red on 4 sides and blue on 2.\n",
    "\n",
    "I choose a die at random and roll it, and I tell you it came up red.  What is the probability that I rolled the second die (red on 4 sides)?"
   ]
  },
  {
   "cell_type": "markdown",
   "metadata": {},
   "source": [
    "We are going to assume there is equal probability that either die is chosen. Then we also assume a fair die making the first die have a 1/3 chance of rolling a red and 2/3 chance of rolling a blue and the second die the opposite is true. Knowing the ratio of blue to red sides allows us to set up our likelihoods. We will set up each die as a PMF. "
   ]
  },
  {
   "cell_type": "code",
   "execution_count": 32,
   "metadata": {
    "collapsed": false
   },
   "outputs": [
    {
     "name": "stdout",
     "output_type": "stream",
     "text": [
      "Blue 2/3\n",
      "Red 1/3\n",
      "Blue 1/3\n",
      "Red 2/3\n"
     ]
    }
   ],
   "source": [
    "from fractions import Fraction\n",
    "\n",
    "d1 = Pmf({'Red':Fraction(2), 'Blue':Fraction(4)}, label='d1 (bluer) ')\n",
    "d2 = Pmf({'Red':Fraction(4), 'Blue':Fraction(2)}, label='d2 (redder)')\n",
    "d1.Print()\n",
    "d2.Print()"
   ]
  },
  {
   "cell_type": "code",
   "execution_count": 33,
   "metadata": {
    "collapsed": false
   },
   "outputs": [
    {
     "name": "stdout",
     "output_type": "stream",
     "text": [
      "d2 (redder) 1/2\n",
      "d1 (bluer)  1/2\n"
     ]
    }
   ],
   "source": [
    "dice = Pmf({d1:Fraction(1), d2:Fraction(1)})\n",
    "dice.Print()"
   ]
  },
  {
   "cell_type": "code",
   "execution_count": null,
   "metadata": {
    "collapsed": true
   },
   "outputs": [],
   "source": [
    "class Dice(Suite):\n",
    "    def Likelihood(self,data,hypo):\n",
    "        \"\"\"\"\"\"\n",
    "        return hypo[data]"
   ]
  },
  {
   "cell_type": "code",
   "execution_count": 35,
   "metadata": {
    "collapsed": false
   },
   "outputs": [
    {
     "name": "stdout",
     "output_type": "stream",
     "text": [
      "d2 (redder) 1/2\n",
      "d1 (bluer)  1/2\n"
     ]
    }
   ],
   "source": [
    "prior = Dice({d1:Fraction(1), d2:Fraction(1)})\n",
    "prior.Print()"
   ]
  },
  {
   "cell_type": "code",
   "execution_count": 36,
   "metadata": {
    "collapsed": false
   },
   "outputs": [
    {
     "name": "stdout",
     "output_type": "stream",
     "text": [
      "d2 (redder) 2/3\n",
      "d1 (bluer)  1/3\n"
     ]
    }
   ],
   "source": [
    "posterior = prior.Copy()\n",
    "posterior.Update('Red')\n",
    "posterior.Print()"
   ]
  },
  {
   "cell_type": "markdown",
   "metadata": {},
   "source": [
    "This shows that rolling red, there is a 2/3 chance that die 2 was rolled."
   ]
  },
  {
   "cell_type": "markdown",
   "metadata": {},
   "source": [
    "## Scenario B\n",
    "\n",
    "Suppose I roll the same die again.  What is the probability I get red?"
   ]
  },
  {
   "cell_type": "markdown",
   "metadata": {},
   "source": [
    "In this case the posterior from the previous problem will become the prior of the new problem. "
   ]
  },
  {
   "cell_type": "code",
   "execution_count": 37,
   "metadata": {
    "collapsed": false
   },
   "outputs": [
    {
     "name": "stdout",
     "output_type": "stream",
     "text": [
      "Blue 4/9\n",
      "Red 5/9\n"
     ]
    }
   ],
   "source": [
    "from thinkbayes2 import MakeMixture\n",
    "\n",
    "predictive = MakeMixture(posterior)\n",
    "predictive.Print()"
   ]
  },
  {
   "cell_type": "markdown",
   "metadata": {},
   "source": [
    "This shows the the chances of rolling a red again are slightly higher than rolling a blue."
   ]
  },
  {
   "cell_type": "markdown",
   "metadata": {},
   "source": [
    "## Scenario C\n",
    "\n",
    "Now let's run a different experiment.  Suppose I choose a die and roll it.  If the outcome is red, I report the outcome.  Otherwise I choose a die again and roll again, and repeat until I get red.\n",
    "\n",
    "What is the probability that the last die I rolled is the reddish one?"
   ]
  },
  {
   "cell_type": "markdown",
   "metadata": {},
   "source": [
    "This is actually just Scenario A in disguise. We are only concerned with the outcome of rolling a red, just like the first problem. The priors will be 1/2 choosing each die, and the likelihoods will be the number of red faces on each die over the total number of sides. Given that the set-up is the same as the first problem we can safely say that there is a 2/3 chance of rolling the reddish die and a 1/3 chance of rolling the bluish die."
   ]
  },
  {
   "cell_type": "markdown",
   "metadata": {},
   "source": [
    "## Scenario D\n",
    "\n",
    "Finally, suppose I choose a die and roll it over and over until I get red, then report the outcome.  What is the probability that the die I rolled is the reddish one?"
   ]
  },
  {
   "cell_type": "markdown",
   "metadata": {},
   "source": [
    "In this case the outcome does not really matter. The only important piece of information is that a die is picked at random and will not be changed for the duration of the experiment. Since each die is equally likely to be picked we know that the there is a 1/2 chance of picking the reddish die and a 1/2 chance of picking the bluish die. If we knew how many rolls it took to get to the red we could better predict which die was drawn. "
   ]
  }
 ],
 "metadata": {
  "kernelspec": {
   "display_name": "Python [Root]",
   "language": "python",
   "name": "Python [Root]"
  },
  "language_info": {
   "codemirror_mode": {
    "name": "ipython",
    "version": 2
   },
   "file_extension": ".py",
   "mimetype": "text/x-python",
   "name": "python",
   "nbconvert_exporter": "python",
   "pygments_lexer": "ipython2",
   "version": "2.7.12"
  }
 },
 "nbformat": 4,
 "nbformat_minor": 0
}
