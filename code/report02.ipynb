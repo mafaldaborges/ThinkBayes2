{
 "cells": [
  {
   "cell_type": "markdown",
   "metadata": {},
   "source": [
    "# Report 2\n",
    "## Mafalda Borges"
   ]
  },
  {
   "cell_type": "code",
   "execution_count": 2,
   "metadata": {
    "collapsed": true
   },
   "outputs": [],
   "source": [
    "from __future__ import print_function, division\n",
    "\n",
    "import numpy as np\n",
    "\n",
    "import thinkbayes2\n",
    "from thinkbayes2 import Pmf, Cdf, Suite, Beta, MakeBinomialPmf\n",
    "import thinkplot\n",
    "from scipy import special\n",
    "\n",
    "% matplotlib inline"
   ]
  },
  {
   "cell_type": "markdown",
   "metadata": {},
   "source": [
    "# The Chess Problem\n",
    "The following problem was taken from a quiz by Allen Downey."
   ]
  },
  {
   "cell_type": "markdown",
   "metadata": {},
   "source": [
    "Two identical twins are members of my chess club, but they never show up on the same day; in fact, they strictly alternate the days they show up.  I can't tell them apart except that one is a better player than the other:  Avery beats me 60% of the time and I beat Blake 70% of the time.  If I play one twin on Monday and win, and the other twin on Tuesday and lose, which twin did I play on which day?"
   ]
  },
  {
   "cell_type": "markdown",
   "metadata": {},
   "source": [
    "For this problem, let's assume that it is equally likely that either scenario could occur. Hypothesis one is that I play Avery first and then Blake second, with hypothesis two being the opposite. I also know how often I win or lose against each one and I will multiply these probabilities to get my likelihood. Now I can set up my problem."
   ]
  },
  {
   "cell_type": "code",
   "execution_count": 40,
   "metadata": {
    "collapsed": false
   },
   "outputs": [
    {
     "name": "stdout",
     "output_type": "stream",
     "text": [
      "AveryBlake 0.222222222222\n",
      "BlakeAvery 0.777777777778\n"
     ]
    }
   ],
   "source": [
    "pmfChess = Pmf()\n",
    "pmfChess['AveryBlake'] = 0.5\n",
    "pmfChess['BlakeAvery'] = 0.5\n",
    "pmfChess.Mult('AveryBlake', 0.4*0.3)\n",
    "pmfChess.Mult('BlakeAvery', 0.6*0.7)\n",
    "pmfChess.Normalize()\n",
    "pmfChess.Print()"
   ]
  },
  {
   "cell_type": "markdown",
   "metadata": {},
   "source": [
    "This model predicts there was roughly a 78% chance you played Blake and then Avery. "
   ]
  },
  {
   "cell_type": "markdown",
   "metadata": {},
   "source": [
    "## The Euro Problem\n",
    "The following problem has been taken from *Information Theory, Inference, and Learning Algorithms* by David Mackay. "
   ]
  },
  {
   "cell_type": "markdown",
   "metadata": {},
   "source": [
    "When spun on edge 250 times, a Belgian one-euro coin\n",
    "came up heads 140 times and tails 110. ‘It looks very\n",
    "suspicious to me,’ said Barry Blight, a statistics lecturer\n",
    "at the London School of Economics. ‘If the coin were\n",
    "unbiased, the chance of getting a result as extreme as\n",
    "that would be less than 7%.'"
   ]
  },
  {
   "cell_type": "markdown",
   "metadata": {},
   "source": [
    "I first set up a uniform distribution as my prior. "
   ]
  },
  {
   "cell_type": "code",
   "execution_count": 6,
   "metadata": {
    "collapsed": false
   },
   "outputs": [
    {
     "data": {
      "image/png": "[encoded data removed]",
      "text/plain": [
       "<matplotlib.figure.Figure at 0x7fa1d8442ad0>"
      ]
     },
     "metadata": {},
     "output_type": "display_data"
    }
   ],
   "source": [
    "uniformEuro = Beta(1,1, label = 'uniform')\n",
    "thinkplot.Pdf(uniformEuro.MakePmf())"
   ]
  },
  {
   "cell_type": "markdown",
   "metadata": {},
   "source": [
    "Next I updated this information by feeding in the data from the problem or a result of 140 heads and 110 tails. "
   ]
  },
  {
   "cell_type": "code",
   "execution_count": 7,
   "metadata": {
    "collapsed": false
   },
   "outputs": [
    {
     "data": {
      "image/png": "[encoded data removed]",
      "text/plain": [
       "<matplotlib.figure.Figure at 0x7fa1a1c5b050>"
      ]
     },
     "metadata": {},
     "output_type": "display_data"
    }
   ],
   "source": [
    "dataset = 140, 110\n",
    "uniformEuro.Update(dataset)\n",
    "thinkplot.Pdf(uniformEuro.MakePmf())"
   ]
  },
  {
   "cell_type": "markdown",
   "metadata": {},
   "source": [
    "I tried this problem again but this time I used a beta distribution as my prior which assumes a fair coin."
   ]
  },
  {
   "cell_type": "code",
   "execution_count": 9,
   "metadata": {
    "collapsed": false
   },
   "outputs": [
    {
     "data": {
      "image/png": "[encoded data removed]",
      "text/plain": [
       "<matplotlib.figure.Figure at 0x7fa1a1932510>"
      ]
     },
     "metadata": {},
     "output_type": "display_data"
    }
   ],
   "source": [
    "betaEuro = Beta(100,100, label = 'beta')\n",
    "thinkplot.Pdf(betaEuro.MakePmf())"
   ]
  },
  {
   "cell_type": "markdown",
   "metadata": {},
   "source": [
    "Once again I updated my model with the same dataset. "
   ]
  },
  {
   "cell_type": "code",
   "execution_count": 12,
   "metadata": {
    "collapsed": false
   },
   "outputs": [
    {
     "data": {
      "image/png": "[encoded data removed]",
      "text/plain": [
       "<matplotlib.figure.Figure at 0x7fa1a409a750>"
      ]
     },
     "metadata": {},
     "output_type": "display_data"
    }
   ],
   "source": [
    "betaEuro.Update(dataset)\n",
    "thinkplot.Pdf(betaEuro.MakePmf())"
   ]
  },
  {
   "cell_type": "markdown",
   "metadata": {},
   "source": [
    "Let's compare the two distributions. "
   ]
  },
  {
   "cell_type": "code",
   "execution_count": 13,
   "metadata": {
    "collapsed": false
   },
   "outputs": [
    {
     "data": {
      "image/png": "[encoded data removed]",
      "text/plain": [
       "<matplotlib.figure.Figure at 0x7fa1a16490d0>"
      ]
     },
     "metadata": {},
     "output_type": "display_data"
    }
   ],
   "source": [
    "thinkplot.Pdf(uniformEuro.MakePmf())\n",
    "thinkplot.Pdf(betaEuro.MakePmf())\n",
    "thinkplot.Config(xlabel = 'x', ylabel = 'Probability')"
   ]
  },
  {
   "cell_type": "markdown",
   "metadata": {},
   "source": [
    "This shows that the informative prior opposed to the uniformative prior has a narrower spread, and a slightly different location, showing the how the prior is selected can have large effects on the final results. "
   ]
  },
  {
   "cell_type": "markdown",
   "metadata": {},
   "source": [
    "## Women's Skeet Event\n",
    "The next problem was taken from Allen Downey's workbook. "
   ]
  },
  {
   "cell_type": "markdown",
   "metadata": {},
   "source": [
    "At the 2016 Summer Olympics in the Women's Skeet event, Kim Rhode faced Wei Meng in the bronze medal match. They each hit 15 of 25 skeets, sending the match into sudden death. In the first round, both hit 1 of 2 skeets. In the next two rounds, they each hit 2 skeets. Finally, in the fourth round, Rhode hit 2 and Wei hit 1, so Rhode won the bronze medal, making her the first Summer Olympian to win an individual medal at six consecutive summer games.\n",
    "\n",
    "But after all that shooting, what is the probability that Rhode is actually a better shooter than Wei? If the same match were held again, what is the probability that Rhode would win?"
   ]
  },
  {
   "cell_type": "markdown",
   "metadata": {},
   "source": [
    "I used a beta function as my prior, which I set up using data from the final round of skeet shooting for women in the 2012 London Olympics. I found the mean number of clays that were successfully shot (which was 22) and missed (3) and used these numbers to set up my beta function. From this I can create a model to compare the two shooters."
   ]
  },
  {
   "cell_type": "code",
   "execution_count": 14,
   "metadata": {
    "collapsed": true
   },
   "outputs": [],
   "source": [
    "rhode = Beta(22,3, label = \"Rhode\")\n",
    "rhode.Update((22,11))\n",
    "wei=Beta(22,3,label='Wei')\n",
    "wei.Update((21,12))"
   ]
  },
  {
   "cell_type": "code",
   "execution_count": 15,
   "metadata": {
    "collapsed": false
   },
   "outputs": [
    {
     "data": {
      "image/png": "[encoded data removed]",
      "text/plain": [
       "<matplotlib.figure.Figure at 0x7fa1a1588cd0>"
      ]
     },
     "metadata": {},
     "output_type": "display_data"
    }
   ],
   "source": [
    "thinkplot.Pdf(rhode.MakePmf())\n",
    "thinkplot.Pdf(wei.MakePmf())\n",
    "thinkplot.Config(loc = \"upper left\", xlabel = 'x', ylabel = 'Probability')"
   ]
  },
  {
   "cell_type": "markdown",
   "metadata": {},
   "source": [
    "Now I have a model to predict who is a better shooter. I can take data from it (the posteriors) and compare them."
   ]
  },
  {
   "cell_type": "code",
   "execution_count": 41,
   "metadata": {
    "collapsed": false
   },
   "outputs": [
    {
     "data": {
      "text/plain": [
       "0.58099999999999996"
      ]
     },
     "execution_count": 41,
     "metadata": {},
     "output_type": "execute_result"
    }
   ],
   "source": [
    "rhode_sample = rhode.MakeCdf(10001).Sample(10000)\n",
    "wei_sample = wei.MakeCdf(10001).Sample(10000)\n",
    "np.mean(rhode_sample > wei_sample)"
   ]
  },
  {
   "cell_type": "code",
   "execution_count": 42,
   "metadata": {
    "collapsed": false
   },
   "outputs": [
    {
     "data": {
      "text/plain": [
       "0.41820000000000002"
      ]
     },
     "execution_count": 42,
     "metadata": {},
     "output_type": "execute_result"
    }
   ],
   "source": [
    "np.mean(rhode_sample < wei_sample)"
   ]
  },
  {
   "cell_type": "markdown",
   "metadata": {},
   "source": [
    "My model predicts that the probability that Rhode is a better shooter than Wei is 58%. "
   ]
  },
  {
   "cell_type": "markdown",
   "metadata": {},
   "source": [
    "Next I want to look at what would happen if there is a rematch. I can do this by drawing random samples of 'p' the probability of being a better shooter from my posterior distribution, and create a binomial distribution using 'p' and an n of 25. "
   ]
  },
  {
   "cell_type": "code",
   "execution_count": 18,
   "metadata": {
    "collapsed": false
   },
   "outputs": [
    {
     "data": {
      "image/png": "[encoded data removed]",
      "text/plain": [
       "<matplotlib.figure.Figure at 0x7fa1b5724a50>"
      ]
     },
     "metadata": {},
     "output_type": "display_data"
    }
   ],
   "source": [
    "rhode_rematch = np.random.binomial(25, rhode_sample)\n",
    "thinkplot.Hist(Pmf(rhode_rematch))"
   ]
  },
  {
   "cell_type": "code",
   "execution_count": 19,
   "metadata": {
    "collapsed": false
   },
   "outputs": [
    {
     "data": {
      "text/plain": [
       "0.49930000000000002"
      ]
     },
     "execution_count": 19,
     "metadata": {},
     "output_type": "execute_result"
    }
   ],
   "source": [
    "wei_rematch = np.random.binomial(25, wei_sample)\n",
    "np.mean(rhode_rematch > wei_rematch)"
   ]
  },
  {
   "cell_type": "code",
   "execution_count": 21,
   "metadata": {
    "collapsed": false
   },
   "outputs": [
    {
     "data": {
      "text/plain": [
       "0.3947"
      ]
     },
     "execution_count": 21,
     "metadata": {},
     "output_type": "execute_result"
    }
   ],
   "source": [
    "np.mean(rhode_rematch < wei_rematch)"
   ]
  },
  {
   "cell_type": "code",
   "execution_count": 22,
   "metadata": {
    "collapsed": false
   },
   "outputs": [
    {
     "data": {
      "text/plain": [
       "0.106"
      ]
     },
     "execution_count": 22,
     "metadata": {},
     "output_type": "execute_result"
    }
   ],
   "source": [
    "np.mean(rhode_rematch == wei_rematch)"
   ]
  },
  {
   "cell_type": "markdown",
   "metadata": {},
   "source": [
    "My model predicts that there is a 50% chance Rhode wins in normal time, a 39% chance Wei wins in normal time, and an 11% chance of sudden death. "
   ]
  },
  {
   "cell_type": "markdown",
   "metadata": {},
   "source": [
    "# The Coin Toss with a Measuring Device\n",
    "The next problem was taken from *Think Bayes* by Allen Downey."
   ]
  },
  {
   "cell_type": "markdown",
   "metadata": {},
   "source": [
    "Suppose that instead of observing coin tosses directly, you measure the outcome using an instrument that is not always correct. Specifically, suppose there is a probability y that an actual heads is reported as tails, or actual tails reported as heads.\n",
    "Write a class that estimates the bias of a coin given a series of outcomes and the value of y.\n",
    "How does the spread of the posterior distribution depend on y?"
   ]
  },
  {
   "cell_type": "markdown",
   "metadata": {},
   "source": [
    "First let's create a class for the coin to model it."
   ]
  },
  {
   "cell_type": "code",
   "execution_count": 24,
   "metadata": {
    "collapsed": true
   },
   "outputs": [],
   "source": [
    "class UnknownCoin(Suite):\n",
    "    def __init__(self, prior, y):\n",
    "        \"\"\"prior: is the map of possible probabilities\n",
    "        y: the porbability that the device is accurate\"\"\"\n",
    "        Suite.__init__(self, prior)\n",
    "        self.y = y\n",
    "        \n",
    "    def Likelihood(self, data, hypo):\n",
    "        \"\"\"data: the reading of the measurement device\n",
    "        hypo: the probability of heads\"\"\"\n",
    "        x = hypo/100\n",
    "        y = self.y\n",
    "        if data == 'H':\n",
    "            return x*y + (1-x)*(1-y)\n",
    "        else:\n",
    "            return x*(1-y) + (1-x)*y"
   ]
  },
  {
   "cell_type": "markdown",
   "metadata": {},
   "source": [
    "Lets say that the measurement device is very poor, and that 90% of the time it reports heads as tails or tails as heads. I will create a uniform distribution as my prior. "
   ]
  },
  {
   "cell_type": "code",
   "execution_count": 33,
   "metadata": {
    "collapsed": false
   },
   "outputs": [
    {
     "data": {
      "image/png": "[encoded data removed]",
      "text/plain": [
       "<matplotlib.figure.Figure at 0x7fa1a16e8a90>"
      ]
     },
     "metadata": {},
     "output_type": "display_data"
    }
   ],
   "source": [
    "prior = range(0,101)\n",
    "coinSuite = UnknownCoin(prior, y = 0.9)\n",
    "thinkplot.Pdf(coinSuite)"
   ]
  },
  {
   "cell_type": "markdown",
   "metadata": {},
   "source": [
    "Now that the distribution is set up, let's add some data. For example lets have the device report 5 heads and 2 tails. "
   ]
  },
  {
   "cell_type": "code",
   "execution_count": 34,
   "metadata": {
    "collapsed": false
   },
   "outputs": [
    {
     "data": {
      "image/png": "[encoded data removed]",
      "text/plain": [
       "<matplotlib.figure.Figure at 0x7fa1a13d37d0>"
      ]
     },
     "metadata": {},
     "output_type": "display_data"
    }
   ],
   "source": [
    "for outcome in 'HHHHHTT':\n",
    "    coinSuite.Update(outcome)\n",
    "thinkplot.Pdf(coinSuite)"
   ]
  },
  {
   "cell_type": "markdown",
   "metadata": {},
   "source": [
    "Let's look how the distribution changes with different values of y."
   ]
  },
  {
   "cell_type": "code",
   "execution_count": 35,
   "metadata": {
    "collapsed": true
   },
   "outputs": [],
   "source": [
    "def new_prior(y):\n",
    "    prior = range(0,101)\n",
    "    suite = UnknownCoin(prior, y=y)\n",
    "    for outcome in 'HHHHHTT':\n",
    "        suite.Update(outcome)\n",
    "    thinkplot.Pdf(suite, label='y=%g' % y)"
   ]
  },
  {
   "cell_type": "code",
   "execution_count": 36,
   "metadata": {
    "collapsed": false
   },
   "outputs": [
    {
     "name": "stderr",
     "output_type": "stream",
     "text": [
      "thinkplot.py:115: UserWarning: Ran out of colors.  Starting over.\n",
      "  warnings.warn('Ran out of colors.  Starting over.')\n"
     ]
    },
    {
     "data": {
      "image/png": "[encoded data removed]",
      "text/plain": [
       "<matplotlib.figure.Figure at 0x7fa1a13d3c50>"
      ]
     },
     "metadata": {},
     "output_type": "display_data"
    }
   ],
   "source": [
    "new_prior(1)\n",
    "new_prior(0.8)\n",
    "new_prior(0.6)\n",
    "new_prior(0.4)\n",
    "new_prior(0.2)\n",
    "new_prior(0)\n",
    "thinkplot.config(legend=True)\n"
   ]
  },
  {
   "cell_type": "markdown",
   "metadata": {},
   "source": [
    "Lets call x = |y-0.5|. Distributions which have the same x value appear to symmetric around 50% accuracy by the device. As y approches 0.5 the distribution gets wider, being the narrowest at y = 1, and y=0. This shows measuring with a very faulty y=1 device or a very accurate one y=0 will be just as useful for predicting outcomes of the coin, assuming we know the value of y. Devices with a more intermediate accuracy will be less useful."
   ]
  },
  {
   "cell_type": "code",
   "execution_count": 37,
   "metadata": {
    "collapsed": false
   },
   "outputs": [
    {
     "data": {
      "image/png": "[encoded data removed]",
      "text/plain": [
       "<matplotlib.figure.Figure at 0x7fa1a135e090>"
      ]
     },
     "metadata": {},
     "output_type": "display_data"
    }
   ],
   "source": [
    "new_prior(0.5)\n",
    "thinkplot.config(legend=True)"
   ]
  },
  {
   "cell_type": "markdown",
   "metadata": {},
   "source": [
    "If y = 0.5 or the measurement device gets about half of its measurements wrong the data does not affect the prior so the prior is equal to the posterior meaning the measurement device does not provide any data about the coin."
   ]
  },
  {
   "cell_type": "markdown",
   "metadata": {},
   "source": [
    "# The Subreddit Problem\n",
    "The problem was inspired by a question posted by a “redditor” named dominosci on Reddit’s statistics “subreddit” at http://reddit.com/r/statistics."
   ]
  },
  {
   "cell_type": "markdown",
   "metadata": {},
   "source": [
    "Reddit is an online forum with many interest groups called subreddits. Users, called redditors, post links to online content and other web pages. Other redditors vote on the links, giving an “upvote” to high-quality links and a “downvote” to links that are bad or irrelevant.\n",
    "A problem, identified by dominosci, is that some redditors are more reliable than others, and Reddit does not take this into account.\n",
    "The challenge is to devise a system so that when a redditor casts a vote, the estimated quality of the link is updated in accordance with the reliability of the redditor, and the estimated reliability of the redditor is updated in accordance with the quality of the link.\n",
    "One approach is to model the quality of the link as the probability of garnering an upvote, and to model the reliability of the redditor as the probability of correctly giving an upvote to a high-quality item.\n",
    "Write class definitions for redditors and links and an update function that updates both objects whenever a redditor casts a vote."
   ]
  },
  {
   "cell_type": "markdown",
   "metadata": {},
   "source": [
    "Lets define our variables in order to tackle this problem. Each article has a certain quality which will be measured by Q or the probability that a reliable redditor will upvote it. Next we need to give a reliability rating to each redditor or R the probability that a redditor will give an upvote to an article of the highest qualitity (Q=1). Now we can relate the two variables with the probability that a redditor with reliability R giving an upvote to an article of quality Q with the expression R*Q + (1-R)*(1-Q). Now we can create a class to represent the redditor."
   ]
  },
  {
   "cell_type": "code",
   "execution_count": 43,
   "metadata": {
    "collapsed": true
   },
   "outputs": [],
   "source": [
    "class Redditor(Suite):\n",
    "    \"\"\"Quantifies the reliability of a redditor\"\"\"\n",
    "    def Likelihood(self,data,hypo):\n",
    "        \"\"\"Gives the likelihood of the data given a hypothesis\n",
    "        hypo: is the probability of a reliable vote (r)\n",
    "        data: vote up or down and q is the quality of the article\"\"\"\n",
    "        r = hypo/100.0\n",
    "        vote, q = data\n",
    "        \n",
    "        if vote == 'up':\n",
    "            return r*q + (1-r)*(1-q)\n",
    "        elif vote == 'down':\n",
    "            return r*(1-q) + q*(1-r)\n",
    "        else:\n",
    "            return 0\n",
    "        "
   ]
  },
  {
   "cell_type": "code",
   "execution_count": 47,
   "metadata": {
    "collapsed": true
   },
   "outputs": [],
   "source": [
    "class Article(Suite):\n",
    "    \"\"\"Quantifies the reliability of an article\"\"\"\n",
    "    def Likelihood(self, data, hypo):\n",
    "        \"\"\"Gives the likelihood of the data given a hypothesis\n",
    "        hypo: the value of u which is the probability of an upvote\n",
    "        data: vote is whether the vote was up or down, and r is\n",
    "        the reliability of the reddior\"\"\"\n",
    "        u = hypo/100.0\n",
    "        vote, r = data\n",
    "        \n",
    "        if vote == 'up':\n",
    "            return r*u + (1-r)*(1-u)\n",
    "        elif vote == 'down':\n",
    "            return r*(1-u) + u*(1-r)\n",
    "        else:\n",
    "            return 0\n",
    "        \n",
    "        "
   ]
  },
  {
   "cell_type": "markdown",
   "metadata": {},
   "source": [
    "Let's start off with a redditor in which we know a little about the reliability, in that he is more reliable than not. I will create a beta distribution as my prior."
   ]
  },
  {
   "cell_type": "code",
   "execution_count": 45,
   "metadata": {
    "collapsed": false
   },
   "outputs": [
    {
     "data": {
      "text/plain": [
       "0.6699999999999996"
      ]
     },
     "execution_count": 45,
     "metadata": {},
     "output_type": "execute_result"
    },
    {
     "data": {
      "image/png": "[encoded data removed]",
      "text/plain": [
       "<matplotlib.figure.Figure at 0x7fa1a17faa10>"
      ]
     },
     "metadata": {},
     "output_type": "display_data"
    }
   ],
   "source": [
    "redditor = Redditor(label = 'redditor')\n",
    "beta = Beta(2,1)\n",
    "for val, prob in beta.MakePmf().Items():\n",
    "    redditor.Set(val*100, prob)\n",
    "\n",
    "thinkplot.Pdf(redditor)\n",
    "mean_r = redditor.Mean()/100.0\n",
    "mean_r"
   ]
  },
  {
   "cell_type": "markdown",
   "metadata": {},
   "source": [
    "Now let's look at the articles. Let's say we know nothing about its qualitty so we will set up a uniform distribution."
   ]
  },
  {
   "cell_type": "code",
   "execution_count": 48,
   "metadata": {
    "collapsed": false
   },
   "outputs": [
    {
     "data": {
      "text/plain": [
       "0.5000000000000001"
      ]
     },
     "execution_count": 48,
     "metadata": {},
     "output_type": "execute_result"
    },
    {
     "data": {
      "image/png": "[encoded data removed]",
      "text/plain": [
       "<matplotlib.figure.Figure at 0x7fa1a16c9710>"
      ]
     },
     "metadata": {},
     "output_type": "display_data"
    }
   ],
   "source": [
    "article = Article(range(0,101), label = 'article')\n",
    "thinkplot.Pdf(article)\n",
    "mean_q = article.Mean()/100.0\n",
    "mean_q"
   ]
  },
  {
   "cell_type": "markdown",
   "metadata": {},
   "source": [
    "Now let's assume our semi-reliable redditor decides to upvote the article."
   ]
  },
  {
   "cell_type": "code",
   "execution_count": 49,
   "metadata": {
    "collapsed": false
   },
   "outputs": [
    {
     "data": {
      "text/plain": [
       "0.4999999999999999"
      ]
     },
     "execution_count": 49,
     "metadata": {},
     "output_type": "execute_result"
    }
   ],
   "source": [
    "redditor.Update(('up', mean_q))\n",
    "article.Update(('up', mean_r))"
   ]
  },
  {
   "cell_type": "markdown",
   "metadata": {},
   "source": [
    "Because we don't know about the true quality of the item, we cannot evaluate the quality of the redditor."
   ]
  },
  {
   "cell_type": "code",
   "execution_count": 50,
   "metadata": {
    "collapsed": false
   },
   "outputs": [
    {
     "name": "stdout",
     "output_type": "stream",
     "text": [
      "67.0 (22.0, 98.0)\n"
     ]
    },
    {
     "data": {
      "image/png": "[encoded data removed]",
      "text/plain": [
       "<matplotlib.figure.Figure at 0x7fa1a1892550>"
      ]
     },
     "metadata": {},
     "output_type": "display_data"
    }
   ],
   "source": [
    "thinkplot.Pdf(redditor)\n",
    "print(redditor.Mean(), redditor.CredibleInterval(90))"
   ]
  },
  {
   "cell_type": "markdown",
   "metadata": {},
   "source": [
    "But since we know something about the redditor we can get some more information about the article."
   ]
  },
  {
   "cell_type": "code",
   "execution_count": 51,
   "metadata": {
    "collapsed": false
   },
   "outputs": [
    {
     "name": "stdout",
     "output_type": "stream",
     "text": [
      "55.78 (7, 97)\n"
     ]
    },
    {
     "data": {
      "image/png": "[encoded data removed]",
      "text/plain": [
       "<matplotlib.figure.Figure at 0x7fa1a1a315d0>"
      ]
     },
     "metadata": {},
     "output_type": "display_data"
    }
   ],
   "source": [
    "thinkplot.Pdf(article)\n",
    "print(article.Mean(), article.CredibleInterval(90))"
   ]
  },
  {
   "cell_type": "markdown",
   "metadata": {},
   "source": [
    "This shows that after the upvote we can guess that the mean quality of the article is about 56% where as before it was 50%."
   ]
  },
  {
   "cell_type": "markdown",
   "metadata": {},
   "source": [
    "# Treasure Hunt\n",
    "This problem was taken from \"Understanding Probability\" by Henk Tijms."
   ]
  },
  {
   "cell_type": "markdown",
   "metadata": {},
   "source": [
    "“It’s believed that a treasure will be in a certain sea area with probability p = 0.4. A search in that area will detect the wreck with probability d = 0.9 if it’s there. What’s the posterior probability of the treasure being in the area when a search didn’t find anything?”"
   ]
  },
  {
   "cell_type": "markdown",
   "metadata": {},
   "source": [
    "We can set up our priors with the probability of the treasure existing in the area before the search. For the likelihoods we will assume there are no false positives, and we can use the probability of finding the treasure given it was there or not there. "
   ]
  },
  {
   "cell_type": "code",
   "execution_count": 52,
   "metadata": {
    "collapsed": false
   },
   "outputs": [
    {
     "name": "stdout",
     "output_type": "stream",
     "text": [
      "MissedTreasure 0.0625\n",
      "NoTreasure 0.9375\n"
     ]
    }
   ],
   "source": [
    "pmfTreasure = Pmf()\n",
    "pmfTreasure['MissedTreasure'] = 0.4\n",
    "pmfTreasure['NoTreasure'] = 0.6\n",
    "pmfTreasure.Mult('MissedTreasure',0.1)\n",
    "pmfTreasure.Mult('NoTreasure', 1)\n",
    "pmfTreasure.Normalize()\n",
    "pmfTreasure.Print()"
   ]
  },
  {
   "cell_type": "markdown",
   "metadata": {},
   "source": [
    "This means that given a search, there is only about a 6% chance there was missed treasure in the area. "
   ]
  },
  {
   "cell_type": "markdown",
   "metadata": {},
   "source": [
    "# Allergic to Cats?\n",
    "This problem was taken from the workbook of Allen Downey"
   ]
  },
  {
   "cell_type": "markdown",
   "metadata": {},
   "source": [
    "Exercise: Suppose you are having a dinner party with 10 guests and 4 of them are allergic to cats. Because you have cats, you expect 50% of the allergic guests to sneeze during dinner. At the same time, you expect 10% of the non-allergic guests to sneeze. What is the distribution of the total number of guests who sneeze?"
   ]
  },
  {
   "cell_type": "markdown",
   "metadata": {},
   "source": [
    "We can create a binomial distribution of people who sneeze due to allergies and those that just sneeze. Then we can add them to create one distribution and from there we can find the mean number of sneezing guests."
   ]
  },
  {
   "cell_type": "code",
   "execution_count": 5,
   "metadata": {
    "collapsed": false
   },
   "outputs": [
    {
     "data": {
      "image/png": "[encoded data removed]",
      "text/plain": [
       "<matplotlib.figure.Figure at 0x7f6260237c50>"
      ]
     },
     "metadata": {},
     "output_type": "display_data"
    }
   ],
   "source": [
    "allergic = 4\n",
    "not_allergic = 6\n",
    "allergic_sneeze = .5\n",
    "not_allergic_sneeze = .1\n",
    "\n",
    "pmf = MakeBinomialPmf(allergic, allergic_sneeze) + MakeBinomialPmf(not_allergic, not_allergic_sneeze)\n",
    "thinkplot.Hist(pmf)"
   ]
  },
  {
   "cell_type": "code",
   "execution_count": 6,
   "metadata": {
    "collapsed": false
   },
   "outputs": [
    {
     "data": {
      "text/plain": [
       "2.6000000000000014"
      ]
     },
     "execution_count": 6,
     "metadata": {},
     "output_type": "execute_result"
    }
   ],
   "source": [
    "pmf.Mean()"
   ]
  },
  {
   "cell_type": "markdown",
   "metadata": {},
   "source": [
    "On average, you will have 2.6 sneezing guests so 2 sneezing and 1 sniffling. "
   ]
  },
  {
   "cell_type": "markdown",
   "metadata": {},
   "source": [
    "# Original Problem: More Skeet Shooting"
   ]
  },
  {
   "cell_type": "markdown",
   "metadata": {},
   "source": [
    "While trying to solve the Rhode Wei problem I started to research skeet shooting. From in the 1968-1992 Olympics shooting events were mixed genders but afterwards the two divisions split after a woman won at the skeet shooting even in Barcelona. Before the event had been won by men. If the men and women were to combine at the next Olympics who would win?"
   ]
  },
  {
   "cell_type": "markdown",
   "metadata": {},
   "source": [
    "For my priors I took data from the 1988 Olympics, and the 1992 Olympics which were mixed genders and showed both a man and woman winning. I then combined these totals. I only took data from the winners of final rounds of the shooting for a few reasons. First the final round is always out of 25 but the qualifying rounds have differed depending on year and gender, and second the rules of skeet shooting have changed. It used to be a cummulative sport, in that whoever shot the most clays after all three rounds won, but now the scores are wiped after each round, so a person could theoretically win the competition now by shooting fewer clays overall than a fellow competitor. The data for the women has fewer entries because they were barred from competing in 1996. All of the information is courtesy of Wikipedia."
   ]
  },
  {
   "cell_type": "code",
   "execution_count": 11,
   "metadata": {
    "collapsed": true
   },
   "outputs": [],
   "source": [
    "women = Beta(47, 3, label = 'Women')\n",
    "men = Beta(47,3, label = 'Men')"
   ]
  },
  {
   "cell_type": "markdown",
   "metadata": {},
   "source": [
    "Now comes the fun part, inputing all the data. It is just the winning scores from the final rounds of skeet shooting at the Olympics post 1992. "
   ]
  },
  {
   "cell_type": "code",
   "execution_count": 12,
   "metadata": {
    "collapsed": true
   },
   "outputs": [],
   "source": [
    "women.Update((25,0))\n",
    "women.Update((25,0))\n",
    "women.Update((21,4))\n",
    "women.Update((25,0))\n",
    "women.Update((15,10))\n",
    "\n",
    "men.Update((24,1))\n",
    "men.Update((25,0))\n",
    "men.Update((25,0))\n",
    "men.Update((24,1))\n",
    "men.Update((25,0))\n",
    "men.Update((16,9))"
   ]
  },
  {
   "cell_type": "markdown",
   "metadata": {},
   "source": [
    "Like in the Rhode Wei problem we can visualize the data. "
   ]
  },
  {
   "cell_type": "code",
   "execution_count": 13,
   "metadata": {
    "collapsed": false
   },
   "outputs": [
    {
     "data": {
      "image/png": "[encoded data removed]",
      "text/plain": [
       "<matplotlib.figure.Figure at 0x7fc4b5616a90>"
      ]
     },
     "metadata": {},
     "output_type": "display_data"
    }
   ],
   "source": [
    "thinkplot.Pdf(women.MakePmf())\n",
    "thinkplot.Pdf(men.MakePmf())\n",
    "thinkplot.Config(xlabel = 'x', ylabel = 'Probability')"
   ]
  },
  {
   "cell_type": "markdown",
   "metadata": {},
   "source": [
    "Now we can estimate the probability of superiority by drawing samples from each group.The "
   ]
  },
  {
   "cell_type": "code",
   "execution_count": 14,
   "metadata": {
    "collapsed": false
   },
   "outputs": [
    {
     "data": {
      "text/plain": [
       "0.16619999999999999"
      ]
     },
     "execution_count": 14,
     "metadata": {},
     "output_type": "execute_result"
    }
   ],
   "source": [
    "women_sample = women.MakeCdf(10001).Sample(10000)\n",
    "men_sample = men.MakeCdf(10001).Sample(10000)\n",
    "np.mean(women_sample > men_sample)"
   ]
  },
  {
   "cell_type": "code",
   "execution_count": 15,
   "metadata": {
    "collapsed": false
   },
   "outputs": [
    {
     "data": {
      "text/plain": [
       "0.83279999999999998"
      ]
     },
     "execution_count": 15,
     "metadata": {},
     "output_type": "execute_result"
    }
   ],
   "source": [
    "np.mean(men_sample > women_sample)"
   ]
  },
  {
   "cell_type": "code",
   "execution_count": 16,
   "metadata": {
    "collapsed": false
   },
   "outputs": [
    {
     "data": {
      "text/plain": [
       "0.001"
      ]
     },
     "execution_count": 16,
     "metadata": {},
     "output_type": "execute_result"
    }
   ],
   "source": [
    "np.mean(men_sample == women_sample)"
   ]
  },
  {
   "cell_type": "markdown",
   "metadata": {},
   "source": [
    "Now let's look at what happens if we simmulate them competing mixed again in the 2020 Olympics. "
   ]
  },
  {
   "cell_type": "code",
   "execution_count": 17,
   "metadata": {
    "collapsed": false
   },
   "outputs": [
    {
     "data": {
      "text/plain": [
       "0.2823"
      ]
     },
     "execution_count": 17,
     "metadata": {},
     "output_type": "execute_result"
    }
   ],
   "source": [
    "mixed_women = np.random.binomial(25, women_sample)\n",
    "mixed_men = np.random.binomial(25, men_sample)\n",
    "np.mean(mixed_women > mixed_men)"
   ]
  },
  {
   "cell_type": "code",
   "execution_count": 18,
   "metadata": {
    "collapsed": false
   },
   "outputs": [
    {
     "data": {
      "text/plain": [
       "0.52980000000000005"
      ]
     },
     "execution_count": 18,
     "metadata": {},
     "output_type": "execute_result"
    }
   ],
   "source": [
    "np.mean(mixed_men > mixed_women)"
   ]
  },
  {
   "cell_type": "code",
   "execution_count": 19,
   "metadata": {
    "collapsed": false
   },
   "outputs": [
    {
     "data": {
      "text/plain": [
       "0.18790000000000001"
      ]
     },
     "execution_count": 19,
     "metadata": {},
     "output_type": "execute_result"
    }
   ],
   "source": [
    "np.mean(mixed_men == mixed_women)"
   ]
  },
  {
   "cell_type": "markdown",
   "metadata": {},
   "source": [
    "Based on the data from the previous years, it looks like the men have a strong edge on the women (53% chance of winning vs 28% chance), so a mixed group may not be the best idea for future Olympics."
   ]
  }
 ],
 "metadata": {
  "kernelspec": {
   "display_name": "Python [Root]",
   "language": "python",
   "name": "Python [Root]"
  },
  "language_info": {
   "codemirror_mode": {
    "name": "ipython",
    "version": 2
   },
   "file_extension": ".py",
   "mimetype": "text/x-python",
   "name": "python",
   "nbconvert_exporter": "python",
   "pygments_lexer": "ipython2",
   "version": "2.7.12"
  }
 },
 "nbformat": 4,
 "nbformat_minor": 0
}
