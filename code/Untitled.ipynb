{
 "cells": [
  {
   "cell_type": "code",
   "execution_count": 1,
   "metadata": {
    "collapsed": true
   },
   "outputs": [],
   "source": [
    "from __future__ import print_function, division\n",
    "\n",
    "% matplotlib inline\n",
    "import warnings\n",
    "warnings.filterwarnings('ignore')\n",
    "\n",
    "import math\n",
    "import numpy as np\n",
    "\n",
    "from thinkbayes2 import Pmf, Cdf, Suite, Joint\n",
    "import thinkplot"
   ]
  },
  {
   "cell_type": "markdown",
   "metadata": {},
   "source": [
    "The extended Kim Rhode problem: suppose you know only that Rhode and Wei tied in regulation and went to four rounds of sudden death.  What does that tell you about their probabilities of hitting targets?"
   ]
  },
  {
   "cell_type": "markdown",
   "metadata": {},
   "source": [
    "? out of 25\n",
    "? out of 2\n",
    "? out of 2\n",
    "? out of 2\n",
    "? out of 2\n",
    "\n",
    "Beta distribution?\n",
    "\n",
    "p = probability of hitting a target\n",
    "\n",
    "both hit 0 of 2 = ((1-p)^2)^2\n",
    "both hit 1 of 2 = (2 * p * (1-p))^2\n",
    "both hit 2 of 2 = ((p)^2)^2\n",
    "\n",
    "from scipy.stats import binom\n",
    "\n",
    "n = 25\n",
    "\n",
    "for i in range(26):\n",
    "    rounds = binom(i, n, p)\n",
    "    like += (rounds)**2\n"
   ]
  },
  {
   "cell_type": "code",
   "execution_count": null,
   "metadata": {
    "collapsed": true
   },
   "outputs": [],
   "source": [
    "def extendedRhodeWei(Suite):\n",
    "    \n",
    "    def Likelihood(self,data,hypo):\n",
    "        \"\"\"\n",
    "        p is the probability of hitting\n",
    "        n is hits\n",
    "        set up distribution\n",
    "        \"\"\"\n",
    "        like"
   ]
  }
 ],
 "metadata": {
  "kernelspec": {
   "display_name": "Python [Root]",
   "language": "python",
   "name": "Python [Root]"
  },
  "language_info": {
   "codemirror_mode": {
    "name": "ipython",
    "version": 2
   },
   "file_extension": ".py",
   "mimetype": "text/x-python",
   "name": "python",
   "nbconvert_exporter": "python",
   "pygments_lexer": "ipython2",
   "version": "2.7.12"
  }
 },
 "nbformat": 4,
 "nbformat_minor": 0
}
