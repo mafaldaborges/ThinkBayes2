{
 "cells": [
  {
   "cell_type": "markdown",
   "metadata": {},
   "source": [
    "# Report 01\n",
    "\n",
    "Mafalda Borges"
   ]
  },
  {
   "cell_type": "code",
   "execution_count": 2,
   "metadata": {
    "collapsed": true
   },
   "outputs": [],
   "source": [
    "import thinkbayes2\n",
    "from thinkbayes2 import Pmf"
   ]
  },
  {
   "cell_type": "markdown",
   "metadata": {},
   "source": [
    "In this report I will work through a variety of problems that utilize Bayes' Theorem. The theorem, named after Reverend Thomas Bayes, is used to understand how the probability of a theory is affected by the addition of new data. One way of writing Bayes' Theorem is as follows:"
   ]
  },
  {
   "cell_type": "markdown",
   "metadata": {},
   "source": [
    "P(H|D) = [P(H)P(D|H)]/P(D)"
   ]
  },
  {
   "cell_type": "markdown",
   "metadata": {},
   "source": [
    "Where:\n",
    "P(H|D) is the desired probability or the one found after the addition of new data, which can be called the posterior.\n",
    "P(H) is the original probability of the theory before seeing the new evidence which will be referred to as the prior.\n",
    "P(D|H) is the probility of the theory, given the hypothesis, called the likelihood.\n",
    "P(D) is the probability given any hypothesis, which is the normalizing constant.\n"
   ]
  },
  {
   "cell_type": "markdown",
   "metadata": {},
   "source": [
    "The following problems are taken from Allen Downey's blog \"Probably Overthinking It\""
   ]
  },
  {
   "cell_type": "markdown",
   "metadata": {},
   "source": [
    "Below I have copied in the first problem which involves cookies."
   ]
  },
  {
   "cell_type": "markdown",
   "metadata": {},
   "source": [
    "Suppose there are two full bowls of cookies. Bowl #1 has 10 chocolate chip and 30 plain cookies, while bowl #2 has 20 of each. Our friend Fred picks a bowl at random, and then picks a cookie at random. We may assume there is no reason to believe Fred treats one bowl differently from another, likewise for the cookies. The cookie turns out to be a plain one. How probable is it that Fred picked it out of Bowl #1?"
   ]
  },
  {
   "cell_type": "markdown",
   "metadata": {},
   "source": [
    "Starting off, the first hypothesis is Fred picked from Bowl #1, which leaves one other option, Fred picking from Bowl #2. Given that there is an equal chance for Fred to pick from either bowl then P(H1) = .5 and P(H2) = .5, which are our priors. This can be expressed using Pmf (probability mass function)."
   ]
  },
  {
   "cell_type": "code",
   "execution_count": 5,
   "metadata": {
    "collapsed": false
   },
   "outputs": [],
   "source": [
    "pmf = Pmf()\n",
    "pmf.Set('Bowl 1', 0.5)\n",
    "pmf.Set('Bowl 2', 0.5)"
   ]
  },
  {
   "cell_type": "markdown",
   "metadata": {},
   "source": [
    "We also know the composition of cookies within each bowl. This means the likelihood of drawing a cookie from the first bowl is 3/4 and from the second bowl is 1/2. "
   ]
  },
  {
   "cell_type": "code",
   "execution_count": 6,
   "metadata": {
    "collapsed": true
   },
   "outputs": [],
   "source": [
    "pmf.Mult('Bowl 1', 0.75)\n",
    "pmf.Mult('Bowl 2', 0.5)"
   ]
  },
  {
   "cell_type": "markdown",
   "metadata": {},
   "source": [
    "Mult unsuprisingly multiplies the two probabilities, but now the results are not normalized because they are not out of 1. We next divide by the normalizing constant."
   ]
  },
  {
   "cell_type": "code",
   "execution_count": 7,
   "metadata": {
    "collapsed": false
   },
   "outputs": [
    {
     "data": {
      "text/plain": [
       "0.625"
      ]
     },
     "execution_count": 7,
     "metadata": {},
     "output_type": "execute_result"
    }
   ],
   "source": [
    "pmf.Normalize()"
   ]
  },
  {
   "cell_type": "markdown",
   "metadata": {},
   "source": [
    "Now the data is normalized, we can print the probability of picking form Bowl #1."
   ]
  },
  {
   "cell_type": "code",
   "execution_count": 8,
   "metadata": {
    "collapsed": false
   },
   "outputs": [
    {
     "name": "stdout",
     "output_type": "stream",
     "text": [
      "0.6\n"
     ]
    }
   ],
   "source": [
    "print pmf.Prob('Bowl 1')"
   ]
  },
  {
   "cell_type": "markdown",
   "metadata": {},
   "source": [
    "The answer is 0.6 meaning given the data, Fred had a 60% chance of picking from Bowl #1. "
   ]
  },
  {
   "cell_type": "markdown",
   "metadata": {},
   "source": [
    "Simple enough? Let's move on to a more fun one. "
   ]
  },
  {
   "cell_type": "markdown",
   "metadata": {},
   "source": [
    "The blue M&M was introduced in 1995.  Before then, the color mix in a bag of plain M&Ms was (30% Brown, 20% Yellow, 20% Red, 10% Green, 10% Orange, 10% Tan).  Afterward it was (24% Blue , 20% Green, 16% Orange, 14% Yellow, 13% Red, 13% Brown). \n",
    "A friend of mine has two bags of M&Ms, and he tells me that one is from 1994 and one from 1996.  He won't tell me which is which, but he gives me one M&M from each bag.  One is yellow and one is green.  What is the probability that the yellow M&M came from the 1994 bag"
   ]
  },
  {
   "cell_type": "markdown",
   "metadata": {},
   "source": [
    "Pulling the data from the problem, we are left with two hypotheses, either the yellow came from the 1994 bag and the green from the 1996 bag or the yellow came from the 1996 bag and the green from the 1994 bag and both are equally likely.\n",
    "\n",
    "Our priors are:\n",
    "P(H1) = P(H2) = .5\n",
    "\n",
    "Our likelihoods are a bit more difficult, but they can be found by multiplying the probability of finding each type of M&M if they were found in the corresponding bags which we will call the evidence.\n",
    "\n",
    "Likelihoods:\n",
    "P(E|H1) = (0.2)(0.2)\n",
    "P(E|H2) = (0.1)(0.14)\n",
    "\n",
    "The rest is just arithmetic (mulitplying the priors by the corresponding likelihoods and dividing by the normalizing constant)."
   ]
  },
  {
   "cell_type": "code",
   "execution_count": 11,
   "metadata": {
    "collapsed": false
   },
   "outputs": [
    {
     "name": "stdout",
     "output_type": "stream",
     "text": [
      "Yellow 1994 0.740740740741\n",
      "Yellow 1996 0.259259259259\n"
     ]
    }
   ],
   "source": [
    "priorA = thinkbayes2.Suite({'Yellow 1994': 0.5, 'Yellow 1996': 0.5})\n",
    "likelihoodA = {'Yellow 1994': 0.04, 'Yellow 1996': 0.014}\n",
    "posteriorA = priorA.Copy()\n",
    "for hypothesisA in posteriorA:\n",
    "    posteriorA[hypothesisA] *= likelihoodA[hypothesisA]\n",
    "posteriorA.Normalize()\n",
    "posteriorA.Print()"
   ]
  },
  {
   "cell_type": "markdown",
   "metadata": {},
   "source": [
    "This means that given the data there is approximately a 74% chance the yellow M&M is from the 1994 bag. "
   ]
  },
  {
   "cell_type": "markdown",
   "metadata": {},
   "source": [
    "Let's keep going with a problem about Elvis. "
   ]
  },
  {
   "cell_type": "markdown",
   "metadata": {},
   "source": [
    "Elvis Presley had a twin brother who died at birth.  What is the probability that Elvis was an identical twin?"
   ]
  },
  {
   "cell_type": "markdown",
   "metadata": {},
   "source": [
    "This problem requires that certain information be looked up. We are  given:"
   ]
  },
  {
   "cell_type": "markdown",
   "metadata": {},
   "source": [
    "To answer this one, you need some background information: According to the Wikipedia article on twins: \"Twins are estimated to be approximately 1.9% of the world population, with monozygotic twins making up 0.2% of the total---and 8% of all twins.\""
   ]
  },
  {
   "cell_type": "markdown",
   "metadata": {},
   "source": [
    "Given that we know Elvis was a twin let's only focus on statistics that focus on twin births, rather than all births. This way we are left with two hypotheses, either Elvis was an identical twin or he was a fraternal twin. \n",
    "\n",
    "Our priors are then:\n",
    "P(H1) = 0.08\n",
    "P(H2) = 0.92\n",
    "\n",
    "The likelihoods take advantage of Elvis being a male. We will assume that males and females are born roughly at the same rate. For identicial twins only a male can be born. \n",
    "\n",
    "Our likelihoods are:\n",
    "P(E|H1) = 1\n",
    "P(E|H2) = .5\n",
    "\n",
    "Then we do the relevant arithmetic."
   ]
  },
  {
   "cell_type": "code",
   "execution_count": 12,
   "metadata": {
    "collapsed": false
   },
   "outputs": [
    {
     "name": "stdout",
     "output_type": "stream",
     "text": [
      "Fraternal 0.851851851852\n",
      "Identical 0.148148148148\n"
     ]
    }
   ],
   "source": [
    "priorB = thinkbayes2.Suite({'Identical': 0.08, 'Fraternal': 0.92})\n",
    "likelihoodB = {'Identical': 1, 'Fraternal': .5}\n",
    "posteriorB = priorB.Copy()\n",
    "for hypothesisB in posteriorB:\n",
    "    posteriorB[hypothesisB] *= likelihoodB[hypothesisB]\n",
    "posteriorB.Normalize()\n",
    "posteriorB.Print()"
   ]
  },
  {
   "cell_type": "markdown",
   "metadata": {},
   "source": [
    "This shows that there was only roughly a 15% chance Elvis's twin was identical. "
   ]
  },
  {
   "cell_type": "markdown",
   "metadata": {},
   "source": [
    "This next problem is a little stranger."
   ]
  },
  {
   "cell_type": "markdown",
   "metadata": {},
   "source": [
    "Two people have left traces of their own blood at the scene of a crime.  A suspect, Oliver, is tested and found to have type O blood.  The blood groups of the two traces are found to be of type O (a common type in the local population, having frequency 60%) and of type AB (a rare type, with frequency 1%).  Do these data (the blood types found at the scene) give evidence in favour [sic] of the proposition that Oliver was one of the two people whose blood was found at the scene?"
   ]
  },
  {
   "cell_type": "markdown",
   "metadata": {},
   "source": [
    "First let's begin with the easier part which is determining the hypotheses. Hypothesis #1 is Oliver and some person unknown were at the scene of the crime. Hypothesis #2 is two unknown people were at the scene of the crime. This problem is different in that it is asking for the Bayes' factor rather than the posterior probability. This is found by taking a ratio of the likelihoods. Lets call D the data or 'type O' and 'type AB' blood being found. Then the Bayes' factor can be modeled as:"
   ]
  },
  {
   "cell_type": "markdown",
   "metadata": {},
   "source": [
    "BF = [P(D|H1)]/P(D|H2)"
   ]
  },
  {
   "cell_type": "markdown",
   "metadata": {},
   "source": [
    "We have to compute each part separately. We know both type O and type AB blood were found. Assuming Oliver was at the scence then the O blood would be his which means P(D|H1) is computing the probability of the other person having type AB blood which we know to be 0.01 from the problem. If Oliver was not at the scene then we need to look at the probability of two random people having those two blood types. We find P(D|H2) = 2*0.6.01. The 2 is because there are two permutations or in other words the first person is type O and the second person is AB or vice versa. "
   ]
  },
  {
   "cell_type": "markdown",
   "metadata": {},
   "source": [
    "By substitution the Bayes' factor is:\n",
    "\n",
    "BF = 0.1/(2*0.6*0.01) = .83. \n",
    "\n",
    "Because BF < 1 it is seen that the given data is weak evidence against Oliver, and it is more probable that Oliver was not at the scene. "
   ]
  },
  {
   "cell_type": "markdown",
   "metadata": {},
   "source": [
    "This next problem requires just a little more creativity when coming up with the solution."
   ]
  },
  {
   "cell_type": "markdown",
   "metadata": {},
   "source": [
    "According to the CDC,\"Compared to nonsmokers, men who smoke are about 23 times more likely to develop lung cancer and women who smoke are about 13 times more likely.\"\n",
    "If you learn that a woman has been diagnosed with lung cancer, and you know nothing else about her, what is the probability that she is a smoker?"
   ]
  },
  {
   "cell_type": "markdown",
   "metadata": {},
   "source": [
    "Let's represent the fraction the women who smoke as s. This means women who don't smoke are 1-s. Next if we say that the fraction of non-smoking women with lung cancer is c then we know the number of smoking women with cancer 13 times that amount or 13c. This makes the number of women who smoke and have lung cancer proportional to 13sc and the non-smoking woman who have lung cancer proportional to c(1-s). \n",
    "\n",
    "Looking at the population of women with lung cancer, the fraction of those that smoke is 13sc/(13sc + c(1-s)), and we can see the c's cancel. In 2013 the CDC estimated that the population of women who smoked was 15.3 percent of the total US population. If you substitute 0.153 in for s, then you find this number is about 70% meaning that there is a 70% the woman with lung cancer is a smoker."
   ]
  },
  {
   "cell_type": "markdown",
   "metadata": {},
   "source": [
    "Let's try a problem of a less serious nature, which was posted on reddit. "
   ]
  },
  {
   "cell_type": "markdown",
   "metadata": {},
   "source": [
    "The fictional university of ZombieLand - has n students volunteer for the role of Killing Assistants, student volunteers who help in smooth killing of zombies in the campus. Every student can either manage to shoot a zombie or miss it.\n",
    "Out of these n Killing Assistants, m students try to shoot the zombie fairly, that is, they are unbiased, while the rest of them are biased. The probability that a zombie will be hit by a shot if the Killing Assistant is biased is 2/3, otherwise the probability is 1/2.\n",
    "Little Harry figures out this mess by selecting a Killing Assistant randomly. He tricks that particular Killing Assistant in shooting the same zombie twice. The first time, the Killing Assistant shoots the zombie, while the other time, he ends up missing it.\n",
    "Harry wants to know what are the chances that the selected Killing Assistant was NOT biased."
   ]
  },
  {
   "cell_type": "markdown",
   "metadata": {},
   "source": [
    "Our hypthoseses are straight forward. Hypothesis #1 is the Killing Assistant is not biased. Hypothesis #2 is the Killing Assistant is biased. We know that there are n student volunteers and m of them are unbiased. \n",
    "\n",
    "This makes our priors:\n",
    "P(H1) = m/n - proportion of unbiased Killing Assistants\n",
    "P(H2) = (n-m)/n - proportion of biased Killing Assistants\n",
    "\n",
    "Then we must compute likelihood. We know that an unbiased Killing Assistant has a 1/2 chance of shooting the zombie and a 1/2 chance of missing the zombie. The biased Killing Assistant has a 2/3 chance of shooting the zombie and a 1/3 chance of missing. \n",
    "\n",
    "This makes the likelihoods:\n",
    "P(D|H1) = (1/2)*(1/2)\n",
    "P(D|H2) = (2/3)*(1/3)\n",
    "\n",
    "Then we go through multiplying the priors by the corresponding likelihoods and dividing it by the normalizing constant. Because I am partial to the pen-and-paper method (I'm biased), I am going to write out some of my steps. \n",
    "\n",
    "The normalizing constant, which is computed by finding the sum of the products of the corresponding priors and likelihoods is in this case: \n",
    "P(D) = (m+8n)/(36n)\n",
    "\n",
    "Which makes the posterior probability that the Killing Assistant is unbiased 9m/(m+8n).The probability of a biased Killing Assistant is 8*(m-n)/(m+8n).\n",
    "\n",
    "Let's pretend that half the Killing Assistants are biased. Then the posterior probability of a non-biased Killing Assistant is 9/17. If the fraction of unbiased Killing Assistants to the total population is equal to 8/17 then it is of equal likelihood that the Killing Assistant was biased or unbiased. "
   ]
  },
  {
   "cell_type": "markdown",
   "metadata": {},
   "source": [
    "Below is a problem I created myself."
   ]
  },
  {
   "cell_type": "markdown",
   "metadata": {},
   "source": [
    "In the United States, in a given year about 2% of women have breast cancer. To detect this cancer, doctors use mammograms to x-ray the tissue. For women with cancer around 84% of the screens will come back as positive, however for women without cancer 6.5% of the screens will yield a false positive. Given a positive result, what are the chances that the woman has cancer?\n",
    "\n",
    "First I determine my hopetheses, which are either the woman has cancer or she doesn't. Next I need to determine the prior probability that she has cancer based on national statistics of women with breast cancer. I am calling the population of women with cancer: 'Cancer' and the population without: 'No Cancer.'"
   ]
  },
  {
   "cell_type": "code",
   "execution_count": 3,
   "metadata": {
    "collapsed": false
   },
   "outputs": [
    {
     "name": "stdout",
     "output_type": "stream",
     "text": [
      "Cancer 0.02\n",
      "No Cancer 0.98\n"
     ]
    }
   ],
   "source": [
    "prior = thinkbayes2.Suite({'Cancer': 0.02, 'No Cancer': 0.98})\n",
    "prior.Print()"
   ]
  },
  {
   "cell_type": "markdown",
   "metadata": {},
   "source": [
    "Next I enter the rate at which each group gets a postive result after receiving a mammogram. I call this the likelikhood."
   ]
  },
  {
   "cell_type": "code",
   "execution_count": 5,
   "metadata": {
    "collapsed": false
   },
   "outputs": [],
   "source": [
    "likelihood = {'Cancer': 0.84, 'No Cancer': 0.065}"
   ]
  },
  {
   "cell_type": "markdown",
   "metadata": {},
   "source": [
    "Now that the information from the problem has all been accounted for I can apply Bayes' Theorem. I will create a posterior distribution which is the result of multiplying the prior probability of each hypothesis by the likelihood of each event. Afterwards I will have to normalize the distribution. "
   ]
  },
  {
   "cell_type": "code",
   "execution_count": 7,
   "metadata": {
    "collapsed": false
   },
   "outputs": [
    {
     "name": "stdout",
     "output_type": "stream",
     "text": [
      "Cancer 0.0168\n",
      "No Cancer 0.0637\n"
     ]
    }
   ],
   "source": [
    "posterior = prior.Copy()\n",
    "for hypothesis in posterior:\n",
    "    posterior[hypothesis] *= likelihood[hypothesis]\n",
    "posterior.Print()"
   ]
  },
  {
   "cell_type": "markdown",
   "metadata": {},
   "source": [
    "Next I normalize the data, so it is expressed in terms of probability. The following returns the normalizing constant."
   ]
  },
  {
   "cell_type": "code",
   "execution_count": 8,
   "metadata": {
    "collapsed": false
   },
   "outputs": [
    {
     "data": {
      "text/plain": [
       "0.0805"
      ]
     },
     "execution_count": 8,
     "metadata": {},
     "output_type": "execute_result"
    }
   ],
   "source": [
    "posterior.Normalize()"
   ]
  },
  {
   "cell_type": "markdown",
   "metadata": {},
   "source": [
    "After normalizing, the distribution shows the probabilities of having cancer (or not) after receiving a postive result."
   ]
  },
  {
   "cell_type": "code",
   "execution_count": 9,
   "metadata": {
    "collapsed": false
   },
   "outputs": [
    {
     "name": "stdout",
     "output_type": "stream",
     "text": [
      "Cancer 0.208695652174\n",
      "No Cancer 0.791304347826\n"
     ]
    }
   ],
   "source": [
    "posterior.Print()"
   ]
  },
  {
   "cell_type": "markdown",
   "metadata": {},
   "source": [
    "This shows that given a postive result, there is only about a 21% chance the woman actually has cancer on that given occasion. "
   ]
  },
  {
   "cell_type": "markdown",
   "metadata": {},
   "source": [
    "This information was taken from breastcancer.org, the Susan G. Komen organization, and cancer.net. "
   ]
  },
  {
   "cell_type": "markdown",
   "metadata": {},
   "source": [
    "And now one more original problem."
   ]
  },
  {
   "cell_type": "markdown",
   "metadata": {},
   "source": [
    "In 1988 the New York Times conducted a poll about preferred skirt length. One man interviewed stated that he pictured a woman who wore short skirts (above the knee) as \"probably 40 or younger, probably not in business, and probably more liberal than conservative.\"\n",
    "\n",
    "How likely is a young woman wearing a skirt to be liberal?\n",
    "\n",
    "The article tells us about 40% of Liberal women pay attention to fashion trends, compared to 21% of moderates, and 24% of conservatives. However further reading tells us that 68% of woman who pay attention to fashion trends don't wear short skirts. \n",
    "\n"
   ]
  },
  {
   "cell_type": "markdown",
   "metadata": {},
   "source": [
    "Let's first set the three hypotheses. Hypothesis #1 the woman is liberal #2 the woman is conservative #3 the woman is moderate. \n",
    "\n",
    "Let's set up the priors by first looking at the political affliations of young women, which requires further research. The numbers I found were from a Gallup poll. "
   ]
  },
  {
   "cell_type": "code",
   "execution_count": 3,
   "metadata": {
    "collapsed": false
   },
   "outputs": [
    {
     "name": "stdout",
     "output_type": "stream",
     "text": [
      "Conservative 0.2\n",
      "Liberal 0.3\n",
      "Moderate 0.5\n"
     ]
    }
   ],
   "source": [
    "priorS = thinkbayes2.Suite({'Liberal': 0.3, 'Conservative': 0.2, 'Moderate':.5})\n",
    "priorS.Print()"
   ]
  },
  {
   "cell_type": "markdown",
   "metadata": {},
   "source": [
    "Next we can look at how often each group wears skirts to establish likelihoods. We can get this number by multiplying how many women pay attention to fashion trends by how many women who pay attention to fashion trends wear short skirts. "
   ]
  },
  {
   "cell_type": "code",
   "execution_count": 4,
   "metadata": {
    "collapsed": true
   },
   "outputs": [],
   "source": [
    "likelihoodS = {'Liberal': 0.128, 'Conservative': 0.0768, 'Moderate':0.0672}"
   ]
  },
  {
   "cell_type": "markdown",
   "metadata": {},
   "source": [
    "Now what is left is applying Bayes' Theorem, which involves mutliplying the priors by the corresponding likelihoods and then normalizing the data."
   ]
  },
  {
   "cell_type": "code",
   "execution_count": 5,
   "metadata": {
    "collapsed": false
   },
   "outputs": [
    {
     "name": "stdout",
     "output_type": "stream",
     "text": [
      "Conservative 0.01536\n",
      "Liberal 0.0384\n",
      "Moderate 0.0336\n"
     ]
    }
   ],
   "source": [
    "posteriorS = priorS.Copy()\n",
    "for hypothesisS in posteriorS:\n",
    "    posteriorS[hypothesisS] *= likelihoodS[hypothesisS]\n",
    "posteriorS.Print()\n"
   ]
  },
  {
   "cell_type": "markdown",
   "metadata": {},
   "source": [
    "Normalizing the data allows it to be expressed in terms of probability."
   ]
  },
  {
   "cell_type": "code",
   "execution_count": 6,
   "metadata": {
    "collapsed": false
   },
   "outputs": [
    {
     "data": {
      "text/plain": [
       "0.08736"
      ]
     },
     "execution_count": 6,
     "metadata": {},
     "output_type": "execute_result"
    }
   ],
   "source": [
    "posteriorS.Normalize()"
   ]
  },
  {
   "cell_type": "markdown",
   "metadata": {},
   "source": [
    "Now we can see how likely this young woman was to be liberal."
   ]
  },
  {
   "cell_type": "code",
   "execution_count": 7,
   "metadata": {
    "collapsed": false
   },
   "outputs": [
    {
     "name": "stdout",
     "output_type": "stream",
     "text": [
      "Conservative 0.175824175824\n",
      "Liberal 0.43956043956\n",
      "Moderate 0.384615384615\n"
     ]
    }
   ],
   "source": [
    "posteriorS.Print()"
   ]
  },
  {
   "cell_type": "markdown",
   "metadata": {},
   "source": [
    "Even with a high moderate population, the woman still has about a 44% of being liberal, which is higher than either of the corresponding groups. What is also interesting is how unlikely she is to be conservative leaning. "
   ]
  }
 ],
 "metadata": {
  "kernelspec": {
   "display_name": "Python [Root]",
   "language": "python",
   "name": "Python [Root]"
  },
  "language_info": {
   "codemirror_mode": {
    "name": "ipython",
    "version": 2
   },
   "file_extension": ".py",
   "mimetype": "text/x-python",
   "name": "python",
   "nbconvert_exporter": "python",
   "pygments_lexer": "ipython2",
   "version": "2.7.12"
  }
 },
 "nbformat": 4,
 "nbformat_minor": 0
}
