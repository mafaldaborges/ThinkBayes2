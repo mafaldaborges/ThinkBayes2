{
 "cells": [
  {
   "cell_type": "code",
   "execution_count": 1,
   "metadata": {
    "collapsed": true
   },
   "outputs": [],
   "source": [
    "from __future__ import print_function, division\n",
    "\n",
    "% matplotlib inline\n",
    "import warnings\n",
    "warnings.filterwarnings('ignore')\n",
    "\n",
    "import math\n",
    "import numpy as np\n",
    "\n",
    "from thinkbayes2 import Pmf, Cdf, Suite, Joint, EvalExponentialPdf, MakePoissonPmf, MakeMixture\n",
    "import thinkplot"
   ]
  },
  {
   "cell_type": "code",
   "execution_count": 2,
   "metadata": {
    "collapsed": true
   },
   "outputs": [],
   "source": [
    "def EvalWeibullPdf(x, lam, k):\n",
    "    \"\"\"Computes the Weibull PDF.\n",
    "\n",
    "    x: value\n",
    "    lam: parameter lambda in events per unit time\n",
    "    k: parameter\n",
    "\n",
    "    returns: float probability density\n",
    "    \"\"\"\n",
    "    arg = (x / lam)\n",
    "    return k / lam * arg**(k-1) * np.exp(-arg**k)\n",
    "\n",
    "def EvalWeibullCdf(x, lam, k):\n",
    "    \"\"\"Evaluates CDF of the Weibull distribution.\"\"\"\n",
    "    arg = (x / lam)\n",
    "    return 1 - np.exp(-arg**k)\n",
    "\n",
    "def MakeWeibullPmf(lam, k, high, n=200):\n",
    "    \"\"\"Makes a PMF discrete approx to a Weibull distribution.\n",
    "\n",
    "    lam: parameter lambda in events per unit time\n",
    "    k: parameter\n",
    "    high: upper bound\n",
    "    n: number of values in the Pmf\n",
    "\n",
    "    returns: normalized Pmf\n",
    "    \"\"\"\n",
    "    xs = np.linspace(0, high, n)\n",
    "    ps = EvalWeibullPdf(xs, lam, k)\n",
    "    return Pmf(dict(zip(xs, ps)))"
   ]
  },
  {
   "cell_type": "code",
   "execution_count": 88,
   "metadata": {
    "collapsed": false
   },
   "outputs": [],
   "source": [
    "class JobSearch(Suite, Joint):\n",
    "    \n",
    "    def Likelihood(self, data, hypo):\n",
    "        \"\"\"bg = before graduationduation\n",
    "        ag = after graduation\n",
    "        nj = no job\n",
    "        \"\"\"\n",
    "        lam, k = hypo\n",
    "        if lam == 0:\n",
    "            return 0\n",
    "        flag = data\n",
    "        if flag == 'bg':\n",
    "            like = EvalWeibullCdf(9, lam, k)\n",
    "        elif flag == 'ag':\n",
    "            like = EvalWeibullCdf(15, lam, k) - EvalWeibullCdf(9, lam, k)\n",
    "        elif flag == 'nj':\n",
    "            like = 1- EvalWeibullCdf(15, lam, k)\n",
    "        elif flag == 'agoct':\n",
    "            like = EvalWeibullCdf(13, lam, k) - EvalWeibullCdf(9, lam, k)\n",
    "        elif flag == 'njoct':\n",
    "            like = 1- EvalWeibullCdf(15, lam, k)\n",
    "        else:\n",
    "            raise ValueError('Invalid data')\n",
    "        return like"
   ]
  },
  {
   "cell_type": "code",
   "execution_count": 93,
   "metadata": {
    "collapsed": false
   },
   "outputs": [],
   "source": [
    "data16 = []\n",
    "for i in range(53):\n",
    "    data16.append(('bg'))\n",
    "for i in range(9):\n",
    "    data16.append(('ag'))\n",
    "for i in range(16):\n",
    "    data16.append(('nj'))"
   ]
  },
  {
   "cell_type": "code",
   "execution_count": 94,
   "metadata": {
    "collapsed": false
   },
   "outputs": [],
   "source": [
    "data15 = []\n",
    "for i in range(44):\n",
    "    data15.append(('bg'))\n",
    "for i in range(22):\n",
    "    data15.append(('ag'))\n",
    "for i in range(16):\n",
    "    data15.append(('nj'))"
   ]
  },
  {
   "cell_type": "code",
   "execution_count": 95,
   "metadata": {
    "collapsed": true
   },
   "outputs": [],
   "source": [
    "data14 = []\n",
    "for i in range(41):\n",
    "    data14.append(('bg'))\n",
    "for i in range(20):\n",
    "    data14.append(('ag'))\n",
    "for i in range(23):\n",
    "    data14.append(('nj'))"
   ]
  },
  {
   "cell_type": "code",
   "execution_count": 96,
   "metadata": {
    "collapsed": true
   },
   "outputs": [],
   "source": [
    "data13 = []\n",
    "for i in range(53):\n",
    "    data13.append(('bg'))\n",
    "for i in range(6):\n",
    "    data13.append(('ag'))\n",
    "for i in range(17):\n",
    "    data13.append(('nj'))"
   ]
  },
  {
   "cell_type": "code",
   "execution_count": 97,
   "metadata": {
    "collapsed": true
   },
   "outputs": [],
   "source": [
    "data12 = []\n",
    "for i in range(50):\n",
    "    data12.append(('bg'))\n",
    "for i in range(4):\n",
    "    data12.append(('agoct'))\n",
    "for i in range(15):\n",
    "    data12.append(('njoct'))"
   ]
  },
  {
   "cell_type": "code",
   "execution_count": 98,
   "metadata": {
    "collapsed": true
   },
   "outputs": [],
   "source": [
    "dataAll = data16 + data15 + data14 + data13 + data12"
   ]
  },
  {
   "cell_type": "code",
   "execution_count": 119,
   "metadata": {
    "collapsed": false
   },
   "outputs": [],
   "source": [
    "from itertools import product\n",
    "\n",
    "lams = np.linspace(0, 20, 101)\n",
    "ks = np.linspace(0, 5, 101)\n",
    "\n",
    "suite16 = JobSearch(product(lams,ks))\n",
    "suite15 = JobSearch(product(lams,ks))\n",
    "suite14 = JobSearch(product(lams,ks))\n",
    "suite13 = JobSearch(product(lams,ks))\n",
    "suite12 = JobSearch(product(lams,ks))"
   ]
  },
  {
   "cell_type": "code",
   "execution_count": 120,
   "metadata": {
    "collapsed": false
   },
   "outputs": [
    {
     "data": {
      "text/plain": [
       "6.8839588968093237e-25"
      ]
     },
     "execution_count": 120,
     "metadata": {},
     "output_type": "execute_result"
    }
   ],
   "source": [
    "suite16.UpdateSet(data16)\n",
    "suite15.UpdateSet(data15)\n",
    "suite14.UpdateSet(data14)\n",
    "suite13.UpdateSet(data13)\n",
    "suite12.UpdateSet(data12)"
   ]
  },
  {
   "cell_type": "code",
   "execution_count": 124,
   "metadata": {
    "collapsed": false
   },
   "outputs": [],
   "source": [
    "pmf_lam16 = suite16.Marginal(0)\n",
    "pmf_lam15 = suite15.Marginal(0)\n",
    "pmf_lam14 = suite14.Marginal(0)\n",
    "pmf_lam13 = suite13.Marginal(0)\n",
    "pmf_lam12 = suite12.Marginal(0)\n",
    "\n",
    "#thinkplot.Pdf(pmf_lam)\n",
    "#pmf_lam.Mean()"
   ]
  },
  {
   "cell_type": "code",
   "execution_count": 125,
   "metadata": {
    "collapsed": false
   },
   "outputs": [],
   "source": [
    "pmf_k16 = suite16.Marginal(1)\n",
    "pmf_k15 = suite15.Marginal(1)\n",
    "pmf_k14 = suite14.Marginal(1)\n",
    "pmf_k13 = suite13.Marginal(1)\n",
    "pmf_k12 = suite12.Marginal(1)\n",
    "#thinkplot.Pdf(pmf_k)\n",
    "#pmf_k.Mean()"
   ]
  },
  {
   "cell_type": "code",
   "execution_count": 126,
   "metadata": {
    "collapsed": false
   },
   "outputs": [],
   "source": [
    "from thinkbayes2 import MakeBinomialPmf\n",
    "n = 50\n",
    "t_return = 20\n",
    "metapmf16 = Pmf()\n",
    "for (lam, k), prob in suite16.Items():\n",
    "    p = EvalWeibullCdf(t_return, lam, k)\n",
    "    pmf = MakeBinomialPmf(n,p)\n",
    "    metapmf16[pmf] = prob\n"
   ]
  },
  {
   "cell_type": "code",
   "execution_count": 127,
   "metadata": {
    "collapsed": true
   },
   "outputs": [],
   "source": [
    "metapmf15 = Pmf()\n",
    "for (lam, k), prob in suite15.Items():\n",
    "    p = EvalWeibullCdf(t_return, lam, k)\n",
    "    pmf = MakeBinomialPmf(n,p)\n",
    "    metapmf15[pmf] = prob"
   ]
  },
  {
   "cell_type": "code",
   "execution_count": 128,
   "metadata": {
    "collapsed": true
   },
   "outputs": [],
   "source": [
    "metapmf14 = Pmf()\n",
    "for (lam, k), prob in suite14.Items():\n",
    "    p = EvalWeibullCdf(t_return, lam, k)\n",
    "    pmf = MakeBinomialPmf(n,p)\n",
    "    metapmf14[pmf] = prob"
   ]
  },
  {
   "cell_type": "code",
   "execution_count": 129,
   "metadata": {
    "collapsed": true
   },
   "outputs": [],
   "source": [
    "metapmf13 = Pmf()\n",
    "for (lam, k), prob in suite13.Items():\n",
    "    p = EvalWeibullCdf(t_return, lam, k)\n",
    "    pmf = MakeBinomialPmf(n,p)\n",
    "    metapmf13[pmf] = prob"
   ]
  },
  {
   "cell_type": "code",
   "execution_count": 130,
   "metadata": {
    "collapsed": true
   },
   "outputs": [],
   "source": [
    "metapmf12 = Pmf()\n",
    "for (lam, k), prob in suite12.Items():\n",
    "    p = EvalWeibullCdf(t_return, lam, k)\n",
    "    pmf = MakeBinomialPmf(n,p)\n",
    "    metapmf12[pmf] = prob"
   ]
  },
  {
   "cell_type": "code",
   "execution_count": 131,
   "metadata": {
    "collapsed": false
   },
   "outputs": [
    {
     "data": {
      "image/png": "[encoded data removed]",
      "text/plain": [
       "<matplotlib.figure.Figure at 0x7fe050316190>"
      ]
     },
     "metadata": {},
     "output_type": "display_data"
    }
   ],
   "source": [
    "from thinkbayes2 import MakeMixture\n",
    "\n",
    "mix16 = MakeMixture(metapmf16)\n",
    "thinkplot.Pdf(mix16)\n"
   ]
  },
  {
   "cell_type": "code",
   "execution_count": 132,
   "metadata": {
    "collapsed": false
   },
   "outputs": [
    {
     "data": {
      "image/png": "[encoded data removed]",
      "text/plain": [
       "<matplotlib.figure.Figure at 0x7fe050c6f1d0>"
      ]
     },
     "metadata": {},
     "output_type": "display_data"
    }
   ],
   "source": [
    "mix15 = MakeMixture(metapmf15)\n",
    "thinkplot.Pdf(mix15)"
   ]
  },
  {
   "cell_type": "code",
   "execution_count": 133,
   "metadata": {
    "collapsed": false
   },
   "outputs": [
    {
     "data": {
      "image/png": "[encoded data removed]",
      "text/plain": [
       "<matplotlib.figure.Figure at 0x7fe04a8b6850>"
      ]
     },
     "metadata": {},
     "output_type": "display_data"
    }
   ],
   "source": [
    "mix14 = MakeMixture(metapmf14)\n",
    "thinkplot.Pdf(mix14)"
   ]
  },
  {
   "cell_type": "code",
   "execution_count": 134,
   "metadata": {
    "collapsed": false
   },
   "outputs": [
    {
     "data": {
      "image/png": "[encoded data removed]",
      "text/plain": [
       "<matplotlib.figure.Figure at 0x7fe050234e10>"
      ]
     },
     "metadata": {},
     "output_type": "display_data"
    }
   ],
   "source": [
    "mix13 = MakeMixture(metapmf13)\n",
    "thinkplot.Pdf(mix13)"
   ]
  },
  {
   "cell_type": "code",
   "execution_count": 135,
   "metadata": {
    "collapsed": false
   },
   "outputs": [
    {
     "data": {
      "image/png": "[encoded data removed]",
      "text/plain": [
       "<matplotlib.figure.Figure at 0x7fe04a846210>"
      ]
     },
     "metadata": {},
     "output_type": "display_data"
    }
   ],
   "source": [
    "mix12 = MakeMixture(metapmf12)\n",
    "thinkplot.Pdf(mix12)"
   ]
  },
  {
   "cell_type": "code",
   "execution_count": 137,
   "metadata": {
    "collapsed": false
   },
   "outputs": [
    {
     "name": "stdout",
     "output_type": "stream",
     "text": [
      "Probability at 12 months 0.731908384733\n"
     ]
    }
   ],
   "source": [
    "prob = 0\n",
    "for hypo in suite16:\n",
    "    lam, k = hypo\n",
    "    prob += suite16[hypo] * EvalWeibullCdf(12, lam, k)\n",
    "print(\"Probability at 12 months\", prob)"
   ]
  },
  {
   "cell_type": "code",
   "execution_count": 138,
   "metadata": {
    "collapsed": false
   },
   "outputs": [
    {
     "name": "stdout",
     "output_type": "stream",
     "text": [
      "Probability at 12 months 0.732195230171\n"
     ]
    }
   ],
   "source": [
    "prob = 0\n",
    "for hypo in suite12:\n",
    "    lam, k = hypo\n",
    "    prob += suite12[hypo] * EvalWeibullCdf(12, lam, k)\n",
    "print(\"Probability at 12 months\", prob)"
   ]
  },
  {
   "cell_type": "code",
   "execution_count": 139,
   "metadata": {
    "collapsed": false
   },
   "outputs": [
    {
     "name": "stdout",
     "output_type": "stream",
     "text": [
      "Probability at 12 months 0.663315748363\n"
     ]
    }
   ],
   "source": [
    "prob = 0\n",
    "for hypo in suite16:\n",
    "    lam, k = hypo\n",
    "    prob += suite16[hypo] * EvalWeibullCdf(9, lam, k)\n",
    "print(\"Probability at 12 months\", prob)"
   ]
  },
  {
   "cell_type": "code",
   "execution_count": null,
   "metadata": {
    "collapsed": true
   },
   "outputs": [],
   "source": []
  }
 ],
 "metadata": {
  "kernelspec": {
   "display_name": "Python [Root]",
   "language": "python",
   "name": "Python [Root]"
  },
  "language_info": {
   "codemirror_mode": {
    "name": "ipython",
    "version": 2
   },
   "file_extension": ".py",
   "mimetype": "text/x-python",
   "name": "python",
   "nbconvert_exporter": "python",
   "pygments_lexer": "ipython2",
   "version": "2.7.12"
  }
 },
 "nbformat": 4,
 "nbformat_minor": 0
}
