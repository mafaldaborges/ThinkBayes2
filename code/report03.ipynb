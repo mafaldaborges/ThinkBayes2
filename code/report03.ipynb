{
 "cells": [
  {
   "cell_type": "markdown",
   "metadata": {},
   "source": [
    "# Report 3\n",
    "## Mafalda Borges"
   ]
  },
  {
   "cell_type": "code",
   "execution_count": 2,
   "metadata": {
    "collapsed": true
   },
   "outputs": [],
   "source": [
    "from __future__ import print_function, division\n",
    "\n",
    "% matplotlib inline\n",
    "import warnings\n",
    "warnings.filterwarnings('ignore')\n",
    "\n",
    "import numpy as np\n",
    "\n",
    "from thinkbayes2 import Hist, Pmf, Cdf, Suite, Beta, EvalNormalPdf, Joint\n",
    "import thinkplot\n",
    "from scipy.special import binom as choose\n"
   ]
  },
  {
   "cell_type": "markdown",
   "metadata": {},
   "source": [
    "# 1984"
   ]
  },
  {
   "cell_type": "markdown",
   "metadata": {},
   "source": [
    "The following problem was written by Katerina Zoltan.\n",
    "\n",
    "The place: Airstrip One. The reason: thoughtcrime. The time: ???\n",
    "\n",
    "John's parents were taken by the Thought Police and erased from all records. John is being initiated into the Youth League and must pass a test. He is asked whether his parents are good comrades. It is not clear what John's admission officer knows:\n",
    "\n",
    "1. He may know that John's parents have been erased and that John did not give them away.\n",
    "2. He may know only that John's parents have been erased.\n",
    "3. He may not know that John's parents have been erased.\n",
    "\n",
    "It is a well known fact that children who have parents that are 'good comrades' have twice the chances of passing the test. However, if the admission officer knows that their parents committed thoughtcrime (but not that they have been erased yet), a child that gave his parents away has three times the chances of getting in than a child who did not give them away.\n",
    "\n",
    "And if the admission officer knows the specifics of the arrest, a child that denies that the records are false and their parents existed has a 1/3 chance of getting in, while one who pretends that his parents never existed has a 2/3 chance. Lying to an admission officer that knows the parents have been erased will ensure that the child does not get in. Telling an admission officer that your parents do not exist when he does not know this will give you a 1/3 chance of getting in.\n",
    "\n",
    "There is a 60% chance the admission officer knows nothing, a 25% chance that he knows the parents have been erased, and a 15% chance that the officer knows all of the details. John says that he never had parents and is admitted into the Youth League. What did his admission officer know?"
   ]
  },
  {
   "cell_type": "markdown",
   "metadata": {},
   "source": [
    "The first part is just recognizing what information need to be taken from the problem. There are three possible hypotheses the first being the officer knows everything, the second being he knows something and the last being he knows nothing.\n",
    "\n",
    "The data can also come in three types. Either John gave away his parents, he did not give away his parents or his parents are good comrades. \n",
    "\n",
    "In our case we know John claims he has no parents so we can use this to update the suite we created. \n",
    "\n",
    "From this we have enough information to set up our problem."
   ]
  },
  {
   "cell_type": "code",
   "execution_count": 5,
   "metadata": {
    "collapsed": false
   },
   "outputs": [
    {
     "name": "stdout",
     "output_type": "stream",
     "text": [
      "everything 0.15\n",
      "nothing 0.6\n",
      "something 0.25\n"
     ]
    }
   ],
   "source": [
    "adm_officer = {'everything': 0.15, 'something': 0.25, 'nothing': 0.60}\n",
    "\n",
    "class YouthLeague(Suite):\n",
    "    def Likelihood(self,data,hypo):\n",
    "        if data == 'gave up parents':\n",
    "            if hypo == 'everything':\n",
    "                return 0\n",
    "            elif hypo == 'something':\n",
    "                return 1\n",
    "            else:\n",
    "                return 3\n",
    "        elif data == 'no parents':\n",
    "            if hypo == 'everything':\n",
    "                return 2\n",
    "            elif hypo == 'something':\n",
    "                return 1\n",
    "            else:\n",
    "                return 1\n",
    "        else: #data == 'parents are good comrades'\n",
    "            if hypo == 'everything':\n",
    "                return 0\n",
    "            elif hypo == 'something':\n",
    "                return 0\n",
    "            else:\n",
    "                return 2\n",
    "            \n",
    "pmf_1984 = YouthLeague(adm_officer)\n",
    "pmf_1984.Print()"
   ]
  },
  {
   "cell_type": "code",
   "execution_count": 6,
   "metadata": {
    "collapsed": false
   },
   "outputs": [
    {
     "name": "stdout",
     "output_type": "stream",
     "text": [
      "everything 0.260869565217\n",
      "nothing 0.521739130435\n",
      "something 0.217391304348\n"
     ]
    }
   ],
   "source": [
    "pmf_1984.Update('no parents')\n",
    "pmf_1984.Print()"
   ]
  },
  {
   "cell_type": "markdown",
   "metadata": {},
   "source": [
    "This shows that most likely the admission officer knows nothing but he could possibly know everything or something, and John would still have a chance of getting in. "
   ]
  },
  {
   "cell_type": "markdown",
   "metadata": {},
   "source": [
    "### Where Am I? - The Robot Localization Problem\n",
    "\n",
    "This next problem was written by Kathryn Hite.\n",
    "\n",
    "Bayes's Theorem proves to be extremely useful when building mobile robots that need to know where they are within an environment at any given time.  Because of the error in motion and sensor systems, a robot's knowledge of its location in the world is based on probabilities.  Let's look at a simplified example that could feasibly be scaled up to create a working localization model.\n",
    "\n",
    "**Part A:**  We have a robot that exists within a very simple environement.  The map for this environment is a row of 6 grid cells that are colored either green or red and each labeled $x_1$, $x_2$, etc.  In real life, a larger form of this grid environment could make up what is known as an occupancy grid, or a map of the world with places that the robot can go represented as green cells and obstacles as red cells.\n",
    "\n",
    "|G|R|R|G|G|G|\n",
    "|-|-|-|-|-|-|\n",
    "|$x_1$|$x_2$|$x_3$|$x_4$|$x_5$|$x_6$|\n",
    "\n",
    "The robot has a sensor that can detect color with an 80% chance of being accurate.\n",
    "\n",
    "Given that the robot gets dropped in the environment and senses **red**, what is the probability of it being in each of the six locations?"
   ]
  },
  {
   "cell_type": "markdown",
   "metadata": {},
   "source": [
    "For our prior we know what grid colors already exist. We also know the probability of correctly identifying a color. From this we can look at the probability of being in any of the locations on the grid."
   ]
  },
  {
   "cell_type": "code",
   "execution_count": 10,
   "metadata": {
    "collapsed": true
   },
   "outputs": [],
   "source": [
    "colors = 'GRRGGG'\n",
    "locations = range(len(colors))\n",
    "data = 'R'\n",
    "\n",
    "class Robot(Suite):\n",
    "    \n",
    "    colors = 'GRRGGG'\n",
    "    \n",
    "    def Likelihood(self, data, hypo):\n",
    "        \"\"\" data: the detected color of 'R or Green'\n",
    "            hypo: the starting location\n",
    "        \"\"\"\n",
    "        \n",
    "        if self.colors[hypo] == data:\n",
    "            return 0.8\n",
    "        else:\n",
    "            return 0.2"
   ]
  },
  {
   "cell_type": "code",
   "execution_count": 11,
   "metadata": {
    "collapsed": false
   },
   "outputs": [
    {
     "name": "stdout",
     "output_type": "stream",
     "text": [
      "0 0.0833333333333\n",
      "1 0.333333333333\n",
      "2 0.333333333333\n",
      "3 0.0833333333333\n",
      "4 0.0833333333333\n",
      "5 0.0833333333333\n"
     ]
    }
   ],
   "source": [
    "robot = Robot(locations)\n",
    "robot.Update('R')\n",
    "robot.Print()"
   ]
  },
  {
   "cell_type": "markdown",
   "metadata": {},
   "source": [
    "This shows that the robot is more likely to be at either of the red locations, with about a 1/3 chance of being at either."
   ]
  },
  {
   "cell_type": "markdown",
   "metadata": {},
   "source": [
    "**Part B:** This becomes an extremely useful tool as we begin to move around the map.  Let's try to get a more accurate knowledge of where the robot falls in the world by telling it to move forward one cell.\n",
    "\n",
    "The robot moves forward one cell from its previous position and the sensor reads **green**, again with an 80% accuracy rate.  Update the probability of the robot having started in each location."
   ]
  },
  {
   "cell_type": "markdown",
   "metadata": {},
   "source": [
    "For this problem we will need to keep track of where the robot is and where it moves to, as well as the color it senses. We still know the colors in the grid, and we know how likely it is that the robot sensed the colors correctly. We will first input the information of the robot sensing a red square. The we will update this with the sensing of a green square. We do that by setting the previous posteriors as the priors for the next part of the problem. "
   ]
  },
  {
   "cell_type": "code",
   "execution_count": 12,
   "metadata": {
    "collapsed": true
   },
   "outputs": [],
   "source": [
    "class Robot2(Suite):\n",
    "    colors = 'GRRGGG'\n",
    "    \n",
    "    def Likelihood(self, data, hypo):\n",
    "        \"\"\"data shows it's location and the color sensed\n",
    "        hypo: is where the robot started\n",
    "        \"\"\"\n",
    "        loc, color = data\n",
    "        index = (hypo + loc) %len(self.colors)\n",
    "        if self.colors[index] == color:\n",
    "            return 0.8\n",
    "        else:\n",
    "            return 0.2"
   ]
  },
  {
   "cell_type": "code",
   "execution_count": 14,
   "metadata": {
    "collapsed": false
   },
   "outputs": [
    {
     "name": "stdout",
     "output_type": "stream",
     "text": [
      "0 0.0833333333333\n",
      "1 0.333333333333\n",
      "2 0.333333333333\n",
      "3 0.0833333333333\n",
      "4 0.0833333333333\n",
      "5 0.0833333333333\n"
     ]
    }
   ],
   "source": [
    "robot2 = Robot2(locations)\n",
    "robot2.Update((0,'R'))\n",
    "robot2.Print()"
   ]
  },
  {
   "cell_type": "code",
   "execution_count": 15,
   "metadata": {
    "collapsed": false
   },
   "outputs": [
    {
     "name": "stdout",
     "output_type": "stream",
     "text": [
      "0 0.030303030303\n",
      "1 0.121212121212\n",
      "2 0.484848484848\n",
      "3 0.121212121212\n",
      "4 0.121212121212\n",
      "5 0.121212121212\n"
     ]
    }
   ],
   "source": [
    "robot2.Update((1,'G'))\n",
    "robot2.Print()"
   ]
  },
  {
   "cell_type": "markdown",
   "metadata": {},
   "source": [
    "This shows that the location with the highest probability that the robot is at is the one with index 2 or the 3rd position on the grid. There is a 48% chance the robot is there."
   ]
  },
  {
   "cell_type": "markdown",
   "metadata": {},
   "source": [
    "## Red Dice problems\n",
    "\n",
    "Suppose I have a six-sided die that is red on 2 sides and blue on 4 sides, and another die that's the other way around, red on 4 sides and blue on 2.\n",
    "\n",
    "I choose a die at random and roll it, and I tell you it came up red.  What is the probability that I rolled the second die (red on 4 sides)?"
   ]
  },
  {
   "cell_type": "markdown",
   "metadata": {},
   "source": [
    "We are going to assume there is equal probability that either die is chosen. Then we also assume a fair die making the first die have a 1/3 chance of rolling a red and 2/3 chance of rolling a blue and the second die the opposite is true. Knowing the ratio of blue to red sides allows us to set up our likelihoods. We will set up each die as a PMF. "
   ]
  },
  {
   "cell_type": "code",
   "execution_count": 32,
   "metadata": {
    "collapsed": false
   },
   "outputs": [
    {
     "name": "stdout",
     "output_type": "stream",
     "text": [
      "Blue 2/3\n",
      "Red 1/3\n",
      "Blue 1/3\n",
      "Red 2/3\n"
     ]
    }
   ],
   "source": [
    "from fractions import Fraction\n",
    "\n",
    "d1 = Pmf({'Red':Fraction(2), 'Blue':Fraction(4)}, label='d1 (bluer) ')\n",
    "d2 = Pmf({'Red':Fraction(4), 'Blue':Fraction(2)}, label='d2 (redder)')\n",
    "d1.Print()\n",
    "d2.Print()"
   ]
  },
  {
   "cell_type": "code",
   "execution_count": 33,
   "metadata": {
    "collapsed": false
   },
   "outputs": [
    {
     "name": "stdout",
     "output_type": "stream",
     "text": [
      "d2 (redder) 1/2\n",
      "d1 (bluer)  1/2\n"
     ]
    }
   ],
   "source": [
    "dice = Pmf({d1:Fraction(1), d2:Fraction(1)})\n",
    "dice.Print()"
   ]
  },
  {
   "cell_type": "code",
   "execution_count": null,
   "metadata": {
    "collapsed": true
   },
   "outputs": [],
   "source": [
    "class Dice(Suite):\n",
    "    def Likelihood(self,data,hypo):\n",
    "        \"\"\"\"\"\"\n",
    "        return hypo[data]"
   ]
  },
  {
   "cell_type": "code",
   "execution_count": 35,
   "metadata": {
    "collapsed": false
   },
   "outputs": [
    {
     "name": "stdout",
     "output_type": "stream",
     "text": [
      "d2 (redder) 1/2\n",
      "d1 (bluer)  1/2\n"
     ]
    }
   ],
   "source": [
    "prior = Dice({d1:Fraction(1), d2:Fraction(1)})\n",
    "prior.Print()"
   ]
  },
  {
   "cell_type": "code",
   "execution_count": 36,
   "metadata": {
    "collapsed": false
   },
   "outputs": [
    {
     "name": "stdout",
     "output_type": "stream",
     "text": [
      "d2 (redder) 2/3\n",
      "d1 (bluer)  1/3\n"
     ]
    }
   ],
   "source": [
    "posterior = prior.Copy()\n",
    "posterior.Update('Red')\n",
    "posterior.Print()"
   ]
  },
  {
   "cell_type": "markdown",
   "metadata": {},
   "source": [
    "This shows that rolling red, there is a 2/3 chance that die 2 was rolled."
   ]
  },
  {
   "cell_type": "markdown",
   "metadata": {},
   "source": [
    "## Scenario B\n",
    "\n",
    "Suppose I roll the same die again.  What is the probability I get red?"
   ]
  },
  {
   "cell_type": "markdown",
   "metadata": {},
   "source": [
    "In this case the posterior from the previous problem will become the prior of the new problem. "
   ]
  },
  {
   "cell_type": "code",
   "execution_count": 37,
   "metadata": {
    "collapsed": false
   },
   "outputs": [
    {
     "name": "stdout",
     "output_type": "stream",
     "text": [
      "Blue 4/9\n",
      "Red 5/9\n"
     ]
    }
   ],
   "source": [
    "from thinkbayes2 import MakeMixture\n",
    "\n",
    "predictive = MakeMixture(posterior)\n",
    "predictive.Print()"
   ]
  },
  {
   "cell_type": "markdown",
   "metadata": {},
   "source": [
    "This shows the the chances of rolling a red again are slightly higher than rolling a blue."
   ]
  },
  {
   "cell_type": "markdown",
   "metadata": {},
   "source": [
    "## Scenario C\n",
    "\n",
    "Now let's run a different experiment.  Suppose I choose a die and roll it.  If the outcome is red, I report the outcome.  Otherwise I choose a die again and roll again, and repeat until I get red.\n",
    "\n",
    "What is the probability that the last die I rolled is the reddish one?"
   ]
  },
  {
   "cell_type": "markdown",
   "metadata": {},
   "source": [
    "This is actually just Scenario A in disguise. We are only concerned with the outcome of rolling a red, just like the first problem. The priors will be 1/2 choosing each die, and the likelihoods will be the number of red faces on each die over the total number of sides. Given that the set-up is the same as the first problem we can safely say that there is a 2/3 chance of rolling the reddish die and a 1/3 chance of rolling the bluish die."
   ]
  },
  {
   "cell_type": "markdown",
   "metadata": {},
   "source": [
    "## Scenario D\n",
    "\n",
    "Finally, suppose I choose a die and roll it over and over until I get red, then report the outcome.  What is the probability that the die I rolled is the reddish one?"
   ]
  },
  {
   "cell_type": "markdown",
   "metadata": {},
   "source": [
    "In this case the outcome does not really matter. The only important piece of information is that a die is picked at random and will not be changed for the duration of the experiment. Since each die is equally likely to be picked we know that the there is a 1/2 chance of picking the reddish die and a 1/2 chance of picking the bluish die. If we knew how many rolls it took to get to the red we could better predict which die was drawn. "
   ]
  },
  {
   "cell_type": "markdown",
   "metadata": {},
   "source": [
    "## Orange Cats\n",
    "\n",
    "The problem was created by Allen Downey but inspired by a problem by Uma Desai.\n",
    "\n",
    "80% of orange tabby cats are male, because the gene for orange coloring is X-linked recessive (a male is orange if he has the orange allele on his one X chromosome; a female is orange only if she has the orange allele on both of hers).  If an orange male and a non-orange female mate, what fraction of their kittens will be orange?"
   ]
  },
  {
   "cell_type": "markdown",
   "metadata": {
    "collapsed": true
   },
   "source": [
    "I decided to approach this problem by starting with more research. What I found was in Britain about 30% of cats were orange (http://pets.stackexchange.com/questions/7597/why-is-a-female-orange-tabby-rare). Lets call P(Orange) the probability of an orange cat. Let's call P(OO) the probability of being orange and female (because females 2 alleles that code for orange).\n",
    "\n",
    "P(OO) = P(Orange*Female)\n",
    "\n",
    "P(OO) = P(Orange)* P(Female|Orange) = .3*.2 = 0.06\n",
    "\n",
    "We can use the Hardy Weinburg model to look at how many female cats are homozygous and how many are heterozygous. If p represents the prevalence of the dominant allele and q represents the prevalence of the recessive allele then we know that their sum is equal to one. Assuming cat's mating decisions are independent of fur color then we can use the Hardy-Weinberg principle. We can divide the female cats into three categories, orange (OO), non-orange carrier (ON) and non-orange (NN). The model also tells us that\n",
    "\n",
    "P(OO) = q^2\n",
    "\n",
    "P(ON) = 2*p*q\n",
    "\n",
    "P(NN) = p^2\n",
    "\n",
    "We know that P(OO) + P(ON) + P(NN) is equal to 1. We also know the value of P(OO) = q^2 = 0.06 so we can compute p and q. \n",
    "\n",
    "P(ON) = 0.37\n",
    "\n",
    "P(NN) = 0.57\n",
    "\n",
    "We can ignore the male cat for solving the problem. He can only give an Orange coding allele or no allele, neither of which prevent the kitten from being orange. What determines the color of the kitten is the mother.\n",
    "\n",
    "Mendelian genetics say that giving either allele is equally likely. We also know we need a carrier for there to be an orange kitten. Out of the population of non-orange female cats we know that there is a 39% chance of being a carrier (.37/[.37+.57]). Given the cat has gives either allele equally then the chance of an orange offspring is equal to .5*.39 = .20. \n",
    "\n",
    "This means there is a 20% chance of a female offspring given a non-orange tabby mother.\n",
    "\n",
    "I am slightly unsure of what the problem is asking so I will answer three questions instead. What is the probability of getting an orange kitten, what is the fraction of orange kittens given a heterogenous cat, and what is the fraction of kittens that are orange given a homozygous non-orange mother? The reason I don't like the original question is it seems to suggest that there is always a chance some of the kittens will be orange, but this is not the case. If the mother is homozygous dominant then there is probability 0 that there will be an orange kitten. If the mother is heterozygous then you would expect half the kittens to be orange (because she has an equal chance of donating the orange or non-orange allele). If we don't know either than there is a 20% chance of a kitten being orange.\n",
    "\n",
    "\n",
    "\n"
   ]
  },
  {
   "cell_type": "markdown",
   "metadata": {},
   "source": [
    "## Lincoln Index\n",
    "\n",
    "**Exercise:** From [John D. Cook](http://www.johndcook.com/blog/2010/07/13/lincoln-index/)\n",
    "\n",
    "\"Suppose you have a tester who finds 20 bugs in your program. You want to estimate how many bugs are really in the program. You know there are at least 20 bugs, and if you have supreme confidence in your tester, you may suppose there are around 20 bugs. But maybe your tester isn't very good. Maybe there are hundreds of bugs. How can you have any idea how many bugs there are? There’s no way to know with one tester. But if you have two testers, you can get a good idea, even if you don’t know how skilled the testers are.\n",
    "\n",
    "Suppose two testers independently search for bugs. Let k1 be the number of errors the first tester finds and k2 the number of errors the second tester finds. Let c be the number of errors both testers find.  The Lincoln Index estimates the total number of errors as k1 k2 / c [I changed his notation to be consistent with mine].\"\n",
    "\n",
    "So if the first tester finds 20 bugs, the second finds 15, and they find 3 in common, we estimate that there are about 100 bugs.  What is the Bayesian estimate of the number of errors based on this data?"
   ]
  },
  {
   "cell_type": "markdown",
   "metadata": {},
   "source": [
    "We can represent our data in the form of a tuple, where k1 is the number of bugs found by tester 1, k2 is the number of bugs found by tester 2, and c is the number of bugs they find that are the same. We can set up our hypothesis also in the form of a tuple, where n is the total number of bugs, p1 is the probability of tester 1 finding a bug, and p2 is the probability of tester 2 finding a bug.\n",
    "\n",
    "We can solve this problem using a binomial pmf which is equal to\n",
    "\n",
    "choose(n,k) * p<sup>k</sup> * (1-p) <sup> (n-k) </sup> \n",
    "\n",
    "where k = number of found bugs, n = total number of bugs, and p is the probability of finding a bug. choose computes the binomial coefficient. We will create a function called binom to compute the rest of the equation.\n"
   ]
  },
  {
   "cell_type": "code",
   "execution_count": 3,
   "metadata": {
    "collapsed": true
   },
   "outputs": [],
   "source": [
    "def binom (k, n, p):\n",
    "    \"\"\"Used for the partial computation of a binomial pmf\n",
    "    \n",
    "    k: the number of found bugs\n",
    "    n: the actual number of bugs\n",
    "    p: the probability of finding a bug\"\"\"\n",
    "    \n",
    "    return p**k * (1-p)**(n-k)\n",
    "\n",
    "class Lincoln(Suite,Joint):\n",
    "    \"\"\"The hypothesis about the number of bugs\"\"\"\n",
    "    \n",
    "    def Likelihood(self, data, hypo):\n",
    "        \"\"\"Represents the data under the hypothesis\n",
    "         \n",
    "         hypo: n, p1, p2\n",
    "         data: k1, k2, c\n",
    "         \"\"\"\n",
    "        \n",
    "        n, p1, p2 = hypo\n",
    "        k1, k2, c = data\n",
    "        \n",
    "        firstCheck = choose(n, k1) * binom(k1, n, p1)\n",
    "        secondCheck = choose(k1, c) * choose (n-k1, k2-c) * binom(k2,n,p2)\n",
    "        return firstCheck * secondCheck"
   ]
  },
  {
   "cell_type": "markdown",
   "metadata": {},
   "source": [
    "We can now enter in our data and solve the problem."
   ]
  },
  {
   "cell_type": "code",
   "execution_count": 4,
   "metadata": {
    "collapsed": false
   },
   "outputs": [
    {
     "data": {
      "text/plain": [
       "7.5934129466585166e-06"
      ]
     },
     "execution_count": 4,
     "metadata": {},
     "output_type": "execute_result"
    }
   ],
   "source": [
    "data = 20, 15, 3\n",
    "probs = np.linspace(0,1,31)\n",
    "hypos = []\n",
    "for n in range(32, 400):\n",
    "    for p1 in probs:\n",
    "        for p2 in probs:\n",
    "            hypos.append((n,p1,p2))\n",
    "            \n",
    "suite = Lincoln(hypos)\n",
    "suite.Update(data)"
   ]
  },
  {
   "cell_type": "markdown",
   "metadata": {},
   "source": [
    "We next wish to look at the marginal distribution of n, where 0 is the index of n. "
   ]
  },
  {
   "cell_type": "code",
   "execution_count": 5,
   "metadata": {
    "collapsed": false
   },
   "outputs": [
    {
     "data": {
      "image/png": "[encoded data removed]",
      "text/plain": [
       "<matplotlib.figure.Figure at 0x7f080bcfb090>"
      ]
     },
     "metadata": {},
     "output_type": "display_data"
    }
   ],
   "source": [
    "n_marginal = suite.Marginal(0)\n",
    "thinkplot.Pmf(n_marginal, label='n')\n",
    "thinkplot.Config(xlabel='number of bugs',\n",
    "                   ylabel='PMF')"
   ]
  },
  {
   "cell_type": "markdown",
   "metadata": {},
   "source": [
    "Given that that 32 original bugs were found, the lower bound for the number of bugs cannot be below 32. The upper bound was set by trial and error to show most of the distribution (a small amount of data gets cut off by the graph). "
   ]
  },
  {
   "cell_type": "code",
   "execution_count": 6,
   "metadata": {
    "collapsed": false
   },
   "outputs": [
    {
     "name": "stdout",
     "output_type": "stream",
     "text": [
      "posterior mean of n 106.459961237\n",
      "MAP of n 72\n"
     ]
    }
   ],
   "source": [
    "print('posterior mean of n', n_marginal.Mean())\n",
    "print('MAP of n', n_marginal.MAP())"
   ]
  },
  {
   "cell_type": "markdown",
   "metadata": {},
   "source": [
    "The likelihood that produces a maxima is 72, and the mean is 106. These numbers are consistent with the estimate of the Lincoln index, suggesting both ways of estimating bugs may be reasonable."
   ]
  },
  {
   "cell_type": "markdown",
   "metadata": {},
   "source": [
    "## Original Problem\n",
    "\n",
    "From DASL(http://lib.stat.cmu.edu/DASL/Datafiles/Hotdogs.html)\n",
    "\n",
    "The data file has the calories and salt content of 54 types of hotdogs as well as the main source of protein: beef, poultry, and meat. If I went to the store wanting a healthy hot dog, which type of protein should I select?\n",
    "\n",
    "I will use Pandas to load the data.\n",
    "\n",
    "\n"
   ]
  },
  {
   "cell_type": "code",
   "execution_count": 18,
   "metadata": {
    "collapsed": false
   },
   "outputs": [
    {
     "data": {
      "text/html": [
       "<div>\n",
       "<table border=\"1\" class=\"dataframe\">\n",
       "  <thead>\n",
       "    <tr style=\"text-align: right;\">\n",
       "      <th></th>\n",
       "      <th>Type</th>\n",
       "      <th>Calories</th>\n",
       "      <th>Sodium</th>\n",
       "    </tr>\n",
       "  </thead>\n",
       "  <tbody>\n",
       "    <tr>\n",
       "      <th>0</th>\n",
       "      <td>Beef</td>\n",
       "      <td>186</td>\n",
       "      <td>495</td>\n",
       "    </tr>\n",
       "    <tr>\n",
       "      <th>1</th>\n",
       "      <td>Beef</td>\n",
       "      <td>181</td>\n",
       "      <td>477</td>\n",
       "    </tr>\n",
       "    <tr>\n",
       "      <th>2</th>\n",
       "      <td>Beef</td>\n",
       "      <td>176</td>\n",
       "      <td>425</td>\n",
       "    </tr>\n",
       "    <tr>\n",
       "      <th>3</th>\n",
       "      <td>Beef</td>\n",
       "      <td>149</td>\n",
       "      <td>322</td>\n",
       "    </tr>\n",
       "    <tr>\n",
       "      <th>4</th>\n",
       "      <td>Beef</td>\n",
       "      <td>184</td>\n",
       "      <td>482</td>\n",
       "    </tr>\n",
       "  </tbody>\n",
       "</table>\n",
       "</div>"
      ],
      "text/plain": [
       "   Type  Calories  Sodium\n",
       "0  Beef       186     495\n",
       "1  Beef       181     477\n",
       "2  Beef       176     425\n",
       "3  Beef       149     322\n",
       "4  Beef       184     482"
      ]
     },
     "execution_count": 18,
     "metadata": {},
     "output_type": "execute_result"
    }
   ],
   "source": [
    "import pandas as pd\n",
    "\n",
    "df = pd.read_csv('hotdog.csv', delimiter='\\t')\n",
    "df.head()"
   ]
  },
  {
   "cell_type": "markdown",
   "metadata": {},
   "source": [
    "I will then compute the mean value calories and sodium in the group."
   ]
  },
  {
   "cell_type": "code",
   "execution_count": 26,
   "metadata": {
    "collapsed": false
   },
   "outputs": [
    {
     "data": {
      "text/html": [
       "<div>\n",
       "<table border=\"1\" class=\"dataframe\">\n",
       "  <thead>\n",
       "    <tr style=\"text-align: right;\">\n",
       "      <th></th>\n",
       "      <th>Calories</th>\n",
       "      <th>Sodium</th>\n",
       "    </tr>\n",
       "    <tr>\n",
       "      <th>Type</th>\n",
       "      <th></th>\n",
       "      <th></th>\n",
       "    </tr>\n",
       "  </thead>\n",
       "  <tbody>\n",
       "    <tr>\n",
       "      <th>Beef</th>\n",
       "      <td>156.850000</td>\n",
       "      <td>401.150000</td>\n",
       "    </tr>\n",
       "    <tr>\n",
       "      <th>Meat</th>\n",
       "      <td>158.705882</td>\n",
       "      <td>418.529412</td>\n",
       "    </tr>\n",
       "    <tr>\n",
       "      <th>Poultry</th>\n",
       "      <td>118.764706</td>\n",
       "      <td>459.000000</td>\n",
       "    </tr>\n",
       "  </tbody>\n",
       "</table>\n",
       "</div>"
      ],
      "text/plain": [
       "           Calories      Sodium\n",
       "Type                           \n",
       "Beef     156.850000  401.150000\n",
       "Meat     158.705882  418.529412\n",
       "Poultry  118.764706  459.000000"
      ]
     },
     "execution_count": 26,
     "metadata": {},
     "output_type": "execute_result"
    }
   ],
   "source": [
    "df.groupby('Type').mean()"
   ]
  },
  {
   "cell_type": "code",
   "execution_count": 28,
   "metadata": {
    "collapsed": false
   },
   "outputs": [
    {
     "name": "stdout",
     "output_type": "stream",
     "text": [
      "Beef 156.85\n",
      "Meat 158.705882353\n",
      "Poultry 118.764705882\n"
     ]
    }
   ],
   "source": [
    "groupedCal = df.groupby('Type')\n",
    "for name, cal in groupedCal:\n",
    "    print (name, cal.Calories.mean())"
   ]
  },
  {
   "cell_type": "code",
   "execution_count": 29,
   "metadata": {
    "collapsed": false
   },
   "outputs": [
    {
     "name": "stdout",
     "output_type": "stream",
     "text": [
      "Beef 401.15\n",
      "Meat 418.529411765\n",
      "Poultry 459.0\n"
     ]
    }
   ],
   "source": [
    "groupedSod = df.groupby('Type')\n",
    "for name, sod in groupedSod:\n",
    "    print (name, sod.Sodium.mean())"
   ]
  },
  {
   "cell_type": "markdown",
   "metadata": {},
   "source": [
    "I will use a normal distribution to describe my data, and create a likelihood function."
   ]
  },
  {
   "cell_type": "code",
   "execution_count": 30,
   "metadata": {
    "collapsed": true
   },
   "outputs": [],
   "source": [
    "from scipy.stats import norm\n",
    "\n",
    "class Normal(Suite, Joint):\n",
    "    \n",
    "    def Likelihood(self, data, hypo):\n",
    "        \"\"\"\n",
    "        \n",
    "        data: calories or salt content\n",
    "        hypo: mu, sigma\n",
    "        \"\"\"\n",
    "        mu, sigma = hypo\n",
    "        likes = norm.pdf(data, mu, sigma)\n",
    "        return np.prod(likes)"
   ]
  },
  {
   "cell_type": "markdown",
   "metadata": {},
   "source": [
    "I will assume that my prior distributions for both mu and sigma are uniform."
   ]
  },
  {
   "cell_type": "code",
   "execution_count": 38,
   "metadata": {
    "collapsed": true
   },
   "outputs": [],
   "source": [
    "musC = np.linspace(100, 200, 201)\n",
    "sigmasC = np.linspace(2, 60, 201)\n"
   ]
  },
  {
   "cell_type": "markdown",
   "metadata": {},
   "source": [
    "Next I will go through all of the pairings of mu and sigma."
   ]
  },
  {
   "cell_type": "code",
   "execution_count": 45,
   "metadata": {
    "collapsed": false
   },
   "outputs": [
    {
     "data": {
      "text/plain": [
       "1.3047282475800567e-41"
      ]
     },
     "execution_count": 45,
     "metadata": {},
     "output_type": "execute_result"
    }
   ],
   "source": [
    "from itertools import product\n",
    "\n",
    "beefC = Normal(product(musC, sigmasC), label = 'Beef Calories')\n",
    "dataBC = df[df.Type=='Beef'].Calories\n",
    "beefC.Update(dataBC)"
   ]
  },
  {
   "cell_type": "markdown",
   "metadata": {},
   "source": [
    "I can visualize this data using a contour plot, which maps my mus to my sigmas. The first contour represents the beef hotdogs, the secound one meat, and the third poultry."
   ]
  },
  {
   "cell_type": "code",
   "execution_count": 46,
   "metadata": {
    "collapsed": false
   },
   "outputs": [
    {
     "data": {
      "image/png": "[encoded data removed]",
      "text/plain": [
       "<matplotlib.figure.Figure at 0x7f8881b07910>"
      ]
     },
     "metadata": {},
     "output_type": "display_data"
    }
   ],
   "source": [
    "thinkplot.Contour(beefC, pcolor=True)\n",
    "thinkplot.Config(xlabel='mu', ylabel='sigma')"
   ]
  },
  {
   "cell_type": "code",
   "execution_count": 44,
   "metadata": {
    "collapsed": false
   },
   "outputs": [
    {
     "data": {
      "image/png": "[encoded data removed]",
      "text/plain": [
       "<matplotlib.figure.Figure at 0x7f8883c6a090>"
      ]
     },
     "metadata": {},
     "output_type": "display_data"
    }
   ],
   "source": [
    "meatC = Normal(product(musC, sigmasC), label = 'Meat Calories')\n",
    "dataMC = df[df.Type=='Meat'].Calories\n",
    "meatC.Update(dataMC)\n",
    "\n",
    "thinkplot.Contour(meatC, pcolor=True)\n",
    "thinkplot.Config(xlabel='mu', ylabel='sigma')"
   ]
  },
  {
   "cell_type": "code",
   "execution_count": 43,
   "metadata": {
    "collapsed": false
   },
   "outputs": [
    {
     "data": {
      "image/png": "[encoded data removed]",
      "text/plain": [
       "<matplotlib.figure.Figure at 0x7f88830b3790>"
      ]
     },
     "metadata": {},
     "output_type": "display_data"
    }
   ],
   "source": [
    "poultryC = Normal(product(musC, sigmasC), label='Poultry Calories')\n",
    "dataPC = df[df.Type=='Poultry'].Calories\n",
    "poultryC.Update(dataPC)\n",
    "\n",
    "thinkplot.Contour(poultryC, pcolor=True)\n",
    "thinkplot.Config(xlabel='mu', ylabel='sigma')"
   ]
  },
  {
   "cell_type": "markdown",
   "metadata": {},
   "source": [
    "We can then get the marginal distribution of mu, which tells us about the mean of the data."
   ]
  },
  {
   "cell_type": "code",
   "execution_count": 51,
   "metadata": {
    "collapsed": false
   },
   "outputs": [
    {
     "data": {
      "image/png": "[encoded data removed]",
      "text/plain": [
       "<matplotlib.figure.Figure at 0x7f88be066b50>"
      ]
     },
     "metadata": {},
     "output_type": "display_data"
    }
   ],
   "source": [
    "pmf_mu_beef_c = beefC.Marginal(0)\n",
    "pmf_mu_meat_c = meatC.Marginal(0)\n",
    "pmf_mu_poultry_c = poultryC.Marginal(0)\n",
    "\n",
    "thinkplot.Pdf(pmf_mu_beef_c, label = 'Beef Calories')\n",
    "thinkplot.Pdf(pmf_mu_meat_c, label = 'Meat Calories')\n",
    "thinkplot.Pdf(pmf_mu_poultry_c, label = 'Poultry Calories')\n",
    "thinkplot.Config(xlabel='mu', ylabel='Pmf')"
   ]
  },
  {
   "cell_type": "markdown",
   "metadata": {},
   "source": [
    "We can also get the marginal distribution of sigma, which tells us about the standardard deviation. "
   ]
  },
  {
   "cell_type": "code",
   "execution_count": 78,
   "metadata": {
    "collapsed": false
   },
   "outputs": [
    {
     "data": {
      "image/png": "[encoded data removed]",
      "text/plain": [
       "<matplotlib.figure.Figure at 0x7f8882ba9e10>"
      ]
     },
     "metadata": {},
     "output_type": "display_data"
    }
   ],
   "source": [
    "pmf_sigma_beef_c = beefC.Marginal(1)\n",
    "pmf_sigma_meat_c = meatC.Marginal(1)\n",
    "pmf_sigma_poultry_c = poultryC.Marginal(1)\n",
    "\n",
    "thinkplot.Pdf(pmf_sigma_beef_c, label = 'Beef Calories')\n",
    "thinkplot.Pdf(pmf_sigma_meat_c, label = 'Meat Calories')\n",
    "thinkplot.Pdf(pmf_sigma_poultry_c, label = 'Poultry Calories')\n",
    "thinkplot.Config(xlabel='sigma', ylabel='Pmf')"
   ]
  },
  {
   "cell_type": "markdown",
   "metadata": {},
   "source": [
    "Next we can compute if the probability that mu of the poultry is less than the other two types of protein. We will also look at the probability that mu of the meat is greater than mu of the beef.\n",
    "We will first do the probability that mu of the beef is greater than mu of the poultry."
   ]
  },
  {
   "cell_type": "code",
   "execution_count": 56,
   "metadata": {
    "collapsed": false
   },
   "outputs": [
    {
     "data": {
      "text/plain": [
       "0.99997424612552732"
      ]
     },
     "execution_count": 56,
     "metadata": {},
     "output_type": "execute_result"
    }
   ],
   "source": [
    "pmf_mu_beef_c.ProbGreater(pmf_mu_poultry_c)\n"
   ]
  },
  {
   "cell_type": "markdown",
   "metadata": {},
   "source": [
    "Then we will see the probability of mu of the meat being greater than mu of the poutlry."
   ]
  },
  {
   "cell_type": "code",
   "execution_count": 57,
   "metadata": {
    "collapsed": false
   },
   "outputs": [
    {
     "data": {
      "text/plain": [
       "0.99994332303324551"
      ]
     },
     "execution_count": 57,
     "metadata": {},
     "output_type": "execute_result"
    }
   ],
   "source": [
    "pmf_mu_meat_c.ProbGreater(pmf_mu_poultry_c)\n"
   ]
  },
  {
   "cell_type": "markdown",
   "metadata": {},
   "source": [
    "And finally we will see if the probability of mu of the meat being greater than mu of the beef."
   ]
  },
  {
   "cell_type": "code",
   "execution_count": 58,
   "metadata": {
    "collapsed": false
   },
   "outputs": [
    {
     "data": {
      "text/plain": [
       "0.57491899264728341"
      ]
     },
     "execution_count": 58,
     "metadata": {},
     "output_type": "execute_result"
    }
   ],
   "source": [
    "pmf_mu_meat_c.ProbGreater(pmf_mu_beef_c)"
   ]
  },
  {
   "cell_type": "markdown",
   "metadata": {},
   "source": [
    "We can also compare standard deviations using sigmas. We will do it in the same order as we did when comparing the mus."
   ]
  },
  {
   "cell_type": "code",
   "execution_count": 59,
   "metadata": {
    "collapsed": false
   },
   "outputs": [
    {
     "data": {
      "text/plain": [
       "0.48302227550698357"
      ]
     },
     "execution_count": 59,
     "metadata": {},
     "output_type": "execute_result"
    }
   ],
   "source": [
    "pmf_sigma_beef_c.ProbGreater(pmf_sigma_poultry_c)"
   ]
  },
  {
   "cell_type": "code",
   "execution_count": 60,
   "metadata": {
    "collapsed": false
   },
   "outputs": [
    {
     "data": {
      "text/plain": [
       "0.65844773328102646"
      ]
     },
     "execution_count": 60,
     "metadata": {},
     "output_type": "execute_result"
    }
   ],
   "source": [
    "pmf_sigma_meat_c.ProbGreater(pmf_sigma_poultry_c)"
   ]
  },
  {
   "cell_type": "code",
   "execution_count": 61,
   "metadata": {
    "collapsed": false
   },
   "outputs": [
    {
     "data": {
      "text/plain": [
       "0.67203895548287129"
      ]
     },
     "execution_count": 61,
     "metadata": {},
     "output_type": "execute_result"
    }
   ],
   "source": [
    "pmf_sigma_meat_c.ProbGreater(pmf_sigma_beef_c)"
   ]
  },
  {
   "cell_type": "markdown",
   "metadata": {},
   "source": [
    "This shows that there is a very high probability of poultry having the fewest mean Calories per hotdog. The meat to beef comparison is much closer with meat having a probability of .57 of having a mean greater than the mean of beef.\n",
    "\n",
    "The sigmas are much closer. While all of the sigmas are similar it appears meat has the highest variation, followed by poultry, then beef, which is to say that the Calories in different individual beef hotdogs are more similar than the Calories in either of the other types. Still it appears that selecting a poultry hotdog with have the fewest Calories. \n",
    "\n",
    "Let's now look sodium values.Once again I will create an uniform distribution of mus and sigmas as well as use my nonrmal class to model the data."
   ]
  },
  {
   "cell_type": "code",
   "execution_count": 70,
   "metadata": {
    "collapsed": true
   },
   "outputs": [],
   "source": [
    "musS = np.linspace(300, 550, 101)\n",
    "sigmasS = np.linspace(20, 200, 101)"
   ]
  },
  {
   "cell_type": "markdown",
   "metadata": {},
   "source": [
    "Then I will go through all pairs of mu and sigma of type Beef Sodium and create a contour plot."
   ]
  },
  {
   "cell_type": "code",
   "execution_count": 71,
   "metadata": {
    "collapsed": false
   },
   "outputs": [
    {
     "data": {
      "image/png": "[encoded data removed]",
      "text/plain": [
       "<matplotlib.figure.Figure at 0x7f887f62a690>"
      ]
     },
     "metadata": {},
     "output_type": "display_data"
    }
   ],
   "source": [
    "beefS = Normal(product(musS, sigmasS), label = 'Beef Sodium')\n",
    "dataBS = df[df.Type=='Beef'].Sodium\n",
    "beefS.Update(dataBS)\n",
    "\n",
    "thinkplot.Contour(beefS, pcolor=True)\n",
    "thinkplot.Config(xlabel='mu', ylabel='sigma')"
   ]
  },
  {
   "cell_type": "markdown",
   "metadata": {},
   "source": [
    "I will do the same for meat."
   ]
  },
  {
   "cell_type": "code",
   "execution_count": 72,
   "metadata": {
    "collapsed": false
   },
   "outputs": [
    {
     "data": {
      "image/png": "[encoded data removed]",
      "text/plain": [
       "<matplotlib.figure.Figure at 0x7f887f62a710>"
      ]
     },
     "metadata": {},
     "output_type": "display_data"
    }
   ],
   "source": [
    "meatS = Normal(product(musS, sigmasS), label = 'Meat Sodium')\n",
    "dataMS = df[df.Type=='Meat'].Sodium\n",
    "meatS.Update(dataMS)\n",
    "\n",
    "thinkplot.Contour(meatS, pcolor=True)\n",
    "thinkplot.Config(xlabel='mu', ylabel='sigma')"
   ]
  },
  {
   "cell_type": "markdown",
   "metadata": {},
   "source": [
    "Lastly I will look at the mu and sigma distributions for poultry."
   ]
  },
  {
   "cell_type": "code",
   "execution_count": 73,
   "metadata": {
    "collapsed": false
   },
   "outputs": [
    {
     "data": {
      "image/png": "[encoded data removed]",
      "text/plain": [
       "<matplotlib.figure.Figure at 0x7f887b3d5210>"
      ]
     },
     "metadata": {},
     "output_type": "display_data"
    }
   ],
   "source": [
    "poultryS = Normal(product(musS, sigmasS), label = 'Poultry Sodium')\n",
    "dataPS = df[df.Type=='Poultry'].Sodium\n",
    "poultryS.Update(dataPS)\n",
    "\n",
    "thinkplot.Contour(poultryS, pcolor=True)\n",
    "thinkplot.Config(xlabel='mu', ylabel='sigma')"
   ]
  },
  {
   "cell_type": "markdown",
   "metadata": {},
   "source": [
    "To compare let's the data sets let's get the marginal distributions of the mus, just like before. "
   ]
  },
  {
   "cell_type": "code",
   "execution_count": 74,
   "metadata": {
    "collapsed": false
   },
   "outputs": [
    {
     "data": {
      "image/png": "[encoded data removed]",
      "text/plain": [
       "<matplotlib.figure.Figure at 0x7f887f5a4610>"
      ]
     },
     "metadata": {},
     "output_type": "display_data"
    }
   ],
   "source": [
    "pmf_mu_beef_s = beefS.Marginal(0)\n",
    "pmf_mu_meat_s = meatS.Marginal(0)\n",
    "pmf_mu_poultry_s = poultryS.Marginal(0)\n",
    "\n",
    "thinkplot.Pdf(pmf_mu_beef_s, label = 'Beef Sodium')\n",
    "thinkplot.Pdf(pmf_mu_meat_s, label = 'Meat Sodium')\n",
    "thinkplot.Pdf(pmf_mu_poultry_s, label = 'Poultry Sodium')\n",
    "thinkplot.Config(xlabel='mu', ylabel='Pmf')"
   ]
  },
  {
   "cell_type": "markdown",
   "metadata": {},
   "source": [
    "Now we can get the marginal distributions of sigma. "
   ]
  },
  {
   "cell_type": "code",
   "execution_count": 77,
   "metadata": {
    "collapsed": false
   },
   "outputs": [
    {
     "data": {
      "image/png": "[encoded data removed]",
      "text/plain": [
       "<matplotlib.figure.Figure at 0x7f887daeec10>"
      ]
     },
     "metadata": {},
     "output_type": "display_data"
    }
   ],
   "source": [
    "pmf_sigma_beef_s = beefS.Marginal(1)\n",
    "pmf_sigma_meat_s = meatS.Marginal(1)\n",
    "pmf_sigma_poultry_s = poultryS.Marginal(1)\n",
    "\n",
    "thinkplot.Pdf(pmf_sigma_beef_s, label = 'Beef Sodium')\n",
    "thinkplot.Pdf(pmf_sigma_meat_s, label = 'Meat Sodium')\n",
    "thinkplot.Pdf(pmf_sigma_poultry_s, label = 'Poultry Sodium')\n",
    "thinkplot.Config(xlabel='sigmas', ylabel='Pmf')"
   ]
  },
  {
   "cell_type": "markdown",
   "metadata": {},
   "source": [
    "Once more we will compare the probability of the means of the data being unequal. I will do these in the same order as above so first I will compare beef to poultry."
   ]
  },
  {
   "cell_type": "code",
   "execution_count": 79,
   "metadata": {
    "collapsed": false
   },
   "outputs": [
    {
     "data": {
      "text/plain": [
       "0.040029567283664087"
      ]
     },
     "execution_count": 79,
     "metadata": {},
     "output_type": "execute_result"
    }
   ],
   "source": [
    "pmf_mu_beef_s.ProbGreater(pmf_mu_poultry_s)"
   ]
  },
  {
   "cell_type": "markdown",
   "metadata": {},
   "source": [
    "Then meat to poultry."
   ]
  },
  {
   "cell_type": "code",
   "execution_count": 80,
   "metadata": {
    "collapsed": false
   },
   "outputs": [
    {
     "data": {
      "text/plain": [
       "0.10638797608219148"
      ]
     },
     "execution_count": 80,
     "metadata": {},
     "output_type": "execute_result"
    }
   ],
   "source": [
    "pmf_mu_meat_s.ProbGreater(pmf_mu_poultry_s)"
   ]
  },
  {
   "cell_type": "markdown",
   "metadata": {},
   "source": [
    "And lastly meat to beef."
   ]
  },
  {
   "cell_type": "code",
   "execution_count": 81,
   "metadata": {
    "collapsed": false
   },
   "outputs": [
    {
     "data": {
      "text/plain": [
       "0.67947533398641835"
      ]
     },
     "execution_count": 81,
     "metadata": {},
     "output_type": "execute_result"
    }
   ],
   "source": [
    "pmf_mu_meat_s.ProbGreater(pmf_mu_beef_s)"
   ]
  },
  {
   "cell_type": "markdown",
   "metadata": {},
   "source": [
    "We can also compare standard deviations using sigmas. We will do it in the same order as we did when comparing the mus."
   ]
  },
  {
   "cell_type": "code",
   "execution_count": 82,
   "metadata": {
    "collapsed": false
   },
   "outputs": [
    {
     "data": {
      "text/plain": [
       "0.75116589792464539"
      ]
     },
     "execution_count": 82,
     "metadata": {},
     "output_type": "execute_result"
    }
   ],
   "source": [
    "pmf_sigma_beef_s.ProbGreater(pmf_sigma_poultry_s)"
   ]
  },
  {
   "cell_type": "code",
   "execution_count": 83,
   "metadata": {
    "collapsed": false
   },
   "outputs": [
    {
     "data": {
      "text/plain": [
       "0.63785147276533327"
      ]
     },
     "execution_count": 83,
     "metadata": {},
     "output_type": "execute_result"
    }
   ],
   "source": [
    "pmf_sigma_meat_s.ProbGreater(pmf_sigma_poultry_s)"
   ]
  },
  {
   "cell_type": "code",
   "execution_count": 84,
   "metadata": {
    "collapsed": false
   },
   "outputs": [
    {
     "data": {
      "text/plain": [
       "0.36454261933950927"
      ]
     },
     "execution_count": 84,
     "metadata": {},
     "output_type": "execute_result"
    }
   ],
   "source": [
    "pmf_sigma_meat_s.ProbGreater(pmf_sigma_beef_s)"
   ]
  },
  {
   "cell_type": "markdown",
   "metadata": {},
   "source": [
    "This shows there is a high probability that the mean of the sodium content of the poultry of is the highest. There is a higher probability that the mean of sodium content of the meat is greater than the sodium content of the beef. The variance seems to be highest for the beef, with the second highest variance for the meat and the least variance for the poultry, showing the poultry sodium values are consistently high. \n",
    "\n",
    "It is interesting that the hotdog with the lowest mean in Calories had the highest mean in sodium (poultry). Beef on the other hand had was in the middle, but very similar to Meat, in terms of probability of highest mean Calories, but had the lowest probability of having the highest mean sodium content. Meat, had the highest probability of the highest mean Calories, and was in the middle for highest mean sodium content."
   ]
  },
  {
   "cell_type": "markdown",
   "metadata": {},
   "source": [
    "## GPS Problem\n",
    "\n",
    "This problem was written by Allen Downey.\n",
    "\n",
    "According to [Wikipedia]()\n",
    "\n",
    "￼\n",
    "> GPS included a (currently disabled) feature called Selective Availability (SA) that adds intentional, time varying errors of up to 100 meters (328 ft) to the publicly available navigation signals. This was intended to deny an enemy the use of civilian GPS receivers for precision weapon guidance.\n",
    "> [...]\n",
    "> Before it was turned off on May 2, 2000, typical SA errors were about 50 m (164 ft) horizontally and about 100 m (328 ft) vertically.[10] Because SA affects every GPS receiver in a given area almost equally, a fixed station with an accurately known position can measure the SA error values and transmit them to the local GPS receivers so they may correct their position fixes. This is called Differential GPS or DGPS. DGPS also corrects for several other important sources of GPS errors, particularly ionospheric delay, so it continues to be widely used even though SA has been turned off. The ineffectiveness of SA in the face of widely available DGPS was a common argument for turning off SA, and this was finally done by order of President Clinton in 2000.\n",
    "\n",
    "Suppose it is 1 May 2000, and you are standing in a field that is 200m square.  You are holding a GPS unit that indicates that your location is 51m north and 15m west of a known reference point in the middle of the field.\n",
    "\n",
    "However, you know that each of these coordinates has been perturbed by a \"feature\" that adds random errors with mean 0 and standard deviation 30m.\n",
    "\n",
    "1) After taking one measurement, what should you believe about your position?\n",
    "\n",
    "Note: Since the intentional errors are independent, you could solve this problem independently for X and Y.  But we'll treat it as a two-dimensional problem, partly for practice and partly to see how we could extend the solution to handle dependent errors.\n",
    "\n",
    "You can start with the code in gps.py.\n",
    "\n",
    "2) Suppose that after one second the GPS updates your position and reports coordinates (48, 90).  What should you believe now?\n",
    "\n",
    "3) Suppose you take 8 more measurements and get:\n",
    "\n",
    "    (11.903060613102866, 19.79168669735705)\n",
    "    (77.10743601503178, 39.87062906535289)\n",
    "    (80.16596823095534, -12.797927542984425)\n",
    "    (67.38157493119053, 83.52841028148538)\n",
    "    (89.43965206875271, 20.52141889230797)\n",
    "    (58.794021026248245, 30.23054016065644)\n",
    "    (2.5844401241265302, 51.012041625783766)\n",
    "    (45.58108994142448, 3.5718287379754585)\n",
    "\n",
    "At this point, how certain are you about your location?\n",
    "\n"
   ]
  },
  {
   "cell_type": "markdown",
   "metadata": {},
   "source": [
    "First we want to create a class that evaluates a "
   ]
  },
  {
   "cell_type": "markdown",
   "metadata": {},
   "source": [
    "## Project\n",
    "\n",
    "For my project..."
   ]
  }
 ],
 "metadata": {
  "kernelspec": {
   "display_name": "Python [Root]",
   "language": "python",
   "name": "Python [Root]"
  },
  "language_info": {
   "codemirror_mode": {
    "name": "ipython",
    "version": 2
   },
   "file_extension": ".py",
   "mimetype": "text/x-python",
   "name": "python",
   "nbconvert_exporter": "python",
   "pygments_lexer": "ipython2",
   "version": "2.7.12"
  }
 },
 "nbformat": 4,
 "nbformat_minor": 0
}
