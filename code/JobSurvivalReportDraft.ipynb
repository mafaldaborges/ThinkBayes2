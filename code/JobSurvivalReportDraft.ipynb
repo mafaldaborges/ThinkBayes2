{
 "cells": [
  {
   "cell_type": "markdown",
   "metadata": {},
   "source": [
    "# Getting a Job after Graduation\n"
   ]
  },
  {
   "cell_type": "code",
   "execution_count": 43,
   "metadata": {
    "collapsed": true
   },
   "outputs": [],
   "source": [
    "from __future__ import print_function, division\n",
    "\n",
    "% matplotlib inline\n",
    "import warnings\n",
    "warnings.filterwarnings('ignore')\n",
    "\n",
    "import math\n",
    "import numpy as np\n",
    "\n",
    "from thinkbayes2 import Pmf, Cdf, Suite, Joint, EvalExponentialPdf, MakePoissonPmf, MakeMixture\n",
    "from thinkbayes2 import MakeBinomialPmf\n",
    "import thinkplot\n",
    "from itertools import product\n",
    "import matplotlib.pyplot as plt"
   ]
  },
  {
   "cell_type": "markdown",
   "metadata": {},
   "source": [
    "Landing the first job after college is extremely important to both the graduates of the institution and the institution itself. For our project we decided to evaluate how quickly seniors at Olin College were able to get jobs. We used Bayesian statistics to complete a survival analysis where we evalutated how many months after the beginning of the school year Olin seniors were able to get a job. \n",
    "\n",
    "We were able to obtain data from the classes of 2012 - 2016. The data told us three things: the total size of the graduating class, how many of them had jobs upon graduation, and how many had obtained jobs before a set check-in. The check-in happened for all of the classes in December with the exception of the class of 2012, whose check-in occured in October.\n",
    "\n",
    "We generated two models, both of them utilizing Weibull distributions which predicts the distributions of lifetimes of objects. The Weibull distribution has two parameters know as k and lambda, where k is the shape paramente and lambda is the scale parameter. The inverse CDF of a Weibull distribution is a survival curve. \n",
    "\n",
    "\n",
    "\n",
    "\n",
    "Approach - Weibull/ w/Binomial\n",
    "Results? - % change of gettign job at time\n",
    "        - show marginals\n",
    "        -interpret results, make predictions"
   ]
  },
  {
   "cell_type": "markdown",
   "metadata": {},
   "source": [
    "The code for generating the Weibull probability mass function (pmf), and evaluating both Weibull probability density functions (pdf) and comulative distribution function was provided by Allen Downey. "
   ]
  },
  {
   "cell_type": "code",
   "execution_count": 44,
   "metadata": {
    "collapsed": true
   },
   "outputs": [],
   "source": [
    "def EvalWeibullPdf(x, lam, k):\n",
    "    \"\"\"Computes the Weibull PDF.\n",
    "\n",
    "    x: value\n",
    "    lam: parameter lambda in events per unit time\n",
    "    k: parameter\n",
    "\n",
    "    returns: float probability density\n",
    "    \"\"\"\n",
    "    arg = (x / lam)\n",
    "    return k / lam * arg**(k-1) * np.exp(-arg**k)\n",
    "\n",
    "def EvalWeibullCdf(x, lam, k):\n",
    "    \"\"\"Evaluates CDF of the Weibull distribution.\"\"\"\n",
    "    arg = (x / lam)\n",
    "    return 1 - np.exp(-arg**k)\n",
    "\n",
    "def MakeWeibullPmf(lam, k, high, n=200):\n",
    "    \"\"\"Makes a PMF discrete approx to a Weibull distribution.\n",
    "\n",
    "    lam: parameter lambda in events per unit time\n",
    "    k: parameter\n",
    "    high: upper bound\n",
    "    n: number of values in the Pmf\n",
    "\n",
    "    returns: normalized Pmf\n",
    "    \"\"\"\n",
    "    xs = np.linspace(0, high, n)\n",
    "    ps = EvalWeibullPdf(xs, lam, k)\n",
    "    return Pmf(dict(zip(xs, ps)))"
   ]
  },
  {
   "cell_type": "markdown",
   "metadata": {},
   "source": [
    "The first model is purely a Weibull distribution, and assumes that rate of finding jobs during the school year is similar to rate after graduation. We also assumed every student would eventually get a job, and that once a student got a job s/he would never lose it. Lastly we considered students in graduate school as not having a job. The following function evaluated the probability of obtaining a job before graduation, before the check-in, or not during that period. "
   ]
  },
  {
   "cell_type": "code",
   "execution_count": 45,
   "metadata": {
    "collapsed": true
   },
   "outputs": [],
   "source": [
    "class JobSearch(Suite, Joint):\n",
    "    \"\"\"Represents hypotheses about having a job for a student\"\"\"\n",
    "    \n",
    "    def Likelihood(self, data, hypo):\n",
    "        \"\"\"\n",
    "        lam: paramenter lambda in jobs per month\n",
    "        k: parameter\n",
    "        bg = job obtained before graduation\n",
    "        ag = job obtained after graduation and before December\n",
    "        nj = no job obtained by December\n",
    "        agoct = job obtained after graduation and before October\n",
    "        nj = no job obtained by October\n",
    "        \"\"\"\n",
    "        lam, k = hypo\n",
    "        if lam == 0:\n",
    "            return 0\n",
    "        flag = data\n",
    "        if flag == 'bg':\n",
    "            like = EvalWeibullCdf(9, lam, k)\n",
    "        elif flag == 'ag':\n",
    "            like = EvalWeibullCdf(16, lam, k) - EvalWeibullCdf(9, lam, k)\n",
    "        elif flag == 'nj':\n",
    "            like = 1- EvalWeibullCdf(16, lam, k)\n",
    "        elif flag == 'agoct':\n",
    "            like = EvalWeibullCdf(14, lam, k) - EvalWeibullCdf(9, lam, k)\n",
    "        elif flag == 'njoct':\n",
    "            like = 1- EvalWeibullCdf(14, lam, k)\n",
    "        else:\n",
    "            raise ValueError('Invalid data')\n",
    "        return like"
   ]
  },
  {
   "cell_type": "markdown",
   "metadata": {},
   "source": [
    "The data is categorized by year, and the period when the job was obtained. We then created a list that contained all of the data from the 5 classes. "
   ]
  },
  {
   "cell_type": "code",
   "execution_count": 46,
   "metadata": {
    "collapsed": true
   },
   "outputs": [],
   "source": [
    "data16 = []\n",
    "for i in range(53):\n",
    "    data16.append(('bg'))\n",
    "for i in range(9):\n",
    "    data16.append(('ag'))\n",
    "for i in range(16):\n",
    "    data16.append(('nj'))\n",
    "    \n",
    "#data for the class of 2016\n",
    "#53 members of the class had jobs before graduation\n",
    "#9 members of the class obtained jobs by December\n",
    "#16 members of the class did not have a job by December\n",
    "    \n",
    "data15 = []\n",
    "for i in range(44):\n",
    "    data15.append(('bg'))\n",
    "for i in range(22):\n",
    "    data15.append(('ag'))\n",
    "for i in range(16):\n",
    "    data15.append(('nj'))\n",
    "    \n",
    "#data for the class of 2015\n",
    "#44 members of the class had jobs before graduation\n",
    "#22 members of the class obtained jobs by December\n",
    "#16 members of the class did not have a job by December\n",
    "    \n",
    "data14 = []\n",
    "for i in range(41):\n",
    "    data14.append(('bg'))\n",
    "for i in range(20):\n",
    "    data14.append(('ag'))\n",
    "for i in range(23):\n",
    "    data14.append(('nj'))\n",
    "    \n",
    "#data for the class of 2014\n",
    "#41 members of the class had jobs before graduation\n",
    "#20 members of the class obtained jobs by December\n",
    "#23 members of the class did not have a job by December\n",
    "    \n",
    "data13 = []\n",
    "for i in range(53):\n",
    "    data13.append(('bg'))\n",
    "for i in range(6):\n",
    "    data13.append(('ag'))\n",
    "for i in range(17):\n",
    "    data13.append(('nj'))\n",
    "\n",
    "#data for the class of 2013\n",
    "#53 members of the class had jobs before graduation\n",
    "#6 members of the class obtained jobs by December\n",
    "#17 members of the class did not have a job by December\n",
    "\n",
    "data12 = []\n",
    "for i in range(50):\n",
    "    data12.append(('bg'))\n",
    "for i in range(4):\n",
    "    data12.append(('agoct'))\n",
    "for i in range(15):\n",
    "    data12.append(('njoct'))\n",
    "\n",
    "#data for the class of 2012\n",
    "#50 members of the class had jobs before graduation\n",
    "#4 members of the class obtained jobs by October\n",
    "#15 members of the class did not have a job by October\n",
    "    \n",
    "dataAll = data16 + data15 + data14 + data13 + data12\n",
    "\n",
    "#The combined dataset for all years"
   ]
  },
  {
   "cell_type": "markdown",
   "metadata": {},
   "source": [
    "Because we do not know the values of lambda and k we created a uniform distribution for both. then we updated the calss we created with the above data. "
   ]
  },
  {
   "cell_type": "code",
   "execution_count": 47,
   "metadata": {
    "collapsed": true
   },
   "outputs": [],
   "source": [
    "lams1 = np.linspace(0, 20, 101)\n",
    "ks1 = np.linspace(0, 5, 101)"
   ]
  },
  {
   "cell_type": "code",
   "execution_count": 48,
   "metadata": {
    "collapsed": false
   },
   "outputs": [
    {
     "data": {
      "text/plain": [
       "2.2925537665119478e-158"
      ]
     },
     "execution_count": 48,
     "metadata": {},
     "output_type": "execute_result"
    }
   ],
   "source": [
    "suiteAll = JobSearch(product(lams1,ks1))\n",
    "suiteAll.UpdateSet(dataAll)"
   ]
  },
  {
   "cell_type": "code",
   "execution_count": 49,
   "metadata": {
    "collapsed": false
   },
   "outputs": [
    {
     "data": {
      "image/png": "[encoded data removed]",
      "text/plain": [
       "<matplotlib.figure.Figure at 0x7fb831e29290>"
      ]
     },
     "metadata": {},
     "output_type": "display_data"
    }
   ],
   "source": [
    "pmf_lamAll = suiteAll.Marginal(0)\n",
    "thinkplot.Pdf(pmf_lamAll)"
   ]
  },
  {
   "cell_type": "code",
   "execution_count": 50,
   "metadata": {
    "collapsed": false
   },
   "outputs": [
    {
     "data": {
      "image/png": "[encoded data removed]",
      "text/plain": [
       "<matplotlib.figure.Figure at 0x7fb82f3b04d0>"
      ]
     },
     "metadata": {},
     "output_type": "display_data"
    }
   ],
   "source": [
    "pmf_kAll = suiteAll.Marginal(1)\n",
    "thinkplot.Pdf(pmf_kAll)"
   ]
  },
  {
   "cell_type": "code",
   "execution_count": 53,
   "metadata": {
    "collapsed": true
   },
   "outputs": [],
   "source": [
    "n = 100\n",
    "#Assume a graduating class of 100\n",
    "t_return = 24\n",
    "#Look at the job rate at 24 months"
   ]
  },
  {
   "cell_type": "code",
   "execution_count": 54,
   "metadata": {
    "collapsed": true
   },
   "outputs": [],
   "source": [
    "metapmfAll = Pmf()\n",
    "for (lam, k), prob in suiteAll.Items():\n",
    "    p = EvalWeibullCdf(t_return, lam, k)\n",
    "    pmf = MakeBinomialPmf(n,p)\n",
    "    metapmfAll[pmf] = prob"
   ]
  },
  {
   "cell_type": "code",
   "execution_count": 55,
   "metadata": {
    "collapsed": false
   },
   "outputs": [
    {
     "data": {
      "text/plain": [
       "88"
      ]
     },
     "execution_count": 55,
     "metadata": {},
     "output_type": "execute_result"
    },
    {
     "data": {
      "image/png": "[encoded data removed]",
      "text/plain": [
       "<matplotlib.figure.Figure at 0x7fb82f57c190>"
      ]
     },
     "metadata": {},
     "output_type": "display_data"
    }
   ],
   "source": [
    "mixAll = MakeMixture(metapmfAll)\n",
    "thinkplot.Pdf(mixAll)\n",
    "mixAll.MAP()"
   ]
  },
  {
   "cell_type": "code",
   "execution_count": 56,
   "metadata": {
    "collapsed": false
   },
   "outputs": [
    {
     "name": "stdout",
     "output_type": "stream",
     "text": [
      "Probability at 9 months 0.61687263106\n"
     ]
    }
   ],
   "source": [
    "prob = 0\n",
    "for hypo in suiteAll:\n",
    "    lam, k = hypo\n",
    "    prob += suiteAll[hypo] * EvalWeibullCdf(9, lam, k)\n",
    "print(\"Probability at 9 months\", prob)"
   ]
  },
  {
   "cell_type": "code",
   "execution_count": 57,
   "metadata": {
    "collapsed": false
   },
   "outputs": [
    {
     "name": "stdout",
     "output_type": "stream",
     "text": [
      "Probability at 12 months 0.699969631769\n"
     ]
    }
   ],
   "source": [
    "prob = 0\n",
    "for hypo in suiteAll:\n",
    "    lam, k = hypo\n",
    "    prob += suiteAll[hypo] * EvalWeibullCdf(12, lam, k)\n",
    "print(\"Probability at 12 months\", prob)"
   ]
  },
  {
   "cell_type": "code",
   "execution_count": 58,
   "metadata": {
    "collapsed": false
   },
   "outputs": [
    {
     "name": "stdout",
     "output_type": "stream",
     "text": [
      "Probability at 24 months 0.874464424167\n"
     ]
    }
   ],
   "source": [
    "prob = 0\n",
    "for hypo in suiteAll:\n",
    "    lam, k = hypo\n",
    "    prob += suiteAll[hypo] * EvalWeibullCdf(24, lam, k)\n",
    "print(\"Probability at 24 months\", prob)"
   ]
  },
  {
   "cell_type": "code",
   "execution_count": 59,
   "metadata": {
    "collapsed": false
   },
   "outputs": [
    {
     "data": {
      "text/plain": [
       "<matplotlib.text.Text at 0x7fb82ff6b310>"
      ]
     },
     "execution_count": 59,
     "metadata": {},
     "output_type": "execute_result"
    },
    {
     "data": {
      "image/png": "[encoded data removed]",
      "text/plain": [
       "<matplotlib.figure.Figure at 0x7fb82f4d36d0>"
      ]
     },
     "metadata": {},
     "output_type": "display_data"
    }
   ],
   "source": [
    "tot = []\n",
    "for i in range(24):\n",
    "    prob = 0\n",
    "    for hypo in suiteAll:\n",
    "        lam, k = hypo\n",
    "        prob += suiteAll[hypo] * EvalWeibullCdf(i, lam, k)\n",
    "    tot.append(prob)\n",
    "\n",
    "        \n",
    "plt.plot(tot)\n",
    "plt.xlabel(\"Months since beginning of senior year\")\n",
    "plt.ylabel(\"Probability of being employed\")"
   ]
  },
  {
   "cell_type": "code",
   "execution_count": null,
   "metadata": {
    "collapsed": true
   },
   "outputs": [],
   "source": []
  }
 ],
 "metadata": {
  "kernelspec": {
   "display_name": "Python [Root]",
   "language": "python",
   "name": "Python [Root]"
  },
  "language_info": {
   "codemirror_mode": {
    "name": "ipython",
    "version": 2
   },
   "file_extension": ".py",
   "mimetype": "text/x-python",
   "name": "python",
   "nbconvert_exporter": "python",
   "pygments_lexer": "ipython2",
   "version": "2.7.12"
  }
 },
 "nbformat": 4,
 "nbformat_minor": 0
}
